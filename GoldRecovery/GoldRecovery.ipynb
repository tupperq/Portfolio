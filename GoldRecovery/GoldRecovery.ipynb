{
 "cells": [
  {
   "cell_type": "markdown",
   "metadata": {
    "toc": true
   },
   "source": [
    "<h1>Содержание<span class=\"tocSkip\"></span></h1>\n",
    "<div class=\"toc\"><ul class=\"toc-item\"><li><span><a href=\"#Подготовка-данных\" data-toc-modified-id=\"Подготовка-данных-1\"><span class=\"toc-item-num\">1&nbsp;&nbsp;</span>Подготовка данных</a></span><ul class=\"toc-item\"><li><span><a href=\"#Загрузка-и-изучение-файлов\" data-toc-modified-id=\"Загрузка-и-изучение-файлов-1.1\"><span class=\"toc-item-num\">1.1&nbsp;&nbsp;</span>Загрузка и изучение файлов</a></span></li><li><span><a href=\"#Проверка-расчета-эффективность-обогащения\" data-toc-modified-id=\"Проверка-расчета-эффективность-обогащения-1.2\"><span class=\"toc-item-num\">1.2&nbsp;&nbsp;</span>Проверка расчета эффективность обогащения</a></span></li><li><span><a href=\"#Анализ-недоступных-в-тестовой-выборке-признаков\" data-toc-modified-id=\"Анализ-недоступных-в-тестовой-выборке-признаков-1.3\"><span class=\"toc-item-num\">1.3&nbsp;&nbsp;</span>Анализ недоступных в тестовой выборке признаков</a></span></li><li><span><a href=\"#Предобработка-данных\" data-toc-modified-id=\"Предобработка-данных-1.4\"><span class=\"toc-item-num\">1.4&nbsp;&nbsp;</span>Предобработка данных</a></span></li></ul></li><li><span><a href=\"#Анализ-данных\" data-toc-modified-id=\"Анализ-данных-2\"><span class=\"toc-item-num\">2&nbsp;&nbsp;</span>Анализ данных</a></span><ul class=\"toc-item\"><li><span><a href=\"#Концентрация-металлов-на-разных-этапах-очистки\" data-toc-modified-id=\"Концентрация-металлов-на-разных-этапах-очистки-2.1\"><span class=\"toc-item-num\">2.1&nbsp;&nbsp;</span>Концентрация металлов на разных этапах очистки</a></span></li><li><span><a href=\"#Распределения-размеров-гранул-сырья-на-обучающей-и-тестовой-выборках\" data-toc-modified-id=\"Распределения-размеров-гранул-сырья-на-обучающей-и-тестовой-выборках-2.2\"><span class=\"toc-item-num\">2.2&nbsp;&nbsp;</span>Распределения размеров гранул сырья на обучающей и тестовой выборках</a></span></li><li><span><a href=\"#Cуммарная-концентрация-всех-веществ-на-разных-стадиях\" data-toc-modified-id=\"Cуммарная-концентрация-всех-веществ-на-разных-стадиях-2.3\"><span class=\"toc-item-num\">2.3&nbsp;&nbsp;</span>Cуммарная концентрация всех веществ на разных стадиях</a></span></li></ul></li><li><span><a href=\"#Модель\" data-toc-modified-id=\"Модель-3\"><span class=\"toc-item-num\">3&nbsp;&nbsp;</span>Модель</a></span><ul class=\"toc-item\"><li><span><a href=\"#Выбор-модели-для-чернового-концентрата\" data-toc-modified-id=\"Выбор-модели-для-чернового-концентрата-3.1\"><span class=\"toc-item-num\">3.1&nbsp;&nbsp;</span>Выбор модели для чернового концентрата</a></span></li><li><span><a href=\"#Выбор-модели-для-финального-концентрата\" data-toc-modified-id=\"Выбор-модели-для-финального-концентрата-3.2\"><span class=\"toc-item-num\">3.2&nbsp;&nbsp;</span>Выбор модели для финального концентрата</a></span></li><li><span><a href=\"#Прогнозирование-эффективности\" data-toc-modified-id=\"Прогнозирование-эффективности-3.3\"><span class=\"toc-item-num\">3.3&nbsp;&nbsp;</span>Прогнозирование эффективности</a></span></li><li><span><a href=\"#Итоговый-sMAPE\" data-toc-modified-id=\"Итоговый-sMAPE-3.4\"><span class=\"toc-item-num\">3.4&nbsp;&nbsp;</span>Итоговый sMAPE</a></span></li></ul></li><li><span><a href=\"#Вывод\" data-toc-modified-id=\"Вывод-4\"><span class=\"toc-item-num\">4&nbsp;&nbsp;</span>Вывод</a></span></li></ul></div>"
   ]
  },
  {
   "cell_type": "markdown",
   "metadata": {},
   "source": [
    "# Восстановление золота из руды"
   ]
  },
  {
   "cell_type": "markdown",
   "metadata": {},
   "source": [
    "Подготовьте прототип модели машинного обучения для «Цифры». Компания разрабатывает решения для эффективной работы промышленных предприятий.\n",
    "\n",
    "Модель должна предсказать коэффициент восстановления золота из золотосодержащей руды. Используйте данные с параметрами добычи и очистки. \n",
    "\n",
    "Модель поможет оптимизировать производство, чтобы не запускать предприятие с убыточными характеристиками.\n",
    "\n",
    "Вам нужно:\n",
    "\n",
    "1. Подготовить данные;\n",
    "2. Провести исследовательский анализ данных;\n",
    "3. Построить и обучить модель.\n",
    "\n",
    "Чтобы выполнить проект, обращайтесь к библиотекам *pandas*, *matplotlib* и *sklearn.* Вам поможет их документация."
   ]
  },
  {
   "cell_type": "markdown",
   "metadata": {},
   "source": [
    "## Подготовка данных"
   ]
  },
  {
   "cell_type": "markdown",
   "metadata": {},
   "source": [
    "### Загрузка и изучение файлов"
   ]
  },
  {
   "cell_type": "markdown",
   "metadata": {},
   "source": [
    "Начинаем исследование с импорта необходимых библиотек и написания функций, которые будут поясняться далее!"
   ]
  },
  {
   "cell_type": "code",
   "execution_count": 1,
   "metadata": {},
   "outputs": [],
   "source": [
    "# импорт библиотек\n",
    "import pandas as pd\n",
    "import numpy as np\n",
    "import matplotlib.pyplot as plt\n",
    "\n",
    "# sklearn\n",
    "from sklearn.metrics import mean_absolute_error\n",
    "from sklearn.ensemble import RandomForestRegressor\n",
    "from sklearn.linear_model import LinearRegression\n",
    "from sklearn.tree import DecisionTreeRegressor\n",
    "from sklearn.metrics import make_scorer\n",
    "from sklearn.model_selection import GridSearchCV\n",
    "from sklearn.dummy import DummyRegressor"
   ]
  },
  {
   "cell_type": "code",
   "execution_count": 12,
   "metadata": {},
   "outputs": [],
   "source": [
    "# функция для преобработки\n",
    "def preparation(data):\n",
    "    # переводим нужные данные в datetime\n",
    "    data['date'] = pd.to_datetime(data['date'], format = '%Y-%m-%d %H:%M:%S')\n",
    "    # делаем дату индексом\n",
    "    data.index = data['date']\n",
    "    data = data.drop(['date'], axis = 1)\n",
    "    # заполняем пропуски следующим значением\n",
    "    for i in data.columns:\n",
    "        data[i] = data[i].fillna(method = 'bfill')\n",
    "    # удаляем дубликаты\n",
    "    data = data.drop_duplicates()\n",
    "    return data\n",
    "\n",
    "# функция для визуализации концентраций элементов\n",
    "def concentration(metall):\n",
    "    plt.figure(figsize=(20,10))\n",
    "    plt.hist(gold_recovery_full['rougher.input.feed_' + metall],\n",
    "             bins = 20, color = 'blue', label = 'first input', alpha = .7)\n",
    "    plt.hist(gold_recovery_full['rougher.output.concentrate_' + metall],\n",
    "             bins = 20, color = 'red', label = 'rougher output', alpha = .7)\n",
    "    plt.hist(gold_recovery_full['primary_cleaner.output.concentrate_' + metall],\n",
    "             bins = 20, color = 'yellow', label = 'primary output', alpha = .7)\n",
    "    plt.hist(gold_recovery_full['final.output.concentrate_' + metall],\n",
    "             bins = 20, color = 'green', label = 'final', alpha = .7)\n",
    "    plt.legend(loc = 'upper right')\n",
    "    plt.title(metall.upper() + ' concentration')\n",
    "    plt.xlabel('Размер гранул сырья')\n",
    "    plt.ylabel('Количество наблюдений')\n",
    "    plt.show()\n",
    "\n",
    "# функция для расчета smape\n",
    "def smape(true, preds):\n",
    "    preds = np.clip(preds, 10**-10, 10**10)\n",
    "    true = np.clip(true, 10**-10, 10**10)\n",
    "    return 1 / len(preds) * np.sum(2 * np.abs(preds - true) / (np.abs(preds) + np.abs(true)))\n",
    "\n",
    "# функция для расчета итогового smape\n",
    "def itog_smape(smape_rough, smape_final):\n",
    "    return 0.25 * smape_rough + 0.75 * smape_final"
   ]
  },
  {
   "cell_type": "code",
   "execution_count": 5,
   "metadata": {},
   "outputs": [],
   "source": [
    "# загружаем данные\n",
    "try:\n",
    "    gold_recovery_train = pd.read_csv('/datasets/gold_recovery_train_new.csv')\n",
    "    gold_recovery_test = pd.read_csv('/datasets/gold_recovery_test_new.csv')\n",
    "    gold_recovery_full = pd.read_csv('/datasets/gold_recovery_full_new.csv')\n",
    "except:\n",
    "    gold_recovery_train = pd.read_csv('C:/Users/pashu/Downloads/gold_industry_train.csv')\n",
    "    gold_recovery_test = pd.read_csv('C:/Users/pashu/Downloads/gold_industry_test.csv')\n",
    "    gold_recovery_full = pd.read_csv('C:/Users/pashu/Downloads/gold_industry_full.csv')"
   ]
  },
  {
   "cell_type": "markdown",
   "metadata": {},
   "source": [
    "Для того, чтобы ознакомиться с данными, изучаем пять строк из каждого датасета"
   ]
  },
  {
   "cell_type": "code",
   "execution_count": 6,
   "metadata": {},
   "outputs": [
    {
     "data": {
      "text/html": [
       "<div>\n",
       "<style scoped>\n",
       "    .dataframe tbody tr th:only-of-type {\n",
       "        vertical-align: middle;\n",
       "    }\n",
       "\n",
       "    .dataframe tbody tr th {\n",
       "        vertical-align: top;\n",
       "    }\n",
       "\n",
       "    .dataframe thead th {\n",
       "        text-align: right;\n",
       "    }\n",
       "</style>\n",
       "<table border=\"1\" class=\"dataframe\">\n",
       "  <thead>\n",
       "    <tr style=\"text-align: right;\">\n",
       "      <th></th>\n",
       "      <th>date</th>\n",
       "      <th>rougher.input.feed_au</th>\n",
       "      <th>rougher.input.feed_ag</th>\n",
       "      <th>rougher.input.feed_pb</th>\n",
       "      <th>rougher.input.feed_sol</th>\n",
       "      <th>rougher.input.feed_rate</th>\n",
       "      <th>rougher.input.feed_size</th>\n",
       "      <th>rougher.input.floatbank10_sulfate</th>\n",
       "      <th>rougher.input.floatbank10_xanthate</th>\n",
       "      <th>rougher.state.floatbank10_a_air</th>\n",
       "      <th>...</th>\n",
       "      <th>secondary_cleaner.output.tail_sol</th>\n",
       "      <th>final.output.concentrate_au</th>\n",
       "      <th>final.output.concentrate_ag</th>\n",
       "      <th>final.output.concentrate_pb</th>\n",
       "      <th>final.output.concentrate_sol</th>\n",
       "      <th>final.output.recovery</th>\n",
       "      <th>final.output.tail_au</th>\n",
       "      <th>final.output.tail_ag</th>\n",
       "      <th>final.output.tail_pb</th>\n",
       "      <th>final.output.tail_sol</th>\n",
       "    </tr>\n",
       "  </thead>\n",
       "  <tbody>\n",
       "    <tr>\n",
       "      <th>0</th>\n",
       "      <td>2016-01-15 00:00:00</td>\n",
       "      <td>6.486150</td>\n",
       "      <td>6.100378</td>\n",
       "      <td>2.284912</td>\n",
       "      <td>36.808594</td>\n",
       "      <td>523.546326</td>\n",
       "      <td>55.486599</td>\n",
       "      <td>11.986616</td>\n",
       "      <td>6.007990</td>\n",
       "      <td>999.706909</td>\n",
       "      <td>...</td>\n",
       "      <td>8.764648</td>\n",
       "      <td>42.192020</td>\n",
       "      <td>6.055403</td>\n",
       "      <td>9.889648</td>\n",
       "      <td>5.507324</td>\n",
       "      <td>70.541216</td>\n",
       "      <td>2.143149</td>\n",
       "      <td>10.411962</td>\n",
       "      <td>0.895447</td>\n",
       "      <td>16.904297</td>\n",
       "    </tr>\n",
       "    <tr>\n",
       "      <th>1</th>\n",
       "      <td>2016-01-15 01:00:00</td>\n",
       "      <td>6.478583</td>\n",
       "      <td>6.161113</td>\n",
       "      <td>2.266033</td>\n",
       "      <td>35.753385</td>\n",
       "      <td>525.290581</td>\n",
       "      <td>57.278666</td>\n",
       "      <td>11.971193</td>\n",
       "      <td>6.005766</td>\n",
       "      <td>1000.286398</td>\n",
       "      <td>...</td>\n",
       "      <td>9.001494</td>\n",
       "      <td>42.701629</td>\n",
       "      <td>6.029369</td>\n",
       "      <td>9.968944</td>\n",
       "      <td>5.257781</td>\n",
       "      <td>69.266198</td>\n",
       "      <td>2.224930</td>\n",
       "      <td>10.462676</td>\n",
       "      <td>0.927452</td>\n",
       "      <td>16.634514</td>\n",
       "    </tr>\n",
       "    <tr>\n",
       "      <th>2</th>\n",
       "      <td>2016-01-15 02:00:00</td>\n",
       "      <td>6.362222</td>\n",
       "      <td>6.116455</td>\n",
       "      <td>2.159622</td>\n",
       "      <td>35.971630</td>\n",
       "      <td>530.026610</td>\n",
       "      <td>57.510649</td>\n",
       "      <td>11.920603</td>\n",
       "      <td>6.197377</td>\n",
       "      <td>999.719565</td>\n",
       "      <td>...</td>\n",
       "      <td>8.842896</td>\n",
       "      <td>42.657501</td>\n",
       "      <td>6.055926</td>\n",
       "      <td>10.213995</td>\n",
       "      <td>5.383759</td>\n",
       "      <td>68.116445</td>\n",
       "      <td>2.257889</td>\n",
       "      <td>10.507046</td>\n",
       "      <td>0.953716</td>\n",
       "      <td>16.208849</td>\n",
       "    </tr>\n",
       "    <tr>\n",
       "      <th>3</th>\n",
       "      <td>2016-01-15 03:00:00</td>\n",
       "      <td>6.118189</td>\n",
       "      <td>6.043309</td>\n",
       "      <td>2.037807</td>\n",
       "      <td>36.862241</td>\n",
       "      <td>542.590390</td>\n",
       "      <td>57.792734</td>\n",
       "      <td>11.630094</td>\n",
       "      <td>6.203177</td>\n",
       "      <td>999.814770</td>\n",
       "      <td>...</td>\n",
       "      <td>9.122857</td>\n",
       "      <td>42.689819</td>\n",
       "      <td>6.047977</td>\n",
       "      <td>9.977019</td>\n",
       "      <td>4.858634</td>\n",
       "      <td>68.347543</td>\n",
       "      <td>2.146849</td>\n",
       "      <td>10.422762</td>\n",
       "      <td>0.883763</td>\n",
       "      <td>16.532835</td>\n",
       "    </tr>\n",
       "    <tr>\n",
       "      <th>4</th>\n",
       "      <td>2016-01-15 04:00:00</td>\n",
       "      <td>5.663707</td>\n",
       "      <td>6.060915</td>\n",
       "      <td>1.786875</td>\n",
       "      <td>34.347666</td>\n",
       "      <td>540.531893</td>\n",
       "      <td>56.047189</td>\n",
       "      <td>10.957755</td>\n",
       "      <td>6.198826</td>\n",
       "      <td>999.678690</td>\n",
       "      <td>...</td>\n",
       "      <td>8.871028</td>\n",
       "      <td>42.774141</td>\n",
       "      <td>6.148599</td>\n",
       "      <td>10.142511</td>\n",
       "      <td>4.939416</td>\n",
       "      <td>66.927016</td>\n",
       "      <td>2.055292</td>\n",
       "      <td>10.360302</td>\n",
       "      <td>0.792826</td>\n",
       "      <td>16.525686</td>\n",
       "    </tr>\n",
       "  </tbody>\n",
       "</table>\n",
       "<p>5 rows × 87 columns</p>\n",
       "</div>"
      ],
      "text/plain": [
       "                  date  rougher.input.feed_au  rougher.input.feed_ag  \\\n",
       "0  2016-01-15 00:00:00               6.486150               6.100378   \n",
       "1  2016-01-15 01:00:00               6.478583               6.161113   \n",
       "2  2016-01-15 02:00:00               6.362222               6.116455   \n",
       "3  2016-01-15 03:00:00               6.118189               6.043309   \n",
       "4  2016-01-15 04:00:00               5.663707               6.060915   \n",
       "\n",
       "   rougher.input.feed_pb  rougher.input.feed_sol  rougher.input.feed_rate  \\\n",
       "0               2.284912               36.808594               523.546326   \n",
       "1               2.266033               35.753385               525.290581   \n",
       "2               2.159622               35.971630               530.026610   \n",
       "3               2.037807               36.862241               542.590390   \n",
       "4               1.786875               34.347666               540.531893   \n",
       "\n",
       "   rougher.input.feed_size  rougher.input.floatbank10_sulfate  \\\n",
       "0                55.486599                          11.986616   \n",
       "1                57.278666                          11.971193   \n",
       "2                57.510649                          11.920603   \n",
       "3                57.792734                          11.630094   \n",
       "4                56.047189                          10.957755   \n",
       "\n",
       "   rougher.input.floatbank10_xanthate  rougher.state.floatbank10_a_air  ...  \\\n",
       "0                            6.007990                       999.706909  ...   \n",
       "1                            6.005766                      1000.286398  ...   \n",
       "2                            6.197377                       999.719565  ...   \n",
       "3                            6.203177                       999.814770  ...   \n",
       "4                            6.198826                       999.678690  ...   \n",
       "\n",
       "   secondary_cleaner.output.tail_sol  final.output.concentrate_au  \\\n",
       "0                           8.764648                    42.192020   \n",
       "1                           9.001494                    42.701629   \n",
       "2                           8.842896                    42.657501   \n",
       "3                           9.122857                    42.689819   \n",
       "4                           8.871028                    42.774141   \n",
       "\n",
       "   final.output.concentrate_ag  final.output.concentrate_pb  \\\n",
       "0                     6.055403                     9.889648   \n",
       "1                     6.029369                     9.968944   \n",
       "2                     6.055926                    10.213995   \n",
       "3                     6.047977                     9.977019   \n",
       "4                     6.148599                    10.142511   \n",
       "\n",
       "   final.output.concentrate_sol  final.output.recovery  final.output.tail_au  \\\n",
       "0                      5.507324              70.541216              2.143149   \n",
       "1                      5.257781              69.266198              2.224930   \n",
       "2                      5.383759              68.116445              2.257889   \n",
       "3                      4.858634              68.347543              2.146849   \n",
       "4                      4.939416              66.927016              2.055292   \n",
       "\n",
       "   final.output.tail_ag  final.output.tail_pb  final.output.tail_sol  \n",
       "0             10.411962              0.895447              16.904297  \n",
       "1             10.462676              0.927452              16.634514  \n",
       "2             10.507046              0.953716              16.208849  \n",
       "3             10.422762              0.883763              16.532835  \n",
       "4             10.360302              0.792826              16.525686  \n",
       "\n",
       "[5 rows x 87 columns]"
      ]
     },
     "execution_count": 6,
     "metadata": {},
     "output_type": "execute_result"
    }
   ],
   "source": [
    "gold_recovery_full.head(5)"
   ]
  },
  {
   "cell_type": "code",
   "execution_count": 7,
   "metadata": {},
   "outputs": [
    {
     "data": {
      "text/html": [
       "<div>\n",
       "<style scoped>\n",
       "    .dataframe tbody tr th:only-of-type {\n",
       "        vertical-align: middle;\n",
       "    }\n",
       "\n",
       "    .dataframe tbody tr th {\n",
       "        vertical-align: top;\n",
       "    }\n",
       "\n",
       "    .dataframe thead th {\n",
       "        text-align: right;\n",
       "    }\n",
       "</style>\n",
       "<table border=\"1\" class=\"dataframe\">\n",
       "  <thead>\n",
       "    <tr style=\"text-align: right;\">\n",
       "      <th></th>\n",
       "      <th>date</th>\n",
       "      <th>rougher.input.feed_au</th>\n",
       "      <th>rougher.input.feed_ag</th>\n",
       "      <th>rougher.input.feed_pb</th>\n",
       "      <th>rougher.input.feed_sol</th>\n",
       "      <th>rougher.input.feed_rate</th>\n",
       "      <th>rougher.input.feed_size</th>\n",
       "      <th>rougher.input.floatbank10_sulfate</th>\n",
       "      <th>rougher.input.floatbank10_xanthate</th>\n",
       "      <th>rougher.state.floatbank10_a_air</th>\n",
       "      <th>...</th>\n",
       "      <th>secondary_cleaner.state.floatbank4_a_air</th>\n",
       "      <th>secondary_cleaner.state.floatbank4_a_level</th>\n",
       "      <th>secondary_cleaner.state.floatbank4_b_air</th>\n",
       "      <th>secondary_cleaner.state.floatbank4_b_level</th>\n",
       "      <th>secondary_cleaner.state.floatbank5_a_air</th>\n",
       "      <th>secondary_cleaner.state.floatbank5_a_level</th>\n",
       "      <th>secondary_cleaner.state.floatbank5_b_air</th>\n",
       "      <th>secondary_cleaner.state.floatbank5_b_level</th>\n",
       "      <th>secondary_cleaner.state.floatbank6_a_air</th>\n",
       "      <th>secondary_cleaner.state.floatbank6_a_level</th>\n",
       "    </tr>\n",
       "  </thead>\n",
       "  <tbody>\n",
       "    <tr>\n",
       "      <th>0</th>\n",
       "      <td>2017-12-09 14:59:59</td>\n",
       "      <td>4.365491</td>\n",
       "      <td>6.158718</td>\n",
       "      <td>3.875727</td>\n",
       "      <td>39.135119</td>\n",
       "      <td>555.820208</td>\n",
       "      <td>94.544358</td>\n",
       "      <td>6.146982</td>\n",
       "      <td>9.308612</td>\n",
       "      <td>1196.238112</td>\n",
       "      <td>...</td>\n",
       "      <td>23.018622</td>\n",
       "      <td>-500.492702</td>\n",
       "      <td>20.020205</td>\n",
       "      <td>-500.220296</td>\n",
       "      <td>17.963512</td>\n",
       "      <td>-499.939490</td>\n",
       "      <td>12.990306</td>\n",
       "      <td>-500.080993</td>\n",
       "      <td>19.990336</td>\n",
       "      <td>-499.191575</td>\n",
       "    </tr>\n",
       "    <tr>\n",
       "      <th>1</th>\n",
       "      <td>2017-12-09 15:59:59</td>\n",
       "      <td>4.362781</td>\n",
       "      <td>6.048130</td>\n",
       "      <td>3.902537</td>\n",
       "      <td>39.713906</td>\n",
       "      <td>544.731687</td>\n",
       "      <td>123.742430</td>\n",
       "      <td>6.210119</td>\n",
       "      <td>9.297709</td>\n",
       "      <td>1201.904177</td>\n",
       "      <td>...</td>\n",
       "      <td>23.024963</td>\n",
       "      <td>-501.153409</td>\n",
       "      <td>20.054122</td>\n",
       "      <td>-500.314711</td>\n",
       "      <td>17.979515</td>\n",
       "      <td>-499.272871</td>\n",
       "      <td>12.992404</td>\n",
       "      <td>-499.976268</td>\n",
       "      <td>20.013986</td>\n",
       "      <td>-500.625471</td>\n",
       "    </tr>\n",
       "    <tr>\n",
       "      <th>2</th>\n",
       "      <td>2017-12-09 16:59:59</td>\n",
       "      <td>5.081681</td>\n",
       "      <td>6.082745</td>\n",
       "      <td>4.564078</td>\n",
       "      <td>37.208683</td>\n",
       "      <td>558.155110</td>\n",
       "      <td>82.610855</td>\n",
       "      <td>7.363824</td>\n",
       "      <td>9.003562</td>\n",
       "      <td>1200.826926</td>\n",
       "      <td>...</td>\n",
       "      <td>22.993827</td>\n",
       "      <td>-501.559663</td>\n",
       "      <td>20.029144</td>\n",
       "      <td>-500.000662</td>\n",
       "      <td>18.012723</td>\n",
       "      <td>-500.024764</td>\n",
       "      <td>13.016445</td>\n",
       "      <td>-500.058432</td>\n",
       "      <td>19.973767</td>\n",
       "      <td>-501.394155</td>\n",
       "    </tr>\n",
       "    <tr>\n",
       "      <th>3</th>\n",
       "      <td>2017-12-09 17:59:59</td>\n",
       "      <td>5.145949</td>\n",
       "      <td>6.084374</td>\n",
       "      <td>4.768124</td>\n",
       "      <td>36.808874</td>\n",
       "      <td>539.713765</td>\n",
       "      <td>77.984784</td>\n",
       "      <td>6.927072</td>\n",
       "      <td>8.955597</td>\n",
       "      <td>1199.292489</td>\n",
       "      <td>...</td>\n",
       "      <td>23.032807</td>\n",
       "      <td>-501.287889</td>\n",
       "      <td>19.977466</td>\n",
       "      <td>-500.159903</td>\n",
       "      <td>17.980463</td>\n",
       "      <td>-500.504602</td>\n",
       "      <td>12.949071</td>\n",
       "      <td>-500.009937</td>\n",
       "      <td>20.010332</td>\n",
       "      <td>-508.337973</td>\n",
       "    </tr>\n",
       "    <tr>\n",
       "      <th>4</th>\n",
       "      <td>2017-12-09 18:59:59</td>\n",
       "      <td>5.735249</td>\n",
       "      <td>6.165220</td>\n",
       "      <td>4.512346</td>\n",
       "      <td>37.810642</td>\n",
       "      <td>558.713584</td>\n",
       "      <td>86.434874</td>\n",
       "      <td>7.823471</td>\n",
       "      <td>7.490356</td>\n",
       "      <td>1198.005449</td>\n",
       "      <td>...</td>\n",
       "      <td>23.001911</td>\n",
       "      <td>-499.947838</td>\n",
       "      <td>20.023735</td>\n",
       "      <td>-499.713680</td>\n",
       "      <td>17.990955</td>\n",
       "      <td>-500.334769</td>\n",
       "      <td>13.007523</td>\n",
       "      <td>-499.968459</td>\n",
       "      <td>19.995999</td>\n",
       "      <td>-499.788805</td>\n",
       "    </tr>\n",
       "  </tbody>\n",
       "</table>\n",
       "<p>5 rows × 53 columns</p>\n",
       "</div>"
      ],
      "text/plain": [
       "                  date  rougher.input.feed_au  rougher.input.feed_ag  \\\n",
       "0  2017-12-09 14:59:59               4.365491               6.158718   \n",
       "1  2017-12-09 15:59:59               4.362781               6.048130   \n",
       "2  2017-12-09 16:59:59               5.081681               6.082745   \n",
       "3  2017-12-09 17:59:59               5.145949               6.084374   \n",
       "4  2017-12-09 18:59:59               5.735249               6.165220   \n",
       "\n",
       "   rougher.input.feed_pb  rougher.input.feed_sol  rougher.input.feed_rate  \\\n",
       "0               3.875727               39.135119               555.820208   \n",
       "1               3.902537               39.713906               544.731687   \n",
       "2               4.564078               37.208683               558.155110   \n",
       "3               4.768124               36.808874               539.713765   \n",
       "4               4.512346               37.810642               558.713584   \n",
       "\n",
       "   rougher.input.feed_size  rougher.input.floatbank10_sulfate  \\\n",
       "0                94.544358                           6.146982   \n",
       "1               123.742430                           6.210119   \n",
       "2                82.610855                           7.363824   \n",
       "3                77.984784                           6.927072   \n",
       "4                86.434874                           7.823471   \n",
       "\n",
       "   rougher.input.floatbank10_xanthate  rougher.state.floatbank10_a_air  ...  \\\n",
       "0                            9.308612                      1196.238112  ...   \n",
       "1                            9.297709                      1201.904177  ...   \n",
       "2                            9.003562                      1200.826926  ...   \n",
       "3                            8.955597                      1199.292489  ...   \n",
       "4                            7.490356                      1198.005449  ...   \n",
       "\n",
       "   secondary_cleaner.state.floatbank4_a_air  \\\n",
       "0                                 23.018622   \n",
       "1                                 23.024963   \n",
       "2                                 22.993827   \n",
       "3                                 23.032807   \n",
       "4                                 23.001911   \n",
       "\n",
       "   secondary_cleaner.state.floatbank4_a_level  \\\n",
       "0                                 -500.492702   \n",
       "1                                 -501.153409   \n",
       "2                                 -501.559663   \n",
       "3                                 -501.287889   \n",
       "4                                 -499.947838   \n",
       "\n",
       "   secondary_cleaner.state.floatbank4_b_air  \\\n",
       "0                                 20.020205   \n",
       "1                                 20.054122   \n",
       "2                                 20.029144   \n",
       "3                                 19.977466   \n",
       "4                                 20.023735   \n",
       "\n",
       "   secondary_cleaner.state.floatbank4_b_level  \\\n",
       "0                                 -500.220296   \n",
       "1                                 -500.314711   \n",
       "2                                 -500.000662   \n",
       "3                                 -500.159903   \n",
       "4                                 -499.713680   \n",
       "\n",
       "   secondary_cleaner.state.floatbank5_a_air  \\\n",
       "0                                 17.963512   \n",
       "1                                 17.979515   \n",
       "2                                 18.012723   \n",
       "3                                 17.980463   \n",
       "4                                 17.990955   \n",
       "\n",
       "   secondary_cleaner.state.floatbank5_a_level  \\\n",
       "0                                 -499.939490   \n",
       "1                                 -499.272871   \n",
       "2                                 -500.024764   \n",
       "3                                 -500.504602   \n",
       "4                                 -500.334769   \n",
       "\n",
       "   secondary_cleaner.state.floatbank5_b_air  \\\n",
       "0                                 12.990306   \n",
       "1                                 12.992404   \n",
       "2                                 13.016445   \n",
       "3                                 12.949071   \n",
       "4                                 13.007523   \n",
       "\n",
       "   secondary_cleaner.state.floatbank5_b_level  \\\n",
       "0                                 -500.080993   \n",
       "1                                 -499.976268   \n",
       "2                                 -500.058432   \n",
       "3                                 -500.009937   \n",
       "4                                 -499.968459   \n",
       "\n",
       "   secondary_cleaner.state.floatbank6_a_air  \\\n",
       "0                                 19.990336   \n",
       "1                                 20.013986   \n",
       "2                                 19.973767   \n",
       "3                                 20.010332   \n",
       "4                                 19.995999   \n",
       "\n",
       "   secondary_cleaner.state.floatbank6_a_level  \n",
       "0                                 -499.191575  \n",
       "1                                 -500.625471  \n",
       "2                                 -501.394155  \n",
       "3                                 -508.337973  \n",
       "4                                 -499.788805  \n",
       "\n",
       "[5 rows x 53 columns]"
      ]
     },
     "execution_count": 7,
     "metadata": {},
     "output_type": "execute_result"
    }
   ],
   "source": [
    "gold_recovery_test.head(5)"
   ]
  },
  {
   "cell_type": "code",
   "execution_count": 8,
   "metadata": {},
   "outputs": [
    {
     "data": {
      "text/html": [
       "<div>\n",
       "<style scoped>\n",
       "    .dataframe tbody tr th:only-of-type {\n",
       "        vertical-align: middle;\n",
       "    }\n",
       "\n",
       "    .dataframe tbody tr th {\n",
       "        vertical-align: top;\n",
       "    }\n",
       "\n",
       "    .dataframe thead th {\n",
       "        text-align: right;\n",
       "    }\n",
       "</style>\n",
       "<table border=\"1\" class=\"dataframe\">\n",
       "  <thead>\n",
       "    <tr style=\"text-align: right;\">\n",
       "      <th></th>\n",
       "      <th>date</th>\n",
       "      <th>rougher.input.feed_au</th>\n",
       "      <th>rougher.input.feed_ag</th>\n",
       "      <th>rougher.input.feed_pb</th>\n",
       "      <th>rougher.input.feed_sol</th>\n",
       "      <th>rougher.input.feed_rate</th>\n",
       "      <th>rougher.input.feed_size</th>\n",
       "      <th>rougher.input.floatbank10_sulfate</th>\n",
       "      <th>rougher.input.floatbank10_xanthate</th>\n",
       "      <th>rougher.state.floatbank10_a_air</th>\n",
       "      <th>...</th>\n",
       "      <th>secondary_cleaner.output.tail_sol</th>\n",
       "      <th>final.output.concentrate_au</th>\n",
       "      <th>final.output.concentrate_ag</th>\n",
       "      <th>final.output.concentrate_pb</th>\n",
       "      <th>final.output.concentrate_sol</th>\n",
       "      <th>final.output.recovery</th>\n",
       "      <th>final.output.tail_au</th>\n",
       "      <th>final.output.tail_ag</th>\n",
       "      <th>final.output.tail_pb</th>\n",
       "      <th>final.output.tail_sol</th>\n",
       "    </tr>\n",
       "  </thead>\n",
       "  <tbody>\n",
       "    <tr>\n",
       "      <th>0</th>\n",
       "      <td>2016-01-15 00:00:00</td>\n",
       "      <td>6.486150</td>\n",
       "      <td>6.100378</td>\n",
       "      <td>2.284912</td>\n",
       "      <td>36.808594</td>\n",
       "      <td>523.546326</td>\n",
       "      <td>55.486599</td>\n",
       "      <td>11.986616</td>\n",
       "      <td>6.007990</td>\n",
       "      <td>999.706909</td>\n",
       "      <td>...</td>\n",
       "      <td>8.764648</td>\n",
       "      <td>42.192020</td>\n",
       "      <td>6.055403</td>\n",
       "      <td>9.889648</td>\n",
       "      <td>5.507324</td>\n",
       "      <td>70.541216</td>\n",
       "      <td>2.143149</td>\n",
       "      <td>10.411962</td>\n",
       "      <td>0.895447</td>\n",
       "      <td>16.904297</td>\n",
       "    </tr>\n",
       "    <tr>\n",
       "      <th>1</th>\n",
       "      <td>2016-01-15 01:00:00</td>\n",
       "      <td>6.478583</td>\n",
       "      <td>6.161113</td>\n",
       "      <td>2.266033</td>\n",
       "      <td>35.753385</td>\n",
       "      <td>525.290581</td>\n",
       "      <td>57.278666</td>\n",
       "      <td>11.971193</td>\n",
       "      <td>6.005766</td>\n",
       "      <td>1000.286398</td>\n",
       "      <td>...</td>\n",
       "      <td>9.001494</td>\n",
       "      <td>42.701629</td>\n",
       "      <td>6.029369</td>\n",
       "      <td>9.968944</td>\n",
       "      <td>5.257781</td>\n",
       "      <td>69.266198</td>\n",
       "      <td>2.224930</td>\n",
       "      <td>10.462676</td>\n",
       "      <td>0.927452</td>\n",
       "      <td>16.634514</td>\n",
       "    </tr>\n",
       "    <tr>\n",
       "      <th>2</th>\n",
       "      <td>2016-01-15 02:00:00</td>\n",
       "      <td>6.362222</td>\n",
       "      <td>6.116455</td>\n",
       "      <td>2.159622</td>\n",
       "      <td>35.971630</td>\n",
       "      <td>530.026610</td>\n",
       "      <td>57.510649</td>\n",
       "      <td>11.920603</td>\n",
       "      <td>6.197377</td>\n",
       "      <td>999.719565</td>\n",
       "      <td>...</td>\n",
       "      <td>8.842896</td>\n",
       "      <td>42.657501</td>\n",
       "      <td>6.055926</td>\n",
       "      <td>10.213995</td>\n",
       "      <td>5.383759</td>\n",
       "      <td>68.116445</td>\n",
       "      <td>2.257889</td>\n",
       "      <td>10.507046</td>\n",
       "      <td>0.953716</td>\n",
       "      <td>16.208849</td>\n",
       "    </tr>\n",
       "    <tr>\n",
       "      <th>3</th>\n",
       "      <td>2016-01-15 03:00:00</td>\n",
       "      <td>6.118189</td>\n",
       "      <td>6.043309</td>\n",
       "      <td>2.037807</td>\n",
       "      <td>36.862241</td>\n",
       "      <td>542.590390</td>\n",
       "      <td>57.792734</td>\n",
       "      <td>11.630094</td>\n",
       "      <td>6.203177</td>\n",
       "      <td>999.814770</td>\n",
       "      <td>...</td>\n",
       "      <td>9.122857</td>\n",
       "      <td>42.689819</td>\n",
       "      <td>6.047977</td>\n",
       "      <td>9.977019</td>\n",
       "      <td>4.858634</td>\n",
       "      <td>68.347543</td>\n",
       "      <td>2.146849</td>\n",
       "      <td>10.422762</td>\n",
       "      <td>0.883763</td>\n",
       "      <td>16.532835</td>\n",
       "    </tr>\n",
       "    <tr>\n",
       "      <th>4</th>\n",
       "      <td>2016-01-15 04:00:00</td>\n",
       "      <td>5.663707</td>\n",
       "      <td>6.060915</td>\n",
       "      <td>1.786875</td>\n",
       "      <td>34.347666</td>\n",
       "      <td>540.531893</td>\n",
       "      <td>56.047189</td>\n",
       "      <td>10.957755</td>\n",
       "      <td>6.198826</td>\n",
       "      <td>999.678690</td>\n",
       "      <td>...</td>\n",
       "      <td>8.871028</td>\n",
       "      <td>42.774141</td>\n",
       "      <td>6.148599</td>\n",
       "      <td>10.142511</td>\n",
       "      <td>4.939416</td>\n",
       "      <td>66.927016</td>\n",
       "      <td>2.055292</td>\n",
       "      <td>10.360302</td>\n",
       "      <td>0.792826</td>\n",
       "      <td>16.525686</td>\n",
       "    </tr>\n",
       "  </tbody>\n",
       "</table>\n",
       "<p>5 rows × 87 columns</p>\n",
       "</div>"
      ],
      "text/plain": [
       "                  date  rougher.input.feed_au  rougher.input.feed_ag  \\\n",
       "0  2016-01-15 00:00:00               6.486150               6.100378   \n",
       "1  2016-01-15 01:00:00               6.478583               6.161113   \n",
       "2  2016-01-15 02:00:00               6.362222               6.116455   \n",
       "3  2016-01-15 03:00:00               6.118189               6.043309   \n",
       "4  2016-01-15 04:00:00               5.663707               6.060915   \n",
       "\n",
       "   rougher.input.feed_pb  rougher.input.feed_sol  rougher.input.feed_rate  \\\n",
       "0               2.284912               36.808594               523.546326   \n",
       "1               2.266033               35.753385               525.290581   \n",
       "2               2.159622               35.971630               530.026610   \n",
       "3               2.037807               36.862241               542.590390   \n",
       "4               1.786875               34.347666               540.531893   \n",
       "\n",
       "   rougher.input.feed_size  rougher.input.floatbank10_sulfate  \\\n",
       "0                55.486599                          11.986616   \n",
       "1                57.278666                          11.971193   \n",
       "2                57.510649                          11.920603   \n",
       "3                57.792734                          11.630094   \n",
       "4                56.047189                          10.957755   \n",
       "\n",
       "   rougher.input.floatbank10_xanthate  rougher.state.floatbank10_a_air  ...  \\\n",
       "0                            6.007990                       999.706909  ...   \n",
       "1                            6.005766                      1000.286398  ...   \n",
       "2                            6.197377                       999.719565  ...   \n",
       "3                            6.203177                       999.814770  ...   \n",
       "4                            6.198826                       999.678690  ...   \n",
       "\n",
       "   secondary_cleaner.output.tail_sol  final.output.concentrate_au  \\\n",
       "0                           8.764648                    42.192020   \n",
       "1                           9.001494                    42.701629   \n",
       "2                           8.842896                    42.657501   \n",
       "3                           9.122857                    42.689819   \n",
       "4                           8.871028                    42.774141   \n",
       "\n",
       "   final.output.concentrate_ag  final.output.concentrate_pb  \\\n",
       "0                     6.055403                     9.889648   \n",
       "1                     6.029369                     9.968944   \n",
       "2                     6.055926                    10.213995   \n",
       "3                     6.047977                     9.977019   \n",
       "4                     6.148599                    10.142511   \n",
       "\n",
       "   final.output.concentrate_sol  final.output.recovery  final.output.tail_au  \\\n",
       "0                      5.507324              70.541216              2.143149   \n",
       "1                      5.257781              69.266198              2.224930   \n",
       "2                      5.383759              68.116445              2.257889   \n",
       "3                      4.858634              68.347543              2.146849   \n",
       "4                      4.939416              66.927016              2.055292   \n",
       "\n",
       "   final.output.tail_ag  final.output.tail_pb  final.output.tail_sol  \n",
       "0             10.411962              0.895447              16.904297  \n",
       "1             10.462676              0.927452              16.634514  \n",
       "2             10.507046              0.953716              16.208849  \n",
       "3             10.422762              0.883763              16.532835  \n",
       "4             10.360302              0.792826              16.525686  \n",
       "\n",
       "[5 rows x 87 columns]"
      ]
     },
     "execution_count": 8,
     "metadata": {},
     "output_type": "execute_result"
    }
   ],
   "source": [
    "gold_recovery_train.head(5)"
   ]
  },
  {
   "cell_type": "markdown",
   "metadata": {},
   "source": [
    "### Проверка расчета эффективности обогащения"
   ]
  },
  {
   "cell_type": "code",
   "execution_count": 9,
   "metadata": {},
   "outputs": [
    {
     "data": {
      "text/plain": [
       "9.83758577644259e-15"
      ]
     },
     "execution_count": 9,
     "metadata": {},
     "output_type": "execute_result"
    }
   ],
   "source": [
    "# проверяем в ручную коэф. обогащения \n",
    "\n",
    "C = gold_recovery_train['rougher.output.concentrate_au']\n",
    "F = gold_recovery_train['rougher.input.feed_au']\n",
    "T = gold_recovery_train['rougher.output.tail_au']\n",
    "\n",
    "gold_recovery_train['rougher.output.recovery_2'] = (C * (F - T)) / (F * (C - T)) * 100\n",
    "\n",
    "mean_absolute_error(gold_recovery_train['rougher.output.recovery'], gold_recovery_train['rougher.output.recovery_2'])"
   ]
  },
  {
   "cell_type": "markdown",
   "metadata": {},
   "source": [
    "При проверке выяснилось, что наши расчеты отличаются на крайне малую величину из-за особенностей языка, что подтвержает правильность имеющихся расчетов обогащения."
   ]
  },
  {
   "cell_type": "markdown",
   "metadata": {},
   "source": [
    "### Анализ недоступных в тестовой выборке признаков"
   ]
  },
  {
   "cell_type": "markdown",
   "metadata": {},
   "source": [
    "Для того, чтобы узнать, какие признаки отсутсвуют в тестовой выборке, смотрим на названия стоблцов в двух датасетах: полном и тестовом."
   ]
  },
  {
   "cell_type": "code",
   "execution_count": 10,
   "metadata": {},
   "outputs": [
    {
     "name": "stdout",
     "output_type": "stream",
     "text": [
      "<class 'pandas.core.frame.DataFrame'>\n",
      "RangeIndex: 4860 entries, 0 to 4859\n",
      "Data columns (total 53 columns):\n",
      " #   Column                                      Non-Null Count  Dtype  \n",
      "---  ------                                      --------------  -----  \n",
      " 0   date                                        4860 non-null   object \n",
      " 1   rougher.input.feed_au                       4860 non-null   float64\n",
      " 2   rougher.input.feed_ag                       4860 non-null   float64\n",
      " 3   rougher.input.feed_pb                       4832 non-null   float64\n",
      " 4   rougher.input.feed_sol                      4838 non-null   float64\n",
      " 5   rougher.input.feed_rate                     4856 non-null   float64\n",
      " 6   rougher.input.feed_size                     4816 non-null   float64\n",
      " 7   rougher.input.floatbank10_sulfate           4857 non-null   float64\n",
      " 8   rougher.input.floatbank10_xanthate          4859 non-null   float64\n",
      " 9   rougher.state.floatbank10_a_air             4859 non-null   float64\n",
      " 10  rougher.state.floatbank10_a_level           4859 non-null   float64\n",
      " 11  rougher.state.floatbank10_b_air             4859 non-null   float64\n",
      " 12  rougher.state.floatbank10_b_level           4859 non-null   float64\n",
      " 13  rougher.state.floatbank10_c_air             4859 non-null   float64\n",
      " 14  rougher.state.floatbank10_c_level           4859 non-null   float64\n",
      " 15  rougher.state.floatbank10_d_air             4860 non-null   float64\n",
      " 16  rougher.state.floatbank10_d_level           4860 non-null   float64\n",
      " 17  rougher.state.floatbank10_e_air             4853 non-null   float64\n",
      " 18  rougher.state.floatbank10_e_level           4860 non-null   float64\n",
      " 19  rougher.state.floatbank10_f_air             4860 non-null   float64\n",
      " 20  rougher.state.floatbank10_f_level           4860 non-null   float64\n",
      " 21  rougher.input.floatbank11_sulfate           4852 non-null   float64\n",
      " 22  rougher.input.floatbank11_xanthate          4814 non-null   float64\n",
      " 23  primary_cleaner.input.sulfate               4859 non-null   float64\n",
      " 24  primary_cleaner.input.depressant            4851 non-null   float64\n",
      " 25  primary_cleaner.input.feed_size             4860 non-null   float64\n",
      " 26  primary_cleaner.input.xanthate              4817 non-null   float64\n",
      " 27  primary_cleaner.state.floatbank8_a_air      4859 non-null   float64\n",
      " 28  primary_cleaner.state.floatbank8_a_level    4859 non-null   float64\n",
      " 29  primary_cleaner.state.floatbank8_b_air      4859 non-null   float64\n",
      " 30  primary_cleaner.state.floatbank8_b_level    4859 non-null   float64\n",
      " 31  primary_cleaner.state.floatbank8_c_air      4858 non-null   float64\n",
      " 32  primary_cleaner.state.floatbank8_c_level    4859 non-null   float64\n",
      " 33  primary_cleaner.state.floatbank8_d_air      4858 non-null   float64\n",
      " 34  primary_cleaner.state.floatbank8_d_level    4859 non-null   float64\n",
      " 35  secondary_cleaner.state.floatbank2_a_air    4734 non-null   float64\n",
      " 36  secondary_cleaner.state.floatbank2_a_level  4859 non-null   float64\n",
      " 37  secondary_cleaner.state.floatbank2_b_air    4859 non-null   float64\n",
      " 38  secondary_cleaner.state.floatbank2_b_level  4859 non-null   float64\n",
      " 39  secondary_cleaner.state.floatbank3_a_air    4859 non-null   float64\n",
      " 40  secondary_cleaner.state.floatbank3_a_level  4859 non-null   float64\n",
      " 41  secondary_cleaner.state.floatbank3_b_air    4859 non-null   float64\n",
      " 42  secondary_cleaner.state.floatbank3_b_level  4859 non-null   float64\n",
      " 43  secondary_cleaner.state.floatbank4_a_air    4859 non-null   float64\n",
      " 44  secondary_cleaner.state.floatbank4_a_level  4859 non-null   float64\n",
      " 45  secondary_cleaner.state.floatbank4_b_air    4859 non-null   float64\n",
      " 46  secondary_cleaner.state.floatbank4_b_level  4859 non-null   float64\n",
      " 47  secondary_cleaner.state.floatbank5_a_air    4859 non-null   float64\n",
      " 48  secondary_cleaner.state.floatbank5_a_level  4859 non-null   float64\n",
      " 49  secondary_cleaner.state.floatbank5_b_air    4859 non-null   float64\n",
      " 50  secondary_cleaner.state.floatbank5_b_level  4859 non-null   float64\n",
      " 51  secondary_cleaner.state.floatbank6_a_air    4859 non-null   float64\n",
      " 52  secondary_cleaner.state.floatbank6_a_level  4859 non-null   float64\n",
      "dtypes: float64(52), object(1)\n",
      "memory usage: 2.0+ MB\n"
     ]
    }
   ],
   "source": [
    "gold_recovery_test.info()"
   ]
  },
  {
   "cell_type": "code",
   "execution_count": 11,
   "metadata": {},
   "outputs": [
    {
     "name": "stdout",
     "output_type": "stream",
     "text": [
      "<class 'pandas.core.frame.DataFrame'>\n",
      "RangeIndex: 19439 entries, 0 to 19438\n",
      "Data columns (total 87 columns):\n",
      " #   Column                                              Non-Null Count  Dtype  \n",
      "---  ------                                              --------------  -----  \n",
      " 0   date                                                19439 non-null  object \n",
      " 1   rougher.input.feed_au                               19439 non-null  float64\n",
      " 2   rougher.input.feed_ag                               19439 non-null  float64\n",
      " 3   rougher.input.feed_pb                               19339 non-null  float64\n",
      " 4   rougher.input.feed_sol                              19340 non-null  float64\n",
      " 5   rougher.input.feed_rate                             19428 non-null  float64\n",
      " 6   rougher.input.feed_size                             19294 non-null  float64\n",
      " 7   rougher.input.floatbank10_sulfate                   19405 non-null  float64\n",
      " 8   rougher.input.floatbank10_xanthate                  19431 non-null  float64\n",
      " 9   rougher.state.floatbank10_a_air                     19438 non-null  float64\n",
      " 10  rougher.state.floatbank10_a_level                   19438 non-null  float64\n",
      " 11  rougher.state.floatbank10_b_air                     19438 non-null  float64\n",
      " 12  rougher.state.floatbank10_b_level                   19438 non-null  float64\n",
      " 13  rougher.state.floatbank10_c_air                     19438 non-null  float64\n",
      " 14  rougher.state.floatbank10_c_level                   19438 non-null  float64\n",
      " 15  rougher.state.floatbank10_d_air                     19439 non-null  float64\n",
      " 16  rougher.state.floatbank10_d_level                   19439 non-null  float64\n",
      " 17  rougher.state.floatbank10_e_air                     19003 non-null  float64\n",
      " 18  rougher.state.floatbank10_e_level                   19439 non-null  float64\n",
      " 19  rougher.state.floatbank10_f_air                     19439 non-null  float64\n",
      " 20  rougher.state.floatbank10_f_level                   19439 non-null  float64\n",
      " 21  rougher.input.floatbank11_sulfate                   19395 non-null  float64\n",
      " 22  rougher.input.floatbank11_xanthate                  18986 non-null  float64\n",
      " 23  rougher.calculation.sulfate_to_au_concentrate       19437 non-null  float64\n",
      " 24  rougher.calculation.floatbank10_sulfate_to_au_feed  19437 non-null  float64\n",
      " 25  rougher.calculation.floatbank11_sulfate_to_au_feed  19437 non-null  float64\n",
      " 26  rougher.calculation.au_pb_ratio                     19439 non-null  float64\n",
      " 27  rougher.output.concentrate_au                       19439 non-null  float64\n",
      " 28  rougher.output.concentrate_ag                       19439 non-null  float64\n",
      " 29  rougher.output.concentrate_pb                       19439 non-null  float64\n",
      " 30  rougher.output.concentrate_sol                      19416 non-null  float64\n",
      " 31  rougher.output.recovery                             19439 non-null  float64\n",
      " 32  rougher.output.tail_au                              19439 non-null  float64\n",
      " 33  rougher.output.tail_ag                              19438 non-null  float64\n",
      " 34  rougher.output.tail_pb                              19439 non-null  float64\n",
      " 35  rougher.output.tail_sol                             19439 non-null  float64\n",
      " 36  primary_cleaner.input.sulfate                       19415 non-null  float64\n",
      " 37  primary_cleaner.input.depressant                    19402 non-null  float64\n",
      " 38  primary_cleaner.input.feed_size                     19439 non-null  float64\n",
      " 39  primary_cleaner.input.xanthate                      19335 non-null  float64\n",
      " 40  primary_cleaner.state.floatbank8_a_air              19435 non-null  float64\n",
      " 41  primary_cleaner.state.floatbank8_a_level            19438 non-null  float64\n",
      " 42  primary_cleaner.state.floatbank8_b_air              19435 non-null  float64\n",
      " 43  primary_cleaner.state.floatbank8_b_level            19438 non-null  float64\n",
      " 44  primary_cleaner.state.floatbank8_c_air              19437 non-null  float64\n",
      " 45  primary_cleaner.state.floatbank8_c_level            19438 non-null  float64\n",
      " 46  primary_cleaner.state.floatbank8_d_air              19436 non-null  float64\n",
      " 47  primary_cleaner.state.floatbank8_d_level            19438 non-null  float64\n",
      " 48  primary_cleaner.output.concentrate_au               19439 non-null  float64\n",
      " 49  primary_cleaner.output.concentrate_ag               19439 non-null  float64\n",
      " 50  primary_cleaner.output.concentrate_pb               19323 non-null  float64\n",
      " 51  primary_cleaner.output.concentrate_sol              19069 non-null  float64\n",
      " 52  primary_cleaner.output.tail_au                      19439 non-null  float64\n",
      " 53  primary_cleaner.output.tail_ag                      19435 non-null  float64\n",
      " 54  primary_cleaner.output.tail_pb                      19418 non-null  float64\n",
      " 55  primary_cleaner.output.tail_sol                     19377 non-null  float64\n",
      " 56  secondary_cleaner.state.floatbank2_a_air            19219 non-null  float64\n",
      " 57  secondary_cleaner.state.floatbank2_a_level          19438 non-null  float64\n",
      " 58  secondary_cleaner.state.floatbank2_b_air            19416 non-null  float64\n",
      " 59  secondary_cleaner.state.floatbank2_b_level          19438 non-null  float64\n",
      " 60  secondary_cleaner.state.floatbank3_a_air            19426 non-null  float64\n",
      " 61  secondary_cleaner.state.floatbank3_a_level          19438 non-null  float64\n",
      " 62  secondary_cleaner.state.floatbank3_b_air            19438 non-null  float64\n",
      " 63  secondary_cleaner.state.floatbank3_b_level          19438 non-null  float64\n",
      " 64  secondary_cleaner.state.floatbank4_a_air            19433 non-null  float64\n",
      " 65  secondary_cleaner.state.floatbank4_a_level          19438 non-null  float64\n",
      " 66  secondary_cleaner.state.floatbank4_b_air            19438 non-null  float64\n",
      " 67  secondary_cleaner.state.floatbank4_b_level          19438 non-null  float64\n",
      " 68  secondary_cleaner.state.floatbank5_a_air            19438 non-null  float64\n",
      " 69  secondary_cleaner.state.floatbank5_a_level          19438 non-null  float64\n",
      " 70  secondary_cleaner.state.floatbank5_b_air            19438 non-null  float64\n",
      " 71  secondary_cleaner.state.floatbank5_b_level          19438 non-null  float64\n",
      " 72  secondary_cleaner.state.floatbank6_a_air            19437 non-null  float64\n",
      " 73  secondary_cleaner.state.floatbank6_a_level          19438 non-null  float64\n",
      " 74  secondary_cleaner.output.tail_au                    19439 non-null  float64\n",
      " 75  secondary_cleaner.output.tail_ag                    19437 non-null  float64\n",
      " 76  secondary_cleaner.output.tail_pb                    19427 non-null  float64\n",
      " 77  secondary_cleaner.output.tail_sol                   17691 non-null  float64\n",
      " 78  final.output.concentrate_au                         19439 non-null  float64\n",
      " 79  final.output.concentrate_ag                         19438 non-null  float64\n",
      " 80  final.output.concentrate_pb                         19438 non-null  float64\n",
      " 81  final.output.concentrate_sol                        19228 non-null  float64\n",
      " 82  final.output.recovery                               19439 non-null  float64\n",
      " 83  final.output.tail_au                                19439 non-null  float64\n",
      " 84  final.output.tail_ag                                19438 non-null  float64\n",
      " 85  final.output.tail_pb                                19338 non-null  float64\n",
      " 86  final.output.tail_sol                               19433 non-null  float64\n",
      "dtypes: float64(86), object(1)\n",
      "memory usage: 12.9+ MB\n"
     ]
    }
   ],
   "source": [
    "gold_recovery_full.info()"
   ]
  },
  {
   "cell_type": "markdown",
   "metadata": {},
   "source": [
    "Выяснилось, что в тестовом датасете отсутсвуют параметры, которые могут быть известны только __после__ производственного этапа, а значит будут являться __помехой__ для модели. Так же отсутствуют таргетовые переменные соотвественно. В нашем распоряжение в тестовом датасете данные, в которых указаны параметры входа и параметры, характеризующие текущее состояние этапа."
   ]
  },
  {
   "cell_type": "markdown",
   "metadata": {},
   "source": [
    "### Предобработка данных"
   ]
  },
  {
   "cell_type": "markdown",
   "metadata": {},
   "source": [
    "Предобработку данных мы выполняем функцией, в которых мы приводит столбец 'date' к правильному типы данных, а так же уставливаем его как индекс для наших датасетов. Далее мы заполняем пропуски в каждом столбце медианным значением этого же столбца и отбрасываем дубликаты. "
   ]
  },
  {
   "cell_type": "code",
   "execution_count": 17,
   "metadata": {},
   "outputs": [],
   "source": [
    "gold_recovery_train_new = preparation(gold_recovery_train)\n",
    "gold_recovery_test_new = preparation(gold_recovery_test)\n",
    "gold_recovery_full_new = preparation(gold_recovery_full)"
   ]
  },
  {
   "cell_type": "markdown",
   "metadata": {},
   "source": [
    "## Анализ данных"
   ]
  },
  {
   "cell_type": "markdown",
   "metadata": {},
   "source": [
    "### Концентрация металлов на разных этапах очистки"
   ]
  },
  {
   "cell_type": "markdown",
   "metadata": {},
   "source": [
    "Далее мы исследуем концетрацию трех металлов (золото, серебро и свинец) на трех этапах. Для этого мы берем медианное значение по каждому из этапов для каждого металла."
   ]
  },
  {
   "cell_type": "code",
   "execution_count": 13,
   "metadata": {},
   "outputs": [
    {
     "data": {
      "image/png": "[encoded data removed]",
      "text/plain": [
       "<Figure size 2000x1000 with 1 Axes>"
      ]
     },
     "metadata": {},
     "output_type": "display_data"
    }
   ],
   "source": [
    "concentration('ag')"
   ]
  },
  {
   "cell_type": "markdown",
   "metadata": {},
   "source": [
    "Да, только построив распределения, понял в чем проблема медиан в данном случае, спасибо!"
   ]
  },
  {
   "cell_type": "code",
   "execution_count": 14,
   "metadata": {},
   "outputs": [
    {
     "data": {
      "image/png": "[encoded data removed]",
      "text/plain": [
       "<Figure size 2000x1000 with 1 Axes>"
      ]
     },
     "metadata": {},
     "output_type": "display_data"
    }
   ],
   "source": [
    "concentration('au')"
   ]
  },
  {
   "cell_type": "code",
   "execution_count": 15,
   "metadata": {
    "scrolled": false
   },
   "outputs": [
    {
     "data": {
      "image/png": "[encoded data removed]",
      "text/plain": [
       "<Figure size 2000x1000 with 1 Axes>"
      ]
     },
     "metadata": {},
     "output_type": "display_data"
    }
   ],
   "source": [
    "concentration('pb')"
   ]
  },
  {
   "cell_type": "markdown",
   "metadata": {},
   "source": [
    "На графиках хорошо видны выводы:\n",
    "* Серебро\n",
    "    + С каждым этапов концентрация серебра становится меньше приблизительно на 3%. Его изначальная концентрация - 11.7%, финальная - 5%\n",
    "* Золото\n",
    "    + Контцентрация золота становится значительно больше на каждом из этапов.  Его изначальная концентрация - 20%, финальная - 45%\n",
    "* Свинец\n",
    "    + Так же на каждом этапе становится больше, но в меньших масштабах. Его изначальная концентрация - 7.7%, финальная - 10.2%"
   ]
  },
  {
   "cell_type": "markdown",
   "metadata": {},
   "source": [
    "### Распределения размеров гранул сырья на обучающей и тестовой выборках"
   ]
  },
  {
   "cell_type": "code",
   "execution_count": 18,
   "metadata": {
    "scrolled": false
   },
   "outputs": [
    {
     "data": {
      "image/png": "[encoded data removed]",
      "text/plain": [
       "<Figure size 2000x1000 with 1 Axes>"
      ]
     },
     "metadata": {},
     "output_type": "display_data"
    },
    {
     "name": "stdout",
     "output_type": "stream",
     "text": [
      "Распределение на тестовой выборке на начальном этапе:\n",
      "count    4860.000000\n",
      "mean       59.080175\n",
      "std        19.441844\n",
      "min         0.046369\n",
      "25%        47.605339\n",
      "50%        55.414175\n",
      "75%        66.538910\n",
      "max       363.989699\n",
      "Name: rougher.input.feed_size, dtype: float64\n",
      "\n",
      "Распределение на тренировочной выборке на начальном этапе:\n"
     ]
    },
    {
     "data": {
      "text/plain": [
       "count    14579.000000\n",
       "mean        58.776732\n",
       "std         23.144080\n",
       "min          0.049194\n",
       "25%         47.171414\n",
       "50%         54.254915\n",
       "75%         64.344760\n",
       "max        484.967466\n",
       "Name: rougher.input.feed_size, dtype: float64"
      ]
     },
     "execution_count": 18,
     "metadata": {},
     "output_type": "execute_result"
    }
   ],
   "source": [
    "test_size = gold_recovery_test_new['rougher.input.feed_size']\n",
    "train_size = gold_recovery_train_new['rougher.input.feed_size']\n",
    "plt.figure(figsize=(20, 10))\n",
    "plt.hist(test_size, alpha=.7, label='test_feed_size', color = 'green', density = True, bins = 50)\n",
    "plt.hist(train_size, alpha=.7, label = 'train_feed_size', density = True, bins = 50)\n",
    "plt.legend(loc='upper right')\n",
    "plt.title('Распределение на начальном этапе')\n",
    "plt.xlabel('Количество наблюдений')\n",
    "plt.ylabel('% содержания гранул сырья')\n",
    "plt.show()\n",
    "print(\"Распределение на тестовой выборке на начальном этапе:\")\n",
    "print(gold_recovery_test_new['rougher.input.feed_size'].describe())\n",
    "print()\n",
    "print('Распределение на тренировочной выборке на начальном этапе:')\n",
    "gold_recovery_train_new['rougher.input.feed_size'].describe()"
   ]
  },
  {
   "cell_type": "code",
   "execution_count": 19,
   "metadata": {},
   "outputs": [
    {
     "data": {
      "image/png": "[encoded data removed]",
      "text/plain": [
       "<Figure size 2000x1000 with 1 Axes>"
      ]
     },
     "metadata": {},
     "output_type": "display_data"
    },
    {
     "name": "stdout",
     "output_type": "stream",
     "text": [
      "Распределение на тестовой выборке:\n",
      "count    4860.000000\n",
      "mean       59.080175\n",
      "std        19.441844\n",
      "min         0.046369\n",
      "25%        47.605339\n",
      "50%        55.414175\n",
      "75%        66.538910\n",
      "max       363.989699\n",
      "Name: rougher.input.feed_size, dtype: float64\n",
      "\n",
      "Распределение на тренировочной выборке:\n"
     ]
    },
    {
     "data": {
      "text/plain": [
       "count    14579.000000\n",
       "mean        58.776732\n",
       "std         23.144080\n",
       "min          0.049194\n",
       "25%         47.171414\n",
       "50%         54.254915\n",
       "75%         64.344760\n",
       "max        484.967466\n",
       "Name: rougher.input.feed_size, dtype: float64"
      ]
     },
     "execution_count": 19,
     "metadata": {},
     "output_type": "execute_result"
    }
   ],
   "source": [
    "test_size = gold_recovery_test_new['primary_cleaner.input.feed_size']\n",
    "train_size = gold_recovery_train_new['primary_cleaner.input.feed_size']\n",
    "plt.figure(figsize=(20, 10))\n",
    "plt.hist(test_size, alpha=.7, label='test_feed_size', color = 'green', density = True, bins = 50)\n",
    "plt.hist(train_size, alpha=.7, label = 'train_feed_size', density = True, bins = 50)\n",
    "plt.legend(loc='upper right')\n",
    "plt.title('Распределение на этапе очистки')\n",
    "plt.xlabel('Количество наблюдений')\n",
    "plt.ylabel('% содержания гранул сырья')\n",
    "plt.show()\n",
    "print(\"Распределение на тестовой выборке:\")\n",
    "print(gold_recovery_test_new['rougher.input.feed_size'].describe())\n",
    "print()\n",
    "print('Распределение на тренировочной выборке:')\n",
    "gold_recovery_train_new['rougher.input.feed_size'].describe()"
   ]
  },
  {
   "cell_type": "markdown",
   "metadata": {},
   "source": [
    "Распределения размеров гранул сырья на начальном этапе отличаются, разница у самых частых значений около 10% в сторону тестовой выборки, далее  примерно 2-ух перевес идет в сторону тренировочной выборки. Разница небольшая, она незначительно скажется на оценках модели. Распредения хорошо отображает график. <br><br>\n",
    "\n",
    "Распределения на этапе очистки практически идентичны друг другу."
   ]
  },
  {
   "cell_type": "markdown",
   "metadata": {},
   "source": [
    "### Cуммарная концентрация всех веществ на разных стадиях"
   ]
  },
  {
   "cell_type": "markdown",
   "metadata": {},
   "source": [
    "На данном этапе мы рассмотрим суммарную концентрацию четырех основных веществ на всех стадиях. Для этого мы создадим дополнительный столбец, где просуммируем их для каждой строки, а затем возьмем медианное значение для каждого этапа."
   ]
  },
  {
   "cell_type": "code",
   "execution_count": 20,
   "metadata": {},
   "outputs": [],
   "source": [
    "# считаем сумму всех элементов на каждом этапе\n",
    "\n",
    "gold_recovery_full_new['sum_elements_rough'] = gold_recovery_full_new[['rougher.input.feed_ag', \\\n",
    "                'rougher.input.feed_au', 'rougher.input.feed_pb', 'rougher.input.feed_sol']].sum(axis=1)\n",
    "gold_recovery_full_new['sum_elements_black'] = gold_recovery_full_new[['rougher.output.concentrate_ag', \\\n",
    "                'rougher.output.concentrate_pb', 'rougher.output.concentrate_au', \\\n",
    "                                                        'rougher.output.concentrate_sol']].sum(axis=1)\n",
    "gold_recovery_full_new['sum_elements_final'] = gold_recovery_full_new[['final.output.concentrate_ag',\\\n",
    "                'final.output.concentrate_pb', 'final.output.concentrate_au', \\\n",
    "                                                                       'final.output.concentrate_sol']].sum(axis=1) \n"
   ]
  },
  {
   "cell_type": "code",
   "execution_count": 22,
   "metadata": {},
   "outputs": [
    {
     "data": {
      "image/png": "[encoded data removed]",
      "text/plain": [
       "<Figure size 2000x1000 with 1 Axes>"
      ]
     },
     "metadata": {},
     "output_type": "display_data"
    }
   ],
   "source": [
    "plt.figure(figsize=(20, 10))\n",
    "plt.hist(gold_recovery_full_new['sum_elements_rough'], alpha=.7, label='rough',\n",
    "         color = 'green', bins = 20)\n",
    "plt.hist(gold_recovery_full_new['sum_elements_black'], alpha=.7, label='black',\n",
    "         color = 'red', bins = 20)\n",
    "plt.hist(gold_recovery_full_new['sum_elements_final'], alpha=.7, label='final',\n",
    "         color = 'blue', bins = 20)\n",
    "plt.title('Cумма концентраций на всех этапах')\n",
    "plt.xlabel('Сумма концентраций')\n",
    "plt.ylabel('Количество наблюдений')\n",
    "plt.legend(loc='upper right')\n",
    "plt.show()"
   ]
  },
  {
   "cell_type": "code",
   "execution_count": 20,
   "metadata": {},
   "outputs": [],
   "source": [
    "# оставляем те строки, где ненулевая концентрация\n",
    "\n",
    "gold_recovery_full_new = gold_recovery_full_new.loc[gold_recovery_full_new['sum_elements_final'] != 0]\n",
    "gold_recovery_full_new = gold_recovery_full_new.loc[gold_recovery_full_new['sum_elements_black'] != 0]\n",
    "gold_recovery_full_new = gold_recovery_full_new.loc[gold_recovery_full_new['sum_elements_rough'] != 0]\n",
    "\n",
    "# синхронизируем с другими датасетами\n",
    "gold_recovery_train_new = gold_recovery_train_new.loc\\\n",
    "[gold_recovery_train_new[['rougher.output.concentrate_ag', 'rougher.output.concentrate_pb',\\\n",
    "                         'rougher.output.concentrate_au','rougher.output.concentrate_sol']].sum(axis=1) != 0]\n",
    "gold_recovery_train_new = gold_recovery_train_new.loc\\\n",
    "[gold_recovery_train_new[['rougher.input.feed_ag', 'rougher.input.feed_au',\\\n",
    "                          'rougher.input.feed_pb', 'rougher.input.feed_sol']].sum(axis=1) != 0]\n",
    "gold_recovery_train_new = gold_recovery_train_new.loc\\\n",
    "[gold_recovery_train_new[['final.output.concentrate_ag','final.output.concentrate_pb',\\\n",
    "                          'final.output.concentrate_au','final.output.concentrate_sol']].sum(axis=1) != 0]\n",
    "\n",
    "gold_recovery_test_new = gold_recovery_test_new[gold_recovery_test_new.index.isin(gold_recovery_full_new.index)]"
   ]
  },
  {
   "cell_type": "markdown",
   "metadata": {},
   "source": [
    "График отображает, что cуммарная концентрация веществ становится больше с каждым последующим этапом. На финальном этапе распредение сужается к наиболее частым значениям чернового этапа. <br><br>\n",
    "В суммарном распределние заметны нулевые суммарные концентрации, что является аномальными значениями и их необходимо удалить. Это можно сделать, так как они составляют приблизительно 3% от общего числа строк. Для этого мы удаляем их из полной и тренировочной выборок, затем оставляем в тестовой выборке только те значения, которые остались в полной."
   ]
  },
  {
   "cell_type": "markdown",
   "metadata": {},
   "source": [
    "## Модель"
   ]
  },
  {
   "cell_type": "markdown",
   "metadata": {},
   "source": [
    "На данном этапе мы рассмотрим три регрессивных модели: решающего дерева, случайного леса и линейную регрессию; и выберем наиболее подходящую из них. В процессе мы будем использовать кросс-валидацию. Для ее оценкой мы будет использовать метрику sMAPE, которую мы считаем в функции. "
   ]
  },
  {
   "cell_type": "markdown",
   "metadata": {},
   "source": [
    "### Выбор модели для чернового концентрата"
   ]
  },
  {
   "cell_type": "markdown",
   "metadata": {},
   "source": [
    "Для начала обозначим целевую переменную и признаки для обучения. Все это берем из тренировочного датасета. В признаки мы не добавляем те данные, которые становятся известны только после всех этапов обработки, берем только 'input' и 'state'."
   ]
  },
  {
   "cell_type": "code",
   "execution_count": 21,
   "metadata": {},
   "outputs": [],
   "source": [
    "# отбираем колонки для чернового концентрата\n",
    "cols = [i for i in gold_recovery_train_new.columns if 'rougher.input' in i or 'rougher.state' in i]\n",
    "\n",
    "# выделяем таргет\n",
    "rough_features_train = gold_recovery_train_new.loc[:, cols]\n",
    "rough_target_train = gold_recovery_train_new['rougher.output.recovery']\n"
   ]
  },
  {
   "cell_type": "code",
   "execution_count": 22,
   "metadata": {},
   "outputs": [],
   "source": [
    "# отбираем финальный концентрат\n",
    "final_target_train = gold_recovery_train_new['final.output.recovery']\n",
    "cols = [i for i in gold_recovery_train_new.columns if 'output' not in i and 'calculation' not in i \\\n",
    "       and 'element' not in i]\n",
    "final_features_train = gold_recovery_train_new.loc[:, cols]\n"
   ]
  },
  {
   "cell_type": "markdown",
   "metadata": {},
   "source": [
    "Далее создаем два списка, чтобы сохранять результаты метрики __sMAPE__."
   ]
  },
  {
   "cell_type": "code",
   "execution_count": 23,
   "metadata": {},
   "outputs": [],
   "source": [
    "# создаем списки для сохранения результатов\n",
    "smape_r_scores = []\n",
    "smape_f_scores = []"
   ]
  },
  {
   "cell_type": "code",
   "execution_count": 24,
   "metadata": {},
   "outputs": [
    {
     "name": "stdout",
     "output_type": "stream",
     "text": [
      "CPU times: user 17.8 s, sys: 3.69 ms, total: 17.8 s\n",
      "Wall time: 53.6 s\n"
     ]
    }
   ],
   "source": [
    "%%time\n",
    "# создаем scorer для моделей\n",
    "smape_score = make_scorer(smape, greater_is_better = False)\n",
    "params_dt = {'max_depth' : range(2, 7),\n",
    "            'min_samples_leaf': [ 6, 8, 2, 4]}\n",
    "\n",
    "# подбираем гиперпараметры для DecisionTreeRegressor\n",
    "cv_rougher_dt = GridSearchCV(DecisionTreeRegressor(random_state = 12345), params_dt, cv = 8, scoring = smape_score)\n",
    "cv_rougher_dt = cv_rougher_dt.fit(rough_features_train, rough_target_train)\n",
    "\n",
    "# сохраняем лучший результат\n",
    "smape_r_scores.append(cv_rougher_dt.best_score_)\n",
    "parameters_dt = cv_rougher_dt.best_params_"
   ]
  },
  {
   "cell_type": "markdown",
   "metadata": {},
   "source": [
    "Параллельно кросс-валидации мы подбираем лучшие гиперпараметры для нашей модели."
   ]
  },
  {
   "cell_type": "code",
   "execution_count": 25,
   "metadata": {},
   "outputs": [
    {
     "name": "stdout",
     "output_type": "stream",
     "text": [
      "CPU times: user 10min 1s, sys: 819 ms, total: 10min 2s\n",
      "Wall time: 16min 35s\n"
     ]
    }
   ],
   "source": [
    "%%time\n",
    "\n",
    "params_rf = {'max_depth' : range(4, 7, 2),\n",
    "            'n_estimators': range(65, 96, 15),\n",
    "            'min_samples_leaf': [2, 4],\n",
    "            'n_jobs' : [-1]}\n",
    "\n",
    "# подбираем гиперпараметры для RandomForestRegressor\n",
    "cv_rougher_rf = GridSearchCV(RandomForestRegressor(random_state = 12345), params_rf, cv = 8, scoring = smape_score )\n",
    "cv_rougher_rf = cv_rougher_rf.fit(rough_features_train, rough_target_train)\n",
    "\n",
    "# сохраняем лучший результат\n",
    "smape_r_scores.append(cv_rougher_rf.best_score_)\n",
    "parameters_rf = cv_rougher_rf.best_params_"
   ]
  },
  {
   "cell_type": "code",
   "execution_count": 26,
   "metadata": {},
   "outputs": [
    {
     "name": "stdout",
     "output_type": "stream",
     "text": [
      "CPU times: user 732 ms, sys: 999 ms, total: 1.73 s\n",
      "Wall time: 1.72 s\n"
     ]
    }
   ],
   "source": [
    "%%time\n",
    "\n",
    "params_ln = {'n_jobs' : [-1]}\n",
    "\n",
    "#проверяем LinearRegression\n",
    "cv_rougher_lr = GridSearchCV(LinearRegression(), params_ln, cv = 8, scoring = smape_score )\n",
    "cv_rougher_lr = cv_rougher_lr.fit(rough_features_train, rough_target_train)\n",
    "\n",
    "# сохраняем лучший результат\n",
    "smape_r_scores.append(cv_rougher_lr.best_score_)\n",
    "parametrs_lr = cv_rougher_lr.best_params_"
   ]
  },
  {
   "cell_type": "code",
   "execution_count": 27,
   "metadata": {},
   "outputs": [],
   "source": [
    "params_d = {'strategy' : ['mean', 'median']}\n",
    "\n",
    "# создаем Dummy-модель\n",
    "cv_rougher_d = GridSearchCV(DummyRegressor(), params_d, cv = 8, scoring = smape_score )\n",
    "cv_rougher_d = cv_rougher_d.fit(rough_features_train, rough_target_train)\n",
    "\n",
    "# добавляем ее результат\n",
    "smape_r_scores.append(cv_rougher_d.best_score_)\n",
    "parametrs_d = cv_rougher_d.best_params_"
   ]
  },
  {
   "cell_type": "markdown",
   "metadata": {},
   "source": [
    "Далее из-за особенностей GridSearchCV, мы умножаем каждый результат на -1, и строим таблицу для наглядных выводов."
   ]
  },
  {
   "cell_type": "code",
   "execution_count": 28,
   "metadata": {},
   "outputs": [
    {
     "name": "stdout",
     "output_type": "stream",
     "text": [
      "Лучшие параметры для Decision Tree {'max_depth': 6, 'min_samples_leaf': 8}\n",
      "Лучшие параметры для Random Forest- {'max_depth': 6, 'min_samples_leaf': 2, 'n_estimators': 95, 'n_jobs': -1}\n",
      "Лучшие параметры для Linerear Regression {'n_jobs': -1}\n",
      "Лучшие параметры для Dummy {'strategy': 'mean'}\n",
      "\n",
      "Значение sMAPE для DecisionTree = 0.06958228484137306\n",
      "Значение sMAPE для Random Forest = 0.06587803795594956\n",
      "Значение sMAPE для Linerear Regression = 0.0617586023292233\n",
      "Значение sMAPE для Dummy = 0.07825183390142007\n"
     ]
    },
    {
     "data": {
      "image/png": "[encoded data removed]",
      "text/plain": [
       "<Figure size 432x288 with 1 Axes>"
      ]
     },
     "metadata": {
      "needs_background": "light"
     },
     "output_type": "display_data"
    }
   ],
   "source": [
    "# умножаем все результаты на -1\n",
    "smape_r_scores_new = []\n",
    "for i in smape_r_scores:\n",
    "    i = i * -1\n",
    "    smape_r_scores_new.append(i)\n",
    "\n",
    "# строим графики с результатами     \n",
    "models = ['DesicionTree', 'RandomForest', 'LinearRegression', 'Dummy']\n",
    "d = {'models' : models, 'val' : smape_r_scores_new}\n",
    "df = pd.DataFrame(d)\n",
    "df.plot.bar(x='models', y='val', title = 'sMAPE for models')\n",
    "print('Лучшие параметры для Decision Tree', parameters_dt)\n",
    "print('Лучшие параметры для Random Forest-', parameters_rf)\n",
    "print('Лучшие параметры для Linerear Regression', parametrs_lr)\n",
    "print('Лучшие параметры для Dummy', parametrs_d)\n",
    "print()\n",
    "print('Значение sMAPE для DecisionTree =', smape_r_scores_new[0])\n",
    "print('Значение sMAPE для Random Forest =', smape_r_scores_new[1])\n",
    "print('Значение sMAPE для Linerear Regression =', smape_r_scores_new[2])\n",
    "print('Значение sMAPE для Dummy =', smape_r_scores_new[3])"
   ]
  },
  {
   "cell_type": "markdown",
   "metadata": {},
   "source": [
    "Лучшее значение дает модель линейной регрессии, берем ее для дальшейших действий."
   ]
  },
  {
   "cell_type": "markdown",
   "metadata": {},
   "source": [
    "### Выбор модели для финального концентрата"
   ]
  },
  {
   "cell_type": "markdown",
   "metadata": {},
   "source": [
    "Такой же ход действий и с моделью для финального концентрата"
   ]
  },
  {
   "cell_type": "code",
   "execution_count": 29,
   "metadata": {},
   "outputs": [
    {
     "name": "stdout",
     "output_type": "stream",
     "text": [
      "CPU times: user 40.2 s, sys: 41.4 ms, total: 40.2 s\n",
      "Wall time: 40.4 s\n"
     ]
    }
   ],
   "source": [
    "%%time\n",
    "\n",
    "params_dt = {'max_depth' : range(2, 7),\n",
    "            'min_samples_leaf': [ 6, 8, 2, 4]}\n",
    "\n",
    "# подбираем гиперпараметры для DecisionTreeRegressor\n",
    "cv_final_dt = GridSearchCV(DecisionTreeRegressor(random_state = 12345), params_dt, cv = 8, scoring = smape_score )\n",
    "cv_final_dt = cv_final_dt.fit(final_features_train, final_target_train)\n",
    "\n",
    "# добавляем лучший результат\n",
    "smape_f_scores.append(cv_final_dt.best_score_)\n",
    "parametrs_dt = cv_final_dt.best_params_"
   ]
  },
  {
   "cell_type": "code",
   "execution_count": 30,
   "metadata": {},
   "outputs": [
    {
     "name": "stdout",
     "output_type": "stream",
     "text": [
      "CPU times: user 1.28 s, sys: 1.78 s, total: 3.06 s\n",
      "Wall time: 3.04 s\n"
     ]
    }
   ],
   "source": [
    "%%time\n",
    "\n",
    "params_lr = {'n_jobs' : [-1]}\n",
    "\n",
    "# подбираем гиперпараметры для LinearRegression\n",
    "cv_final_lr = GridSearchCV(LinearRegression(), params_lr, cv = 8, scoring = smape_score )\n",
    "cv_final_lr = cv_final_lr.fit(final_features_train, final_target_train)\n",
    "\n",
    "# добавляем лучший результат\n",
    "smape_f_scores.append(cv_final_lr.best_score_)\n",
    "parametrs_lr = cv_final_lr.best_params_"
   ]
  },
  {
   "cell_type": "code",
   "execution_count": 31,
   "metadata": {},
   "outputs": [
    {
     "name": "stdout",
     "output_type": "stream",
     "text": [
      "CPU times: user 24min 15s, sys: 1.7 s, total: 24min 16s\n",
      "Wall time: 25min 50s\n"
     ]
    }
   ],
   "source": [
    "%%time\n",
    "\n",
    "params_rf = {'max_depth' : range(4, 7, 2),\n",
    "            'n_estimators': range(65, 96, 15),\n",
    "            'min_samples_leaf': [2, 4],\n",
    "            'n_jobs' : [-1]}\n",
    "\n",
    "# подбираем гиперпараметры для RandomForestRegressor\n",
    "cv_final_rf = GridSearchCV(RandomForestRegressor(random_state = 12345), params_rf, cv = 8, scoring = smape_score )\n",
    "cv_final_rf = cv_final_rf.fit(final_features_train, final_target_train)\n",
    "\n",
    "# добавляем лучший результат\n",
    "smape_f_scores.append(cv_final_rf.best_score_)\n",
    "parametrs_rf = cv_final_rf.best_params_"
   ]
  },
  {
   "cell_type": "code",
   "execution_count": 32,
   "metadata": {},
   "outputs": [],
   "source": [
    "params_d = {'strategy' : ['mean', 'median']}\n",
    "\n",
    "# проверяем Dummy-модель\n",
    "cv_final_d = GridSearchCV(DummyRegressor(), params_d, cv = 8, scoring = smape_score )\n",
    "cv_final_d = cv_final_d.fit(final_features_train, final_target_train)\n",
    "smape_f_scores.append(cv_final_d.best_score_)\n",
    "parametrs_d = cv_final_d.best_params_"
   ]
  },
  {
   "cell_type": "code",
   "execution_count": 33,
   "metadata": {},
   "outputs": [
    {
     "name": "stdout",
     "output_type": "stream",
     "text": [
      "Лучшие параметры для Decision Tree {'max_depth': 6, 'min_samples_leaf': 8}\n",
      "Лучшие параметры для Random Forest- {'max_depth': 6, 'min_samples_leaf': 2, 'n_estimators': 95, 'n_jobs': -1}\n",
      "Лучшие параметры для Linerear Regression {'n_jobs': -1}\n",
      "Лучшие параметры для Dummy {'strategy': 'median'}\n",
      "\n",
      "Значение sMAPE для DecisionTree = 0.09403427072158946\n",
      "Значение sMAPE для Random Forest = 0.10907165862114354\n",
      "Значение sMAPE для Linerear Regression = 0.0910190911078188\n",
      "Значение sMAPE для Dummy = 0.10456452180369866\n"
     ]
    },
    {
     "data": {
      "image/png": "[encoded data removed]",
      "text/plain": [
       "<Figure size 432x288 with 1 Axes>"
      ]
     },
     "metadata": {
      "needs_background": "light"
     },
     "output_type": "display_data"
    }
   ],
   "source": [
    "# умножаем результат на -1\n",
    "\n",
    "smape_f_scores_new = []\n",
    "for i in smape_f_scores:\n",
    "    i = i * -1\n",
    "    smape_f_scores_new.append(i)\n",
    "\n",
    "# строим график с результатами\n",
    "models = ['DesicionTree','LinearRegression', 'RandomForest', 'Dummy']\n",
    "d = {'models' : models, 'val' : smape_f_scores_new}\n",
    "df = pd.DataFrame(d)\n",
    "df.plot.bar(x='models', y='val', title = 'sMAPE for models')\n",
    "print('Лучшие параметры для Decision Tree', parameters_dt)\n",
    "print('Лучшие параметры для Random Forest-', parameters_rf)\n",
    "print('Лучшие параметры для Linerear Regression', parametrs_lr)\n",
    "print('Лучшие параметры для Dummy', parametrs_d)\n",
    "print()\n",
    "print('Значение sMAPE для DecisionTree =', smape_f_scores_new[0])\n",
    "print('Значение sMAPE для Random Forest =', smape_f_scores_new[1])\n",
    "print('Значение sMAPE для Linerear Regression =', smape_f_scores_new[2])\n",
    "print('Значение sMAPE для Dummy =', smape_f_scores_new[3])"
   ]
  },
  {
   "cell_type": "markdown",
   "metadata": {},
   "source": [
    "Лучший результат показала модель случайного леса."
   ]
  },
  {
   "cell_type": "markdown",
   "metadata": {},
   "source": [
    "### Прогнозирование эффективности"
   ]
  },
  {
   "cell_type": "markdown",
   "metadata": {},
   "source": [
    "Теперь выделяем признаки и таргет для двух этапов. Для поиска таргета ищем совпадение с полным датасетом по индексам."
   ]
  },
  {
   "cell_type": "code",
   "execution_count": 34,
   "metadata": {},
   "outputs": [],
   "source": [
    "# фильтруем данные для теста\n",
    "cols = [i for i in gold_recovery_test_new.columns if 'rougher.input' in i or 'rougher.state' in i]\n",
    "\n",
    "# синхронизуем и выделяем таргет\n",
    "rough_features_test = gold_recovery_test_new.loc[:, cols]\n",
    "rough_test_target = gold_recovery_full_new.iloc\\\n",
    "    [gold_recovery_full_new.index.isin(gold_recovery_test_new.index)]['rougher.output.recovery']\n",
    "final_test_target = gold_recovery_full_new.iloc\\\n",
    "    [gold_recovery_full_new.index.isin(gold_recovery_test_new.index)]['final.output.recovery']"
   ]
  },
  {
   "cell_type": "markdown",
   "metadata": {},
   "source": [
    "Подсчитываем __sMAPE__ на тестовой выборке"
   ]
  },
  {
   "cell_type": "code",
   "execution_count": 35,
   "metadata": {},
   "outputs": [
    {
     "data": {
      "text/plain": [
       "0.04536191791468515"
      ]
     },
     "execution_count": 35,
     "metadata": {},
     "output_type": "execute_result"
    }
   ],
   "source": [
    "# получаем предсказания для чернового концентрата\n",
    "cv_rougher_lr_pred = cv_rougher_lr.predict(rough_features_test)\n",
    "\n",
    "# считаем smape \n",
    "rough_smape = smape(rough_test_target, cv_rougher_lr_pred)\n",
    "rough_smape"
   ]
  },
  {
   "cell_type": "code",
   "execution_count": 36,
   "metadata": {},
   "outputs": [
    {
     "data": {
      "text/plain": [
       "0.08184351198173959"
      ]
     },
     "execution_count": 36,
     "metadata": {},
     "output_type": "execute_result"
    }
   ],
   "source": [
    "# получаем предсказания для финального концентрата\n",
    "cv_final_rf_pred = cv_final_rf.predict(gold_recovery_test_new)\n",
    "final_smape = smape(final_test_target, cv_final_rf_pred)\n",
    "final_smape"
   ]
  },
  {
   "cell_type": "markdown",
   "metadata": {},
   "source": [
    "### Итоговый sMAPE"
   ]
  },
  {
   "cell_type": "code",
   "execution_count": 37,
   "metadata": {},
   "outputs": [
    {
     "name": "stdout",
     "output_type": "stream",
     "text": [
      "Итоговый sMAPE = 0.073\n"
     ]
    }
   ],
   "source": [
    "summary_smape = itog_smape(rough_smape, final_smape)\n",
    "print('Итоговый sMAPE =', summary_smape.round(3))"
   ]
  },
  {
   "cell_type": "markdown",
   "metadata": {},
   "source": [
    "Итоговый sMAPE получился = 0.07 , это значит, что наши предсказания отличаются на 7% от правильного результата, а это хороший результат!"
   ]
  },
  {
   "cell_type": "markdown",
   "metadata": {},
   "source": [
    "## Вывод"
   ]
  },
  {
   "cell_type": "markdown",
   "metadata": {},
   "source": [
    "В данном исследовании мы построили модель для предсказания эффективности технологического процесса золотообработки. <br><br>\n",
    "Наше исследование состояло из следующих этапов:\n",
    "- __Подготовка данных__\n",
    "    + Мы загрузили и изучили файлы\n",
    "    + Проверили корректность расчета эффективности обогащения\n",
    "    + Проанализировали недоступные в тестовой выборке признаки\n",
    "    + И провели предобработку данных, заполнив пропуски, проверив дубликаты и поменяв индексы\n",
    "- __Анализ данных__\n",
    "    + Концентрация металлов на разных этапах очистки\n",
    "        - Серебро. С каждым этапов концентрация серебра становится меньше приблизительно на 3%. Его изначальная концентрация - 11.7%, финальная - 5%\n",
    "        - Золото. Контцентрация золота становится значительно больше на каждом из этапов.  Его изначальная концентрация - 20%, финальная - 45%\n",
    "        - Свинец. Так же на каждом этапе становится больше, но в меньших масштабах. Его изначальная концентрация - 7.7%, финальная - 10.2%\n",
    "    + Распределения размеров гранул сырья на обучающей и тестовой выборках\n",
    "        - Распределения размеров гранул сырья на начальном этапе отличаются, разница у самых частых значений около 10% в сторону тестовой выборки, далее  примерно 2-ух перевес идет в сторону тренировочной выборки. Разница небольшая, она незначительно скажется на оценках модели. Распредения хорошо отображает график. Распределения на этапе очистки идентичны друг другу\n",
    "    + Cуммарная концентрация всех веществ на разных стадиях\n",
    "        - График отображает, что cуммарная концентрация веществ становится больше с каждым последующим этапом. На финальном этапе распредение сужается к наиболее частым значениям чернового этапа. В суммарном распределние заметны нулевые суммарные концентрации, что является аномальными значениями и их необходимо удалить. Это можно сделать, так как они составляют приблизительно 3% от общего числа строк.Для этого мы удаляем их из полной и тренировочной выборок, затем оставляем в тестовой выборке только те значения, которые остались в полной.\n",
    "- __Модель__\n",
    "    + Выбор модели для чернового концентрата\n",
    "        - Лучшей оказалась модель линейной регрессии.\n",
    "    + Выбор модели для финального концентрата\n",
    "        - Лучшей оказалась модель случайного леса\n",
    "    + Подсчет sMAPE\n",
    "        - Итоговый sMAPE равен 0.07. Это значит, что наши предсказания отличаются на 7% от правильного результата, а это хороший результат!\n",
    "Нами была построена модель для предсказания эффективности золотообогащения с симметричным средним абсолютным отклонением равным \n",
    "    "
   ]
  },
  {
   "cell_type": "code",
   "execution_count": null,
   "metadata": {},
   "outputs": [],
   "source": []
  }
 ],
 "metadata": {
  "ExecuteTimeLog": [
   {
    "duration": 72,
    "start_time": "2023-04-19T06:30:24.421Z"
   },
   {
    "duration": 404,
    "start_time": "2023-04-19T06:30:26.973Z"
   },
   {
    "duration": 140,
    "start_time": "2023-04-19T06:30:27.501Z"
   },
   {
    "duration": 14,
    "start_time": "2023-04-19T06:31:03.561Z"
   },
   {
    "duration": 3,
    "start_time": "2023-04-19T06:31:16.437Z"
   },
   {
    "duration": 66,
    "start_time": "2023-04-19T06:31:17.784Z"
   },
   {
    "duration": 3123,
    "start_time": "2023-04-19T06:37:25.819Z"
   },
   {
    "duration": 35,
    "start_time": "2023-04-19T06:37:48.943Z"
   },
   {
    "duration": 23,
    "start_time": "2023-04-19T06:38:04.006Z"
   },
   {
    "duration": 20,
    "start_time": "2023-04-19T06:38:31.671Z"
   },
   {
    "duration": 21,
    "start_time": "2023-04-19T06:38:38.533Z"
   },
   {
    "duration": 26,
    "start_time": "2023-04-19T06:42:57.359Z"
   },
   {
    "duration": 5,
    "start_time": "2023-04-19T06:48:02.728Z"
   },
   {
    "duration": 7,
    "start_time": "2023-04-19T06:48:20.761Z"
   },
   {
    "duration": 17,
    "start_time": "2023-04-19T06:49:08.979Z"
   },
   {
    "duration": 1597,
    "start_time": "2023-04-19T06:49:13.609Z"
   },
   {
    "duration": 13,
    "start_time": "2023-04-19T06:49:22.457Z"
   },
   {
    "duration": 22,
    "start_time": "2023-04-19T06:49:32.599Z"
   },
   {
    "duration": 27,
    "start_time": "2023-04-19T06:50:04.279Z"
   },
   {
    "duration": 23,
    "start_time": "2023-04-19T06:51:15.849Z"
   },
   {
    "duration": 15,
    "start_time": "2023-04-19T06:51:59.579Z"
   },
   {
    "duration": 63,
    "start_time": "2023-04-19T14:00:59.593Z"
   },
   {
    "duration": 412,
    "start_time": "2023-04-19T14:01:04.094Z"
   },
   {
    "duration": 1880,
    "start_time": "2023-04-19T14:01:04.508Z"
   },
   {
    "duration": 60,
    "start_time": "2023-04-19T14:01:06.391Z"
   },
   {
    "duration": 24,
    "start_time": "2023-04-19T14:01:15.824Z"
   },
   {
    "duration": 39,
    "start_time": "2023-04-19T14:56:39.234Z"
   },
   {
    "duration": 58,
    "start_time": "2023-04-19T14:57:22.900Z"
   },
   {
    "duration": 42,
    "start_time": "2023-04-19T14:57:30.858Z"
   },
   {
    "duration": 48,
    "start_time": "2023-04-19T14:58:07.496Z"
   },
   {
    "duration": 45,
    "start_time": "2023-04-19T15:00:24.945Z"
   },
   {
    "duration": 1208,
    "start_time": "2023-04-19T15:00:34.786Z"
   },
   {
    "duration": 20,
    "start_time": "2023-04-19T15:01:07.388Z"
   },
   {
    "duration": 14,
    "start_time": "2023-04-19T15:01:33.125Z"
   },
   {
    "duration": 22,
    "start_time": "2023-04-19T15:01:53.824Z"
   },
   {
    "duration": 24,
    "start_time": "2023-04-19T15:01:56.592Z"
   },
   {
    "duration": 23,
    "start_time": "2023-04-19T15:02:05.691Z"
   },
   {
    "duration": 23,
    "start_time": "2023-04-19T15:02:21.498Z"
   },
   {
    "duration": 2,
    "start_time": "2023-04-19T15:03:16.398Z"
   },
   {
    "duration": 23,
    "start_time": "2023-04-19T15:03:21.089Z"
   },
   {
    "duration": 985,
    "start_time": "2023-04-19T15:39:00.055Z"
   },
   {
    "duration": 15,
    "start_time": "2023-04-19T15:39:09.728Z"
   },
   {
    "duration": 4,
    "start_time": "2023-04-19T15:39:51.993Z"
   },
   {
    "duration": 793,
    "start_time": "2023-04-19T15:41:18.906Z"
   },
   {
    "duration": 4,
    "start_time": "2023-04-19T15:41:30.687Z"
   },
   {
    "duration": 45,
    "start_time": "2023-04-19T15:43:41.100Z"
   },
   {
    "duration": 8,
    "start_time": "2023-04-19T15:43:46.698Z"
   },
   {
    "duration": 10,
    "start_time": "2023-04-19T15:44:05.692Z"
   },
   {
    "duration": 8,
    "start_time": "2023-04-19T15:44:17.517Z"
   },
   {
    "duration": 11,
    "start_time": "2023-04-19T15:45:53.790Z"
   },
   {
    "duration": 17,
    "start_time": "2023-04-19T15:48:02.562Z"
   },
   {
    "duration": 30,
    "start_time": "2023-04-19T15:48:21.955Z"
   },
   {
    "duration": 13,
    "start_time": "2023-04-19T15:54:02.530Z"
   },
   {
    "duration": 824,
    "start_time": "2023-04-19T15:56:09.317Z"
   },
   {
    "duration": 1475,
    "start_time": "2023-04-19T15:57:08.062Z"
   },
   {
    "duration": 738,
    "start_time": "2023-04-19T15:57:09.539Z"
   },
   {
    "duration": 28,
    "start_time": "2023-04-19T15:57:10.279Z"
   },
   {
    "duration": 27,
    "start_time": "2023-04-19T15:57:10.311Z"
   },
   {
    "duration": 23,
    "start_time": "2023-04-19T15:57:10.340Z"
   },
   {
    "duration": 45,
    "start_time": "2023-04-19T15:57:10.364Z"
   },
   {
    "duration": 9,
    "start_time": "2023-04-19T15:57:10.411Z"
   },
   {
    "duration": 13,
    "start_time": "2023-04-19T15:57:10.422Z"
   },
   {
    "duration": 28,
    "start_time": "2023-04-19T15:57:10.437Z"
   },
   {
    "duration": 79,
    "start_time": "2023-04-19T15:57:10.467Z"
   },
   {
    "duration": 936,
    "start_time": "2023-04-19T15:57:10.548Z"
   },
   {
    "duration": 836,
    "start_time": "2023-04-19T15:58:26.256Z"
   },
   {
    "duration": 1010,
    "start_time": "2023-04-19T15:59:30.002Z"
   },
   {
    "duration": 17,
    "start_time": "2023-04-19T15:59:33.239Z"
   },
   {
    "duration": 1393,
    "start_time": "2023-04-19T15:59:40.340Z"
   },
   {
    "duration": 779,
    "start_time": "2023-04-19T15:59:41.736Z"
   },
   {
    "duration": 18,
    "start_time": "2023-04-19T15:59:42.517Z"
   },
   {
    "duration": 26,
    "start_time": "2023-04-19T15:59:42.538Z"
   },
   {
    "duration": 51,
    "start_time": "2023-04-19T15:59:42.565Z"
   },
   {
    "duration": 22,
    "start_time": "2023-04-19T15:59:42.618Z"
   },
   {
    "duration": 9,
    "start_time": "2023-04-19T15:59:42.641Z"
   },
   {
    "duration": 43,
    "start_time": "2023-04-19T15:59:42.652Z"
   },
   {
    "duration": 22,
    "start_time": "2023-04-19T15:59:42.697Z"
   },
   {
    "duration": 15,
    "start_time": "2023-04-19T15:59:42.721Z"
   },
   {
    "duration": 25,
    "start_time": "2023-04-19T15:59:42.738Z"
   },
   {
    "duration": 3,
    "start_time": "2023-04-19T16:03:36.086Z"
   },
   {
    "duration": 3,
    "start_time": "2023-04-19T16:04:02.861Z"
   },
   {
    "duration": 100,
    "start_time": "2023-04-19T16:04:07.306Z"
   },
   {
    "duration": 3,
    "start_time": "2023-04-19T16:04:11.108Z"
   },
   {
    "duration": 4,
    "start_time": "2023-04-19T16:04:14.691Z"
   },
   {
    "duration": 6,
    "start_time": "2023-04-19T16:04:54.999Z"
   },
   {
    "duration": 123,
    "start_time": "2023-04-19T16:06:07.243Z"
   },
   {
    "duration": 71,
    "start_time": "2023-04-19T16:06:20.885Z"
   },
   {
    "duration": 30,
    "start_time": "2023-04-19T16:07:04.888Z"
   },
   {
    "duration": 25,
    "start_time": "2023-04-19T16:07:35.415Z"
   },
   {
    "duration": 832,
    "start_time": "2023-04-19T16:07:47.149Z"
   },
   {
    "duration": 32,
    "start_time": "2023-04-19T16:07:55.688Z"
   },
   {
    "duration": 24,
    "start_time": "2023-04-19T16:09:23.848Z"
   },
   {
    "duration": 26,
    "start_time": "2023-04-19T16:09:52.894Z"
   },
   {
    "duration": 34,
    "start_time": "2023-04-19T16:10:03.022Z"
   },
   {
    "duration": 25,
    "start_time": "2023-04-19T16:11:47.720Z"
   },
   {
    "duration": 27,
    "start_time": "2023-04-19T16:12:04.833Z"
   },
   {
    "duration": 26,
    "start_time": "2023-04-19T16:12:10.806Z"
   },
   {
    "duration": 26,
    "start_time": "2023-04-19T16:12:18.527Z"
   },
   {
    "duration": 29,
    "start_time": "2023-04-19T16:12:55.026Z"
   },
   {
    "duration": 14,
    "start_time": "2023-04-19T16:13:16.955Z"
   },
   {
    "duration": 3,
    "start_time": "2023-04-19T16:13:20.945Z"
   },
   {
    "duration": 4,
    "start_time": "2023-04-19T16:14:47.520Z"
   },
   {
    "duration": 4,
    "start_time": "2023-04-19T16:16:55.405Z"
   },
   {
    "duration": 5,
    "start_time": "2023-04-19T16:17:22.109Z"
   },
   {
    "duration": 10,
    "start_time": "2023-04-19T16:17:45.014Z"
   },
   {
    "duration": 871,
    "start_time": "2023-04-19T16:18:20.510Z"
   },
   {
    "duration": 1392,
    "start_time": "2023-04-19T16:18:27.630Z"
   },
   {
    "duration": 4,
    "start_time": "2023-04-19T16:18:29.024Z"
   },
   {
    "duration": 737,
    "start_time": "2023-04-19T16:18:29.029Z"
   },
   {
    "duration": 2,
    "start_time": "2023-04-19T16:18:29.768Z"
   },
   {
    "duration": 47,
    "start_time": "2023-04-19T16:18:29.773Z"
   },
   {
    "duration": 23,
    "start_time": "2023-04-19T16:18:29.822Z"
   },
   {
    "duration": 23,
    "start_time": "2023-04-19T16:18:29.847Z"
   },
   {
    "duration": 37,
    "start_time": "2023-04-19T16:18:29.871Z"
   },
   {
    "duration": 14,
    "start_time": "2023-04-19T16:18:29.910Z"
   },
   {
    "duration": 18,
    "start_time": "2023-04-19T16:18:29.926Z"
   },
   {
    "duration": 82,
    "start_time": "2023-04-19T16:18:29.946Z"
   },
   {
    "duration": 1012,
    "start_time": "2023-04-19T16:18:41.718Z"
   },
   {
    "duration": 1415,
    "start_time": "2023-04-19T16:18:49.458Z"
   },
   {
    "duration": 4,
    "start_time": "2023-04-19T16:18:50.875Z"
   },
   {
    "duration": 743,
    "start_time": "2023-04-19T16:18:50.880Z"
   },
   {
    "duration": 3,
    "start_time": "2023-04-19T16:18:51.625Z"
   },
   {
    "duration": 35,
    "start_time": "2023-04-19T16:18:51.630Z"
   },
   {
    "duration": 31,
    "start_time": "2023-04-19T16:18:51.666Z"
   },
   {
    "duration": 25,
    "start_time": "2023-04-19T16:18:51.699Z"
   },
   {
    "duration": 11,
    "start_time": "2023-04-19T16:18:51.726Z"
   },
   {
    "duration": 15,
    "start_time": "2023-04-19T16:18:51.738Z"
   },
   {
    "duration": 55,
    "start_time": "2023-04-19T16:18:51.759Z"
   },
   {
    "duration": 87,
    "start_time": "2023-04-19T16:18:51.816Z"
   },
   {
    "duration": 1357,
    "start_time": "2023-04-19T16:19:35.997Z"
   },
   {
    "duration": 4,
    "start_time": "2023-04-19T16:19:37.356Z"
   },
   {
    "duration": 700,
    "start_time": "2023-04-19T16:19:37.361Z"
   },
   {
    "duration": 3,
    "start_time": "2023-04-19T16:19:38.063Z"
   },
   {
    "duration": 39,
    "start_time": "2023-04-19T16:19:38.068Z"
   },
   {
    "duration": 24,
    "start_time": "2023-04-19T16:19:38.109Z"
   },
   {
    "duration": 22,
    "start_time": "2023-04-19T16:19:38.135Z"
   },
   {
    "duration": 41,
    "start_time": "2023-04-19T16:19:38.160Z"
   },
   {
    "duration": 14,
    "start_time": "2023-04-19T16:19:38.203Z"
   },
   {
    "duration": 20,
    "start_time": "2023-04-19T16:19:38.220Z"
   },
   {
    "duration": 138,
    "start_time": "2023-04-19T16:19:38.242Z"
   },
   {
    "duration": 3,
    "start_time": "2023-04-19T16:22:28.510Z"
   },
   {
    "duration": 1408,
    "start_time": "2023-04-19T16:23:36.121Z"
   },
   {
    "duration": 3,
    "start_time": "2023-04-19T16:23:37.532Z"
   },
   {
    "duration": 697,
    "start_time": "2023-04-19T16:23:37.537Z"
   },
   {
    "duration": 3,
    "start_time": "2023-04-19T16:23:38.236Z"
   },
   {
    "duration": 38,
    "start_time": "2023-04-19T16:23:38.243Z"
   },
   {
    "duration": 30,
    "start_time": "2023-04-19T16:23:38.283Z"
   },
   {
    "duration": 23,
    "start_time": "2023-04-19T16:23:38.315Z"
   },
   {
    "duration": 11,
    "start_time": "2023-04-19T16:23:38.340Z"
   },
   {
    "duration": 40,
    "start_time": "2023-04-19T16:23:38.353Z"
   },
   {
    "duration": 20,
    "start_time": "2023-04-19T16:23:38.395Z"
   },
   {
    "duration": 143,
    "start_time": "2023-04-19T16:23:38.417Z"
   },
   {
    "duration": 10,
    "start_time": "2023-04-19T16:23:58.484Z"
   },
   {
    "duration": 828,
    "start_time": "2023-04-19T16:24:35.984Z"
   },
   {
    "duration": 808,
    "start_time": "2023-04-19T16:24:50.597Z"
   },
   {
    "duration": 717,
    "start_time": "2023-04-19T16:25:26.885Z"
   },
   {
    "duration": 10,
    "start_time": "2023-04-19T16:26:03.036Z"
   },
   {
    "duration": 1496,
    "start_time": "2023-04-19T16:26:07.783Z"
   },
   {
    "duration": 4,
    "start_time": "2023-04-19T16:26:09.281Z"
   },
   {
    "duration": 702,
    "start_time": "2023-04-19T16:26:09.287Z"
   },
   {
    "duration": 3,
    "start_time": "2023-04-19T16:26:09.991Z"
   },
   {
    "duration": 30,
    "start_time": "2023-04-19T16:26:09.997Z"
   },
   {
    "duration": 26,
    "start_time": "2023-04-19T16:26:10.029Z"
   },
   {
    "duration": 49,
    "start_time": "2023-04-19T16:26:10.057Z"
   },
   {
    "duration": 9,
    "start_time": "2023-04-19T16:26:10.108Z"
   },
   {
    "duration": 14,
    "start_time": "2023-04-19T16:26:10.119Z"
   },
   {
    "duration": 22,
    "start_time": "2023-04-19T16:26:10.135Z"
   },
   {
    "duration": 76,
    "start_time": "2023-04-19T16:26:10.159Z"
   },
   {
    "duration": 101,
    "start_time": "2023-04-19T16:26:10.237Z"
   },
   {
    "duration": 14,
    "start_time": "2023-04-19T16:26:19.588Z"
   },
   {
    "duration": 13,
    "start_time": "2023-04-19T16:27:38.862Z"
   },
   {
    "duration": 1449,
    "start_time": "2023-04-19T16:27:43.432Z"
   },
   {
    "duration": 3,
    "start_time": "2023-04-19T16:27:44.883Z"
   },
   {
    "duration": 705,
    "start_time": "2023-04-19T16:27:44.891Z"
   },
   {
    "duration": 3,
    "start_time": "2023-04-19T16:27:45.598Z"
   },
   {
    "duration": 29,
    "start_time": "2023-04-19T16:27:45.602Z"
   },
   {
    "duration": 23,
    "start_time": "2023-04-19T16:27:45.633Z"
   },
   {
    "duration": 43,
    "start_time": "2023-04-19T16:27:45.658Z"
   },
   {
    "duration": 10,
    "start_time": "2023-04-19T16:27:45.702Z"
   },
   {
    "duration": 22,
    "start_time": "2023-04-19T16:27:45.715Z"
   },
   {
    "duration": 19,
    "start_time": "2023-04-19T16:27:45.739Z"
   },
   {
    "duration": 73,
    "start_time": "2023-04-19T16:27:45.760Z"
   },
   {
    "duration": 85,
    "start_time": "2023-04-19T16:27:45.835Z"
   },
   {
    "duration": 1521,
    "start_time": "2023-04-19T16:27:58.880Z"
   },
   {
    "duration": 5,
    "start_time": "2023-04-19T16:28:00.403Z"
   },
   {
    "duration": 769,
    "start_time": "2023-04-19T16:28:00.409Z"
   },
   {
    "duration": 3,
    "start_time": "2023-04-19T16:28:01.180Z"
   },
   {
    "duration": 56,
    "start_time": "2023-04-19T16:28:01.185Z"
   },
   {
    "duration": 37,
    "start_time": "2023-04-19T16:28:01.244Z"
   },
   {
    "duration": 39,
    "start_time": "2023-04-19T16:28:01.283Z"
   },
   {
    "duration": 13,
    "start_time": "2023-04-19T16:28:01.324Z"
   },
   {
    "duration": 42,
    "start_time": "2023-04-19T16:28:01.339Z"
   },
   {
    "duration": 33,
    "start_time": "2023-04-19T16:28:01.385Z"
   },
   {
    "duration": 62,
    "start_time": "2023-04-19T16:28:01.421Z"
   },
   {
    "duration": 57,
    "start_time": "2023-04-19T16:28:35.270Z"
   },
   {
    "duration": 13,
    "start_time": "2023-04-19T16:28:38.390Z"
   },
   {
    "duration": 31,
    "start_time": "2023-04-19T16:29:21.381Z"
   },
   {
    "duration": 1347,
    "start_time": "2023-04-19T16:29:38.132Z"
   },
   {
    "duration": 4,
    "start_time": "2023-04-19T16:29:39.481Z"
   },
   {
    "duration": 697,
    "start_time": "2023-04-19T16:29:39.486Z"
   },
   {
    "duration": 2,
    "start_time": "2023-04-19T16:29:40.185Z"
   },
   {
    "duration": 28,
    "start_time": "2023-04-19T16:29:40.197Z"
   },
   {
    "duration": 24,
    "start_time": "2023-04-19T16:29:40.227Z"
   },
   {
    "duration": 56,
    "start_time": "2023-04-19T16:29:40.254Z"
   },
   {
    "duration": 13,
    "start_time": "2023-04-19T16:29:40.312Z"
   },
   {
    "duration": 16,
    "start_time": "2023-04-19T16:29:40.327Z"
   },
   {
    "duration": 19,
    "start_time": "2023-04-19T16:29:40.345Z"
   },
   {
    "duration": 62,
    "start_time": "2023-04-19T16:29:40.393Z"
   },
   {
    "duration": 69,
    "start_time": "2023-04-19T16:29:40.457Z"
   },
   {
    "duration": 4,
    "start_time": "2023-04-19T16:31:32.537Z"
   },
   {
    "duration": 847,
    "start_time": "2023-04-19T16:31:37.002Z"
   },
   {
    "duration": 1458,
    "start_time": "2023-04-19T16:31:43.821Z"
   },
   {
    "duration": 4,
    "start_time": "2023-04-19T16:31:45.282Z"
   },
   {
    "duration": 725,
    "start_time": "2023-04-19T16:31:45.288Z"
   },
   {
    "duration": 4,
    "start_time": "2023-04-19T16:31:46.015Z"
   },
   {
    "duration": 34,
    "start_time": "2023-04-19T16:31:46.021Z"
   },
   {
    "duration": 39,
    "start_time": "2023-04-19T16:31:46.057Z"
   },
   {
    "duration": 26,
    "start_time": "2023-04-19T16:31:46.098Z"
   },
   {
    "duration": 12,
    "start_time": "2023-04-19T16:31:46.126Z"
   },
   {
    "duration": 16,
    "start_time": "2023-04-19T16:31:46.139Z"
   },
   {
    "duration": 60,
    "start_time": "2023-04-19T16:31:46.157Z"
   },
   {
    "duration": 204,
    "start_time": "2023-04-19T16:31:46.220Z"
   },
   {
    "duration": 18,
    "start_time": "2023-04-19T16:32:00.999Z"
   },
   {
    "duration": 112,
    "start_time": "2023-04-19T16:32:28.575Z"
   },
   {
    "duration": 29,
    "start_time": "2023-04-19T16:32:31.114Z"
   },
   {
    "duration": 12,
    "start_time": "2023-04-19T16:32:38.439Z"
   },
   {
    "duration": 65,
    "start_time": "2023-04-19T16:34:39.988Z"
   },
   {
    "duration": 20,
    "start_time": "2023-04-19T16:34:46.506Z"
   },
   {
    "duration": 68,
    "start_time": "2023-04-19T16:34:49.026Z"
   },
   {
    "duration": 791,
    "start_time": "2023-04-19T16:34:49.226Z"
   },
   {
    "duration": 16,
    "start_time": "2023-04-19T16:34:52.407Z"
   },
   {
    "duration": 25,
    "start_time": "2023-04-19T16:35:02.251Z"
   },
   {
    "duration": 21,
    "start_time": "2023-04-19T16:35:09.484Z"
   },
   {
    "duration": 4,
    "start_time": "2023-04-19T16:35:28.214Z"
   },
   {
    "duration": 3007,
    "start_time": "2023-04-19T16:35:43.617Z"
   },
   {
    "duration": 5,
    "start_time": "2023-04-19T16:35:46.626Z"
   },
   {
    "duration": 861,
    "start_time": "2023-04-19T16:35:46.633Z"
   },
   {
    "duration": 2,
    "start_time": "2023-04-19T16:35:47.496Z"
   },
   {
    "duration": 36,
    "start_time": "2023-04-19T16:35:47.501Z"
   },
   {
    "duration": 35,
    "start_time": "2023-04-19T16:35:47.539Z"
   },
   {
    "duration": 46,
    "start_time": "2023-04-19T16:35:47.576Z"
   },
   {
    "duration": 12,
    "start_time": "2023-04-19T16:35:47.624Z"
   },
   {
    "duration": 21,
    "start_time": "2023-04-19T16:35:47.638Z"
   },
   {
    "duration": 58,
    "start_time": "2023-04-19T16:35:47.661Z"
   },
   {
    "duration": 272,
    "start_time": "2023-04-19T16:35:47.721Z"
   },
   {
    "duration": 27,
    "start_time": "2023-04-19T16:35:47.995Z"
   },
   {
    "duration": 142,
    "start_time": "2023-04-19T16:37:44.974Z"
   },
   {
    "duration": 17,
    "start_time": "2023-04-19T16:38:19.799Z"
   },
   {
    "duration": 257,
    "start_time": "2023-04-19T16:38:32.336Z"
   },
   {
    "duration": 4,
    "start_time": "2023-04-19T16:39:26.117Z"
   },
   {
    "duration": 7721,
    "start_time": "2023-04-19T16:41:39.132Z"
   },
   {
    "duration": 12155,
    "start_time": "2023-04-19T16:43:01.406Z"
   },
   {
    "duration": 8318,
    "start_time": "2023-04-19T16:43:14.858Z"
   },
   {
    "duration": 8836,
    "start_time": "2023-04-19T16:43:24.984Z"
   },
   {
    "duration": 4345,
    "start_time": "2023-04-19T16:43:53.611Z"
   },
   {
    "duration": 8749,
    "start_time": "2023-04-19T16:44:02.265Z"
   },
   {
    "duration": 849,
    "start_time": "2023-04-19T16:44:53.352Z"
   },
   {
    "duration": 5,
    "start_time": "2023-04-19T16:45:36.844Z"
   },
   {
    "duration": 2033,
    "start_time": "2023-04-19T16:45:43.695Z"
   },
   {
    "duration": 16,
    "start_time": "2023-04-19T16:45:45.731Z"
   },
   {
    "duration": 1031,
    "start_time": "2023-04-19T16:45:45.756Z"
   },
   {
    "duration": 6,
    "start_time": "2023-04-19T16:45:46.790Z"
   },
   {
    "duration": 63,
    "start_time": "2023-04-19T16:45:46.800Z"
   },
   {
    "duration": 34,
    "start_time": "2023-04-19T16:45:46.866Z"
   },
   {
    "duration": 44,
    "start_time": "2023-04-19T16:45:46.902Z"
   },
   {
    "duration": 32,
    "start_time": "2023-04-19T16:45:46.949Z"
   },
   {
    "duration": 46,
    "start_time": "2023-04-19T16:45:46.983Z"
   },
   {
    "duration": 33,
    "start_time": "2023-04-19T16:45:47.031Z"
   },
   {
    "duration": 195,
    "start_time": "2023-04-19T16:45:47.066Z"
   },
   {
    "duration": 0,
    "start_time": "2023-04-19T16:45:47.263Z"
   },
   {
    "duration": 60,
    "start_time": "2023-04-19T16:48:16.974Z"
   },
   {
    "duration": 56,
    "start_time": "2023-04-19T16:48:20.374Z"
   },
   {
    "duration": 5,
    "start_time": "2023-04-19T16:48:36.380Z"
   },
   {
    "duration": 1386,
    "start_time": "2023-04-19T16:48:43.282Z"
   },
   {
    "duration": 5,
    "start_time": "2023-04-19T16:48:44.671Z"
   },
   {
    "duration": 742,
    "start_time": "2023-04-19T16:48:44.679Z"
   },
   {
    "duration": 2,
    "start_time": "2023-04-19T16:48:45.423Z"
   },
   {
    "duration": 28,
    "start_time": "2023-04-19T16:48:45.428Z"
   },
   {
    "duration": 41,
    "start_time": "2023-04-19T16:48:45.458Z"
   },
   {
    "duration": 25,
    "start_time": "2023-04-19T16:48:45.500Z"
   },
   {
    "duration": 12,
    "start_time": "2023-04-19T16:48:45.527Z"
   },
   {
    "duration": 15,
    "start_time": "2023-04-19T16:48:45.541Z"
   },
   {
    "duration": 48,
    "start_time": "2023-04-19T16:48:45.557Z"
   },
   {
    "duration": 696,
    "start_time": "2023-04-19T16:48:45.606Z"
   },
   {
    "duration": 8020,
    "start_time": "2023-04-19T16:48:46.304Z"
   },
   {
    "duration": 5,
    "start_time": "2023-04-19T16:49:32.169Z"
   },
   {
    "duration": 3,
    "start_time": "2023-04-19T16:50:24.551Z"
   },
   {
    "duration": 6,
    "start_time": "2023-04-19T17:16:13.194Z"
   },
   {
    "duration": 134,
    "start_time": "2023-04-19T17:16:35.535Z"
   },
   {
    "duration": 3,
    "start_time": "2023-04-19T17:16:47.525Z"
   },
   {
    "duration": 10,
    "start_time": "2023-04-19T17:16:52.778Z"
   },
   {
    "duration": 12,
    "start_time": "2023-04-19T17:17:02.582Z"
   },
   {
    "duration": 5,
    "start_time": "2023-04-19T17:17:14.829Z"
   },
   {
    "duration": 12,
    "start_time": "2023-04-19T17:17:20.577Z"
   },
   {
    "duration": 6,
    "start_time": "2023-04-19T17:17:31.577Z"
   },
   {
    "duration": 14,
    "start_time": "2023-04-19T17:17:35.736Z"
   },
   {
    "duration": 5,
    "start_time": "2023-04-19T17:18:01.375Z"
   },
   {
    "duration": 7,
    "start_time": "2023-04-19T17:19:33.424Z"
   },
   {
    "duration": 794,
    "start_time": "2023-04-19T17:19:38.518Z"
   },
   {
    "duration": 6,
    "start_time": "2023-04-19T17:20:38.078Z"
   },
   {
    "duration": 21,
    "start_time": "2023-04-19T17:20:46.592Z"
   },
   {
    "duration": 7,
    "start_time": "2023-04-19T17:20:53.393Z"
   },
   {
    "duration": 18,
    "start_time": "2023-04-19T17:20:57.432Z"
   },
   {
    "duration": 5,
    "start_time": "2023-04-19T17:21:16.667Z"
   },
   {
    "duration": 163,
    "start_time": "2023-04-19T17:21:21.407Z"
   },
   {
    "duration": 7,
    "start_time": "2023-04-19T17:27:15.809Z"
   },
   {
    "duration": 15,
    "start_time": "2023-04-19T17:27:25.237Z"
   },
   {
    "duration": 5,
    "start_time": "2023-04-19T17:27:42.583Z"
   },
   {
    "duration": 115,
    "start_time": "2023-04-19T17:27:48.697Z"
   },
   {
    "duration": 5,
    "start_time": "2023-04-19T17:28:21.062Z"
   },
   {
    "duration": 105,
    "start_time": "2023-04-19T17:28:25.633Z"
   },
   {
    "duration": 6,
    "start_time": "2023-04-19T17:32:30.728Z"
   },
   {
    "duration": 6,
    "start_time": "2023-04-19T17:32:38.013Z"
   },
   {
    "duration": 14,
    "start_time": "2023-04-19T17:32:41.495Z"
   },
   {
    "duration": 6,
    "start_time": "2023-04-19T17:36:03.237Z"
   },
   {
    "duration": 5,
    "start_time": "2023-04-19T17:36:08.264Z"
   },
   {
    "duration": 15,
    "start_time": "2023-04-19T17:36:14.662Z"
   },
   {
    "duration": 6,
    "start_time": "2023-04-19T17:36:30.640Z"
   },
   {
    "duration": 21,
    "start_time": "2023-04-19T17:36:33.734Z"
   },
   {
    "duration": 6,
    "start_time": "2023-04-19T17:41:45.788Z"
   },
   {
    "duration": 16,
    "start_time": "2023-04-19T17:41:51.273Z"
   },
   {
    "duration": 10,
    "start_time": "2023-04-19T17:42:00.724Z"
   },
   {
    "duration": 19,
    "start_time": "2023-04-19T17:42:05.570Z"
   },
   {
    "duration": 8,
    "start_time": "2023-04-19T17:42:18.187Z"
   },
   {
    "duration": 127,
    "start_time": "2023-04-19T17:42:22.299Z"
   },
   {
    "duration": 5,
    "start_time": "2023-04-19T17:43:20.868Z"
   },
   {
    "duration": 128,
    "start_time": "2023-04-19T17:43:24.798Z"
   },
   {
    "duration": 8,
    "start_time": "2023-04-19T17:43:47.819Z"
   },
   {
    "duration": 129,
    "start_time": "2023-04-19T17:43:51.066Z"
   },
   {
    "duration": 5,
    "start_time": "2023-04-19T17:44:05.813Z"
   },
   {
    "duration": 128,
    "start_time": "2023-04-19T17:44:10.053Z"
   },
   {
    "duration": 122,
    "start_time": "2023-04-19T17:44:44.010Z"
   },
   {
    "duration": 729,
    "start_time": "2023-04-19T17:44:49.078Z"
   },
   {
    "duration": 130,
    "start_time": "2023-04-19T17:44:57.896Z"
   },
   {
    "duration": 71,
    "start_time": "2023-04-19T18:38:55.752Z"
   },
   {
    "duration": 7,
    "start_time": "2023-04-19T18:40:14.824Z"
   },
   {
    "duration": 131,
    "start_time": "2023-04-19T18:40:19.234Z"
   },
   {
    "duration": 124,
    "start_time": "2023-04-19T18:40:20.052Z"
   },
   {
    "duration": 128,
    "start_time": "2023-04-19T18:40:20.792Z"
   },
   {
    "duration": 130,
    "start_time": "2023-04-19T18:40:36.555Z"
   },
   {
    "duration": 747,
    "start_time": "2023-04-19T18:47:12.810Z"
   },
   {
    "duration": 808,
    "start_time": "2023-04-19T18:47:30.091Z"
   },
   {
    "duration": 547,
    "start_time": "2023-04-19T18:47:44.534Z"
   },
   {
    "duration": 166,
    "start_time": "2023-04-19T18:47:50.168Z"
   },
   {
    "duration": 344,
    "start_time": "2023-04-19T18:48:03.757Z"
   },
   {
    "duration": 219,
    "start_time": "2023-04-19T18:48:17.824Z"
   },
   {
    "duration": 157,
    "start_time": "2023-04-19T18:50:56.190Z"
   },
   {
    "duration": 144,
    "start_time": "2023-04-19T18:51:09.852Z"
   },
   {
    "duration": 161,
    "start_time": "2023-04-19T18:51:14.246Z"
   },
   {
    "duration": 151,
    "start_time": "2023-04-19T18:51:17.894Z"
   },
   {
    "duration": 149,
    "start_time": "2023-04-19T18:51:22.605Z"
   },
   {
    "duration": 186,
    "start_time": "2023-04-19T18:51:27.109Z"
   },
   {
    "duration": 155,
    "start_time": "2023-04-19T18:51:29.548Z"
   },
   {
    "duration": 275,
    "start_time": "2023-04-19T18:51:45.564Z"
   },
   {
    "duration": 174,
    "start_time": "2023-04-19T18:51:51.491Z"
   },
   {
    "duration": 52,
    "start_time": "2023-04-19T18:51:55.346Z"
   },
   {
    "duration": 230,
    "start_time": "2023-04-19T18:51:58.096Z"
   },
   {
    "duration": 169,
    "start_time": "2023-04-19T18:52:04.817Z"
   },
   {
    "duration": 127,
    "start_time": "2023-04-19T18:56:50.793Z"
   },
   {
    "duration": 169,
    "start_time": "2023-04-19T18:56:53.535Z"
   },
   {
    "duration": 181,
    "start_time": "2023-04-19T18:56:59.132Z"
   },
   {
    "duration": 172,
    "start_time": "2023-04-19T18:57:05.144Z"
   },
   {
    "duration": 165,
    "start_time": "2023-04-19T18:57:10.284Z"
   },
   {
    "duration": 171,
    "start_time": "2023-04-19T18:57:17.307Z"
   },
   {
    "duration": 173,
    "start_time": "2023-04-19T19:07:56.895Z"
   },
   {
    "duration": 9,
    "start_time": "2023-04-19T19:10:10.382Z"
   },
   {
    "duration": 711,
    "start_time": "2023-04-19T19:10:24.045Z"
   },
   {
    "duration": 684,
    "start_time": "2023-04-19T19:10:34.698Z"
   },
   {
    "duration": 14,
    "start_time": "2023-04-19T19:10:54.018Z"
   },
   {
    "duration": 173,
    "start_time": "2023-04-19T19:11:14.454Z"
   },
   {
    "duration": 779,
    "start_time": "2023-04-19T19:13:22.952Z"
   },
   {
    "duration": 107,
    "start_time": "2023-04-19T19:13:41.927Z"
   },
   {
    "duration": 264,
    "start_time": "2023-04-19T19:16:16.291Z"
   },
   {
    "duration": 139,
    "start_time": "2023-04-19T19:20:27.141Z"
   },
   {
    "duration": 253,
    "start_time": "2023-04-19T19:21:00.010Z"
   },
   {
    "duration": 127,
    "start_time": "2023-04-19T19:21:00.735Z"
   },
   {
    "duration": 186,
    "start_time": "2023-04-19T19:21:15.246Z"
   },
   {
    "duration": 215,
    "start_time": "2023-04-19T19:21:25.382Z"
   },
   {
    "duration": 29,
    "start_time": "2023-04-19T19:22:57.272Z"
   },
   {
    "duration": 128,
    "start_time": "2023-04-19T19:22:59.268Z"
   },
   {
    "duration": 176,
    "start_time": "2023-04-19T19:24:21.913Z"
   },
   {
    "duration": 138,
    "start_time": "2023-04-19T19:24:30.077Z"
   },
   {
    "duration": 132,
    "start_time": "2023-04-19T19:25:01.548Z"
   },
   {
    "duration": 3,
    "start_time": "2023-04-19T19:39:14.967Z"
   },
   {
    "duration": 10,
    "start_time": "2023-04-19T19:42:48.238Z"
   },
   {
    "duration": 7,
    "start_time": "2023-04-19T19:45:57.253Z"
   },
   {
    "duration": 9,
    "start_time": "2023-04-19T20:40:46.993Z"
   },
   {
    "duration": 4,
    "start_time": "2023-04-19T20:44:10.384Z"
   },
   {
    "duration": 13,
    "start_time": "2023-04-19T20:44:16.997Z"
   },
   {
    "duration": 17,
    "start_time": "2023-04-19T20:44:39.208Z"
   },
   {
    "duration": 14,
    "start_time": "2023-04-19T20:45:09.440Z"
   },
   {
    "duration": 12,
    "start_time": "2023-04-19T20:47:25.832Z"
   },
   {
    "duration": 15,
    "start_time": "2023-04-19T20:47:42.354Z"
   },
   {
    "duration": 16,
    "start_time": "2023-04-19T20:48:48.383Z"
   },
   {
    "duration": 21,
    "start_time": "2023-04-19T20:48:54.186Z"
   },
   {
    "duration": 14,
    "start_time": "2023-04-19T20:49:17.387Z"
   },
   {
    "duration": 15,
    "start_time": "2023-04-19T20:49:22.298Z"
   },
   {
    "duration": 14,
    "start_time": "2023-04-19T20:49:27.847Z"
   },
   {
    "duration": 15,
    "start_time": "2023-04-19T20:49:38.154Z"
   },
   {
    "duration": 18,
    "start_time": "2023-04-19T20:49:53.200Z"
   },
   {
    "duration": 6,
    "start_time": "2023-04-19T20:53:55.024Z"
   },
   {
    "duration": 4,
    "start_time": "2023-04-19T21:08:32.176Z"
   },
   {
    "duration": 5,
    "start_time": "2023-04-19T21:08:35.851Z"
   },
   {
    "duration": 5,
    "start_time": "2023-04-19T21:08:45.273Z"
   },
   {
    "duration": 5,
    "start_time": "2023-04-19T21:09:39.555Z"
   },
   {
    "duration": 6,
    "start_time": "2023-04-19T21:10:20.846Z"
   },
   {
    "duration": 17,
    "start_time": "2023-04-19T21:10:26.077Z"
   },
   {
    "duration": 4,
    "start_time": "2023-04-19T21:12:55.106Z"
   },
   {
    "duration": 3,
    "start_time": "2023-04-19T21:13:14.123Z"
   },
   {
    "duration": 14,
    "start_time": "2023-04-19T21:13:31.626Z"
   },
   {
    "duration": 12,
    "start_time": "2023-04-19T21:13:44.763Z"
   },
   {
    "duration": 14,
    "start_time": "2023-04-19T21:13:59.849Z"
   },
   {
    "duration": 11,
    "start_time": "2023-04-19T21:14:23.100Z"
   },
   {
    "duration": 3,
    "start_time": "2023-04-19T21:14:43.746Z"
   },
   {
    "duration": 6,
    "start_time": "2023-04-19T21:14:46.622Z"
   },
   {
    "duration": 5,
    "start_time": "2023-04-19T21:14:51.038Z"
   },
   {
    "duration": 45,
    "start_time": "2023-04-19T21:25:15.741Z"
   },
   {
    "duration": 3,
    "start_time": "2023-04-19T21:30:08.452Z"
   },
   {
    "duration": 24,
    "start_time": "2023-04-19T21:41:29.504Z"
   },
   {
    "duration": 7,
    "start_time": "2023-04-19T21:45:10.083Z"
   },
   {
    "duration": 5,
    "start_time": "2023-04-19T21:45:20.621Z"
   },
   {
    "duration": 501,
    "start_time": "2023-04-19T21:46:34.651Z"
   },
   {
    "duration": 5,
    "start_time": "2023-04-19T21:46:40.316Z"
   },
   {
    "duration": 5,
    "start_time": "2023-04-19T21:46:43.594Z"
   },
   {
    "duration": 17,
    "start_time": "2023-04-19T21:47:12.043Z"
   },
   {
    "duration": 6,
    "start_time": "2023-04-19T21:48:26.042Z"
   },
   {
    "duration": 5,
    "start_time": "2023-04-19T21:48:28.934Z"
   },
   {
    "duration": 3,
    "start_time": "2023-04-19T21:48:31.102Z"
   },
   {
    "duration": 6,
    "start_time": "2023-04-19T21:48:33.336Z"
   },
   {
    "duration": 5,
    "start_time": "2023-04-19T21:48:34.615Z"
   },
   {
    "duration": 207,
    "start_time": "2023-04-19T21:48:40.739Z"
   },
   {
    "duration": 225,
    "start_time": "2023-04-19T21:49:01.924Z"
   },
   {
    "duration": 205,
    "start_time": "2023-04-19T21:49:21.929Z"
   },
   {
    "duration": 272,
    "start_time": "2023-04-19T21:50:03.157Z"
   },
   {
    "duration": 248,
    "start_time": "2023-04-19T21:50:16.483Z"
   },
   {
    "duration": 10,
    "start_time": "2023-04-19T21:52:29.595Z"
   },
   {
    "duration": 6,
    "start_time": "2023-04-19T21:52:33.819Z"
   },
   {
    "duration": 30,
    "start_time": "2023-04-19T21:52:49.889Z"
   },
   {
    "duration": 11,
    "start_time": "2023-04-19T21:53:05.099Z"
   },
   {
    "duration": 20,
    "start_time": "2023-04-19T21:56:45.399Z"
   },
   {
    "duration": 29,
    "start_time": "2023-04-19T21:57:38.086Z"
   },
   {
    "duration": 10,
    "start_time": "2023-04-19T22:01:22.861Z"
   },
   {
    "duration": 204,
    "start_time": "2023-04-19T22:05:08.858Z"
   },
   {
    "duration": 1389,
    "start_time": "2023-04-19T22:05:26.919Z"
   },
   {
    "duration": 6,
    "start_time": "2023-04-19T22:05:28.310Z"
   },
   {
    "duration": 709,
    "start_time": "2023-04-19T22:05:28.318Z"
   },
   {
    "duration": 2,
    "start_time": "2023-04-19T22:05:29.029Z"
   },
   {
    "duration": 30,
    "start_time": "2023-04-19T22:05:29.034Z"
   },
   {
    "duration": 37,
    "start_time": "2023-04-19T22:05:29.065Z"
   },
   {
    "duration": 31,
    "start_time": "2023-04-19T22:05:29.104Z"
   },
   {
    "duration": 9,
    "start_time": "2023-04-19T22:05:29.137Z"
   },
   {
    "duration": 14,
    "start_time": "2023-04-19T22:05:29.147Z"
   },
   {
    "duration": 39,
    "start_time": "2023-04-19T22:05:29.162Z"
   },
   {
    "duration": 444,
    "start_time": "2023-04-19T22:05:29.203Z"
   },
   {
    "duration": 147,
    "start_time": "2023-04-19T22:05:29.649Z"
   },
   {
    "duration": 127,
    "start_time": "2023-04-19T22:05:29.798Z"
   },
   {
    "duration": 134,
    "start_time": "2023-04-19T22:05:29.928Z"
   },
   {
    "duration": 173,
    "start_time": "2023-04-19T22:05:30.063Z"
   },
   {
    "duration": 84,
    "start_time": "2023-04-19T22:05:30.238Z"
   },
   {
    "duration": 224,
    "start_time": "2023-04-19T22:05:30.323Z"
   },
   {
    "duration": 10,
    "start_time": "2023-04-19T22:05:30.549Z"
   },
   {
    "duration": 32,
    "start_time": "2023-04-19T22:05:30.560Z"
   },
   {
    "duration": 50,
    "start_time": "2023-04-19T22:05:30.595Z"
   },
   {
    "duration": 66,
    "start_time": "2023-04-19T22:05:30.647Z"
   },
   {
    "duration": 51,
    "start_time": "2023-04-19T22:05:30.714Z"
   },
   {
    "duration": 263,
    "start_time": "2023-04-19T22:05:30.767Z"
   },
   {
    "duration": 6,
    "start_time": "2023-04-19T22:06:08.222Z"
   },
   {
    "duration": 208,
    "start_time": "2023-04-19T22:06:11.204Z"
   },
   {
    "duration": 120,
    "start_time": "2023-04-19T22:06:44.732Z"
   },
   {
    "duration": 6,
    "start_time": "2023-04-19T22:11:35.322Z"
   },
   {
    "duration": 6,
    "start_time": "2023-04-19T22:11:37.845Z"
   },
   {
    "duration": 12,
    "start_time": "2023-04-19T22:14:43.282Z"
   },
   {
    "duration": 588,
    "start_time": "2023-04-19T22:15:17.605Z"
   },
   {
    "duration": 555,
    "start_time": "2023-04-19T22:15:23.847Z"
   },
   {
    "duration": 1863,
    "start_time": "2023-04-19T22:15:37.133Z"
   },
   {
    "duration": 599,
    "start_time": "2023-04-19T22:15:45.604Z"
   },
   {
    "duration": 799,
    "start_time": "2023-04-19T22:16:04.898Z"
   },
   {
    "duration": 344,
    "start_time": "2023-04-19T22:20:36.551Z"
   },
   {
    "duration": 1711,
    "start_time": "2023-04-19T22:20:41.585Z"
   },
   {
    "duration": 102,
    "start_time": "2023-04-19T22:20:52.601Z"
   },
   {
    "duration": 3448,
    "start_time": "2023-04-19T22:21:00.546Z"
   },
   {
    "duration": 3104,
    "start_time": "2023-04-19T22:22:20.198Z"
   },
   {
    "duration": 15,
    "start_time": "2023-04-19T22:22:32.698Z"
   },
   {
    "duration": 14,
    "start_time": "2023-04-19T22:22:42.585Z"
   },
   {
    "duration": 14,
    "start_time": "2023-04-19T22:23:00.537Z"
   },
   {
    "duration": 3,
    "start_time": "2023-04-19T22:24:58.115Z"
   },
   {
    "duration": 15,
    "start_time": "2023-04-19T22:25:06.712Z"
   },
   {
    "duration": 3816,
    "start_time": "2023-04-19T22:25:11.781Z"
   },
   {
    "duration": 4094,
    "start_time": "2023-04-19T22:35:03.498Z"
   },
   {
    "duration": 4,
    "start_time": "2023-04-19T22:42:14.033Z"
   },
   {
    "duration": 2,
    "start_time": "2023-04-19T22:42:37.873Z"
   },
   {
    "duration": 4,
    "start_time": "2023-04-19T22:43:06.821Z"
   },
   {
    "duration": 3,
    "start_time": "2023-04-19T22:44:52.572Z"
   },
   {
    "duration": 10,
    "start_time": "2023-04-19T22:46:04.448Z"
   },
   {
    "duration": 4,
    "start_time": "2023-04-19T22:46:11.217Z"
   },
   {
    "duration": 36898,
    "start_time": "2023-04-19T22:48:04.472Z"
   },
   {
    "duration": 7,
    "start_time": "2023-04-19T22:49:21.637Z"
   },
   {
    "duration": 9,
    "start_time": "2023-04-19T22:49:25.502Z"
   },
   {
    "duration": 5,
    "start_time": "2023-04-19T22:49:30.178Z"
   },
   {
    "duration": 36883,
    "start_time": "2023-04-19T22:50:41.713Z"
   },
   {
    "duration": 5,
    "start_time": "2023-04-19T22:52:12.276Z"
   },
   {
    "duration": 8,
    "start_time": "2023-04-19T22:52:23.176Z"
   },
   {
    "duration": 3,
    "start_time": "2023-04-19T22:52:26.239Z"
   },
   {
    "duration": 69967,
    "start_time": "2023-04-19T23:02:17.513Z"
   },
   {
    "duration": 4,
    "start_time": "2023-04-19T23:04:39.423Z"
   },
   {
    "duration": 3,
    "start_time": "2023-04-19T23:04:41.573Z"
   },
   {
    "duration": 1324,
    "start_time": "2023-04-19T23:48:38.048Z"
   },
   {
    "duration": 6,
    "start_time": "2023-04-19T23:48:39.373Z"
   },
   {
    "duration": 724,
    "start_time": "2023-04-19T23:48:39.381Z"
   },
   {
    "duration": 2,
    "start_time": "2023-04-19T23:48:40.107Z"
   },
   {
    "duration": 33,
    "start_time": "2023-04-19T23:48:40.111Z"
   },
   {
    "duration": 22,
    "start_time": "2023-04-19T23:48:40.147Z"
   },
   {
    "duration": 39,
    "start_time": "2023-04-19T23:48:40.171Z"
   },
   {
    "duration": 12,
    "start_time": "2023-04-19T23:48:40.212Z"
   },
   {
    "duration": 13,
    "start_time": "2023-04-19T23:48:40.226Z"
   },
   {
    "duration": 18,
    "start_time": "2023-04-19T23:48:40.242Z"
   },
   {
    "duration": 458,
    "start_time": "2023-04-19T23:48:40.262Z"
   },
   {
    "duration": 144,
    "start_time": "2023-04-19T23:48:40.722Z"
   },
   {
    "duration": 126,
    "start_time": "2023-04-19T23:48:40.868Z"
   },
   {
    "duration": 125,
    "start_time": "2023-04-19T23:48:40.996Z"
   },
   {
    "duration": 175,
    "start_time": "2023-04-19T23:48:41.123Z"
   },
   {
    "duration": 67,
    "start_time": "2023-04-19T23:48:41.300Z"
   },
   {
    "duration": 213,
    "start_time": "2023-04-19T23:48:41.369Z"
   },
   {
    "duration": 5,
    "start_time": "2023-04-19T23:48:41.592Z"
   },
   {
    "duration": 5,
    "start_time": "2023-04-19T23:48:41.599Z"
   },
   {
    "duration": 9,
    "start_time": "2023-04-19T23:48:41.606Z"
   },
   {
    "duration": 1856,
    "start_time": "2023-04-20T06:54:26.735Z"
   },
   {
    "duration": 7,
    "start_time": "2023-04-20T06:54:28.594Z"
   },
   {
    "duration": 3263,
    "start_time": "2023-04-20T06:54:28.603Z"
   },
   {
    "duration": 3,
    "start_time": "2023-04-20T06:54:31.869Z"
   },
   {
    "duration": 65,
    "start_time": "2023-04-20T06:54:31.874Z"
   },
   {
    "duration": 31,
    "start_time": "2023-04-20T06:54:31.940Z"
   },
   {
    "duration": 73,
    "start_time": "2023-04-20T06:54:31.973Z"
   },
   {
    "duration": 38,
    "start_time": "2023-04-20T06:54:32.047Z"
   },
   {
    "duration": 40,
    "start_time": "2023-04-20T06:54:32.086Z"
   },
   {
    "duration": 38,
    "start_time": "2023-04-20T06:54:32.129Z"
   },
   {
    "duration": 466,
    "start_time": "2023-04-20T06:54:32.169Z"
   },
   {
    "duration": 162,
    "start_time": "2023-04-20T06:54:32.637Z"
   },
   {
    "duration": 140,
    "start_time": "2023-04-20T06:54:32.801Z"
   },
   {
    "duration": 144,
    "start_time": "2023-04-20T06:54:32.943Z"
   },
   {
    "duration": 199,
    "start_time": "2023-04-20T06:54:33.089Z"
   },
   {
    "duration": 100,
    "start_time": "2023-04-20T06:54:33.290Z"
   },
   {
    "duration": 255,
    "start_time": "2023-04-20T06:54:33.392Z"
   },
   {
    "duration": 6,
    "start_time": "2023-04-20T06:54:33.649Z"
   },
   {
    "duration": 19,
    "start_time": "2023-04-20T06:54:33.657Z"
   },
   {
    "duration": 13,
    "start_time": "2023-04-20T06:54:33.678Z"
   },
   {
    "duration": 69330,
    "start_time": "2023-04-20T06:54:33.693Z"
   },
   {
    "duration": 16,
    "start_time": "2023-04-20T06:55:43.025Z"
   },
   {
    "duration": 5,
    "start_time": "2023-04-20T06:55:43.043Z"
   },
   {
    "duration": 98,
    "start_time": "2023-04-20T06:55:43.051Z"
   },
   {
    "duration": 0,
    "start_time": "2023-04-20T06:55:43.151Z"
   },
   {
    "duration": 294,
    "start_time": "2023-04-20T06:59:01.826Z"
   },
   {
    "duration": 992947,
    "start_time": "2023-04-20T06:59:12.206Z"
   },
   {
    "duration": 6,
    "start_time": "2023-04-20T07:16:15.464Z"
   },
   {
    "duration": 5,
    "start_time": "2023-04-20T07:16:34.509Z"
   },
   {
    "duration": 15028,
    "start_time": "2023-04-20T07:17:37.330Z"
   },
   {
    "duration": 4,
    "start_time": "2023-04-20T07:17:57.910Z"
   },
   {
    "duration": 5,
    "start_time": "2023-04-20T07:18:00.458Z"
   },
   {
    "duration": 11212,
    "start_time": "2023-04-20T08:00:15.489Z"
   },
   {
    "duration": 5,
    "start_time": "2023-04-20T08:00:30.179Z"
   },
   {
    "duration": 5,
    "start_time": "2023-04-20T08:00:33.929Z"
   },
   {
    "duration": 1603,
    "start_time": "2023-04-20T08:51:17.656Z"
   },
   {
    "duration": 7,
    "start_time": "2023-04-20T08:51:19.261Z"
   },
   {
    "duration": 779,
    "start_time": "2023-04-20T08:51:19.270Z"
   },
   {
    "duration": 5,
    "start_time": "2023-04-20T08:51:20.051Z"
   },
   {
    "duration": 55,
    "start_time": "2023-04-20T08:51:20.058Z"
   },
   {
    "duration": 26,
    "start_time": "2023-04-20T08:51:20.116Z"
   },
   {
    "duration": 38,
    "start_time": "2023-04-20T08:51:20.143Z"
   },
   {
    "duration": 24,
    "start_time": "2023-04-20T08:51:20.183Z"
   },
   {
    "duration": 30,
    "start_time": "2023-04-20T08:51:20.209Z"
   },
   {
    "duration": 25,
    "start_time": "2023-04-20T08:51:20.243Z"
   },
   {
    "duration": 476,
    "start_time": "2023-04-20T08:51:20.270Z"
   },
   {
    "duration": 171,
    "start_time": "2023-04-20T08:51:20.749Z"
   },
   {
    "duration": 143,
    "start_time": "2023-04-20T08:51:20.922Z"
   },
   {
    "duration": 151,
    "start_time": "2023-04-20T08:51:21.067Z"
   },
   {
    "duration": 199,
    "start_time": "2023-04-20T08:51:21.220Z"
   },
   {
    "duration": 74,
    "start_time": "2023-04-20T08:51:21.421Z"
   },
   {
    "duration": 253,
    "start_time": "2023-04-20T08:51:21.497Z"
   },
   {
    "duration": 9,
    "start_time": "2023-04-20T08:51:21.752Z"
   },
   {
    "duration": 15,
    "start_time": "2023-04-20T08:51:21.763Z"
   },
   {
    "duration": 13,
    "start_time": "2023-04-20T08:51:21.780Z"
   },
   {
    "duration": 11399,
    "start_time": "2023-04-20T08:51:21.795Z"
   },
   {
    "duration": 5,
    "start_time": "2023-04-20T08:51:33.196Z"
   },
   {
    "duration": 8,
    "start_time": "2023-04-20T08:51:33.203Z"
   },
   {
    "duration": 794270,
    "start_time": "2023-04-20T08:51:33.213Z"
   },
   {
    "duration": 7,
    "start_time": "2023-04-20T09:04:47.540Z"
   },
   {
    "duration": 5,
    "start_time": "2023-04-20T09:12:33.074Z"
   },
   {
    "duration": 408,
    "start_time": "2023-04-20T09:48:06.681Z"
   },
   {
    "duration": 1077,
    "start_time": "2023-04-20T09:48:17.868Z"
   },
   {
    "duration": 1236,
    "start_time": "2023-04-20T09:48:23.411Z"
   },
   {
    "duration": 1500,
    "start_time": "2023-04-20T09:48:28.383Z"
   },
   {
    "duration": 2017,
    "start_time": "2023-04-20T09:48:34.168Z"
   },
   {
    "duration": 12412,
    "start_time": "2023-04-20T09:48:39.233Z"
   },
   {
    "duration": 4,
    "start_time": "2023-04-20T09:49:32.013Z"
   },
   {
    "duration": 413779,
    "start_time": "2023-04-20T09:51:40.459Z"
   },
   {
    "duration": 7,
    "start_time": "2023-04-20T09:58:46.761Z"
   },
   {
    "duration": 411644,
    "start_time": "2023-04-20T09:58:56.100Z"
   },
   {
    "duration": 6,
    "start_time": "2023-04-20T10:06:29.369Z"
   },
   {
    "duration": 7,
    "start_time": "2023-04-20T10:06:35.884Z"
   },
   {
    "duration": 37051,
    "start_time": "2023-04-20T10:07:04.371Z"
   },
   {
    "duration": 5,
    "start_time": "2023-04-20T10:07:48.174Z"
   },
   {
    "duration": 7,
    "start_time": "2023-04-20T10:07:52.435Z"
   },
   {
    "duration": 78674,
    "start_time": "2023-04-20T10:08:08.405Z"
   },
   {
    "duration": 5,
    "start_time": "2023-04-20T10:09:29.882Z"
   },
   {
    "duration": 5,
    "start_time": "2023-04-20T10:09:31.122Z"
   },
   {
    "duration": 39,
    "start_time": "2023-04-20T10:10:03.079Z"
   },
   {
    "duration": 8,
    "start_time": "2023-04-20T10:10:08.968Z"
   },
   {
    "duration": 79532,
    "start_time": "2023-04-20T10:10:26.731Z"
   },
   {
    "duration": 6206,
    "start_time": "2023-04-20T10:11:46.265Z"
   },
   {
    "duration": 66,
    "start_time": "2023-04-20T10:11:52.476Z"
   },
   {
    "duration": 4,
    "start_time": "2023-04-20T10:12:07.494Z"
   },
   {
    "duration": 4314,
    "start_time": "2023-04-20T10:12:12.384Z"
   },
   {
    "duration": 34,
    "start_time": "2023-04-20T10:12:16.744Z"
   },
   {
    "duration": 1626260,
    "start_time": "2023-04-20T10:16:09.408Z"
   },
   {
    "duration": 5,
    "start_time": "2023-04-20T10:43:46.030Z"
   },
   {
    "duration": 5,
    "start_time": "2023-04-20T10:44:01.978Z"
   },
   {
    "duration": 2,
    "start_time": "2023-04-20T10:44:45.415Z"
   },
   {
    "duration": 9,
    "start_time": "2023-04-20T10:44:51.939Z"
   },
   {
    "duration": 158313,
    "start_time": "2023-04-20T10:47:02.433Z"
   },
   {
    "duration": 59620,
    "start_time": "2023-04-20T10:51:11.563Z"
   },
   {
    "duration": 321594,
    "start_time": "2023-04-20T10:52:46.881Z"
   },
   {
    "duration": 5,
    "start_time": "2023-04-20T11:05:37.966Z"
   },
   {
    "duration": 3,
    "start_time": "2023-04-20T11:06:22.400Z"
   },
   {
    "duration": 4,
    "start_time": "2023-04-20T11:06:29.082Z"
   },
   {
    "duration": 5,
    "start_time": "2023-04-20T11:06:54.273Z"
   },
   {
    "duration": 6,
    "start_time": "2023-04-20T11:06:58.380Z"
   },
   {
    "duration": 14,
    "start_time": "2023-04-20T11:07:26.998Z"
   },
   {
    "duration": 5,
    "start_time": "2023-04-20T11:07:37.678Z"
   },
   {
    "duration": 19,
    "start_time": "2023-04-20T11:10:40.708Z"
   },
   {
    "duration": 1728,
    "start_time": "2023-04-20T11:26:11.208Z"
   },
   {
    "duration": 8,
    "start_time": "2023-04-20T11:26:12.938Z"
   },
   {
    "duration": 796,
    "start_time": "2023-04-20T11:26:12.949Z"
   },
   {
    "duration": 3,
    "start_time": "2023-04-20T11:26:13.748Z"
   },
   {
    "duration": 58,
    "start_time": "2023-04-20T11:26:13.754Z"
   },
   {
    "duration": 31,
    "start_time": "2023-04-20T11:26:13.815Z"
   },
   {
    "duration": 37,
    "start_time": "2023-04-20T11:26:13.847Z"
   },
   {
    "duration": 28,
    "start_time": "2023-04-20T11:26:13.887Z"
   },
   {
    "duration": 28,
    "start_time": "2023-04-20T11:26:13.917Z"
   },
   {
    "duration": 28,
    "start_time": "2023-04-20T11:26:13.947Z"
   },
   {
    "duration": 534,
    "start_time": "2023-04-20T11:26:13.977Z"
   },
   {
    "duration": 172,
    "start_time": "2023-04-20T11:26:14.514Z"
   },
   {
    "duration": 137,
    "start_time": "2023-04-20T11:26:14.688Z"
   },
   {
    "duration": 173,
    "start_time": "2023-04-20T11:26:14.828Z"
   },
   {
    "duration": 192,
    "start_time": "2023-04-20T11:26:15.004Z"
   },
   {
    "duration": 81,
    "start_time": "2023-04-20T11:26:15.198Z"
   },
   {
    "duration": 266,
    "start_time": "2023-04-20T11:26:15.280Z"
   },
   {
    "duration": 7,
    "start_time": "2023-04-20T11:26:15.548Z"
   },
   {
    "duration": 15,
    "start_time": "2023-04-20T11:26:15.557Z"
   },
   {
    "duration": 19,
    "start_time": "2023-04-20T11:26:15.575Z"
   },
   {
    "duration": 13,
    "start_time": "2023-04-20T11:26:15.596Z"
   },
   {
    "duration": 71475,
    "start_time": "2023-04-20T11:26:15.611Z"
   },
   {
    "duration": 3,
    "start_time": "2023-04-20T11:27:27.089Z"
   },
   {
    "duration": 1592788,
    "start_time": "2023-04-20T11:27:27.094Z"
   },
   {
    "duration": 4,
    "start_time": "2023-04-20T11:53:59.884Z"
   },
   {
    "duration": 319172,
    "start_time": "2023-04-20T11:53:59.889Z"
   },
   {
    "duration": 4088,
    "start_time": "2023-04-20T11:59:19.064Z"
   },
   {
    "duration": 331,
    "start_time": "2023-04-20T11:59:23.155Z"
   },
   {
    "duration": 299,
    "start_time": "2023-04-20T12:55:51.675Z"
   },
   {
    "duration": 183,
    "start_time": "2023-04-20T12:56:38.732Z"
   },
   {
    "duration": 178,
    "start_time": "2023-04-20T12:56:47.444Z"
   },
   {
    "duration": 303,
    "start_time": "2023-04-20T12:57:21.971Z"
   },
   {
    "duration": 5075,
    "start_time": "2023-04-20T12:57:59.778Z"
   },
   {
    "duration": 188,
    "start_time": "2023-04-20T12:58:04.855Z"
   },
   {
    "duration": 18,
    "start_time": "2023-04-20T12:58:39.877Z"
   },
   {
    "duration": 20,
    "start_time": "2023-04-20T12:58:54.165Z"
   },
   {
    "duration": 198,
    "start_time": "2023-04-20T12:59:26.285Z"
   },
   {
    "duration": 191,
    "start_time": "2023-04-20T12:59:40.434Z"
   },
   {
    "duration": 21,
    "start_time": "2023-04-20T14:39:33.613Z"
   },
   {
    "duration": 19,
    "start_time": "2023-04-20T14:40:25.179Z"
   },
   {
    "duration": 151,
    "start_time": "2023-04-20T14:40:49.517Z"
   },
   {
    "duration": 3,
    "start_time": "2023-04-20T14:43:30.071Z"
   },
   {
    "duration": 161118,
    "start_time": "2023-04-20T14:45:06.097Z"
   },
   {
    "duration": 7729,
    "start_time": "2023-04-20T14:47:47.217Z"
   },
   {
    "duration": 5,
    "start_time": "2023-04-20T14:48:05.459Z"
   },
   {
    "duration": 6643,
    "start_time": "2023-04-20T14:48:39.199Z"
   },
   {
    "duration": 6769,
    "start_time": "2023-04-20T14:48:53.275Z"
   },
   {
    "duration": 3570,
    "start_time": "2023-04-20T14:49:05.975Z"
   },
   {
    "duration": 17585,
    "start_time": "2023-04-20T14:49:16.158Z"
   },
   {
    "duration": 697958,
    "start_time": "2023-04-20T14:53:22.298Z"
   },
   {
    "duration": 5,
    "start_time": "2023-04-20T15:12:23.209Z"
   },
   {
    "duration": 5,
    "start_time": "2023-04-20T15:12:59.607Z"
   },
   {
    "duration": 21,
    "start_time": "2023-04-20T15:15:56.706Z"
   },
   {
    "duration": 15,
    "start_time": "2023-04-20T15:18:07.016Z"
   },
   {
    "duration": 20,
    "start_time": "2023-04-20T15:18:52.485Z"
   },
   {
    "duration": 340140,
    "start_time": "2023-04-20T15:19:06.340Z"
   },
   {
    "duration": 161,
    "start_time": "2023-04-20T15:25:21.813Z"
   },
   {
    "duration": 161,
    "start_time": "2023-04-20T15:26:33.526Z"
   },
   {
    "duration": 25,
    "start_time": "2023-04-20T15:30:29.591Z"
   },
   {
    "duration": 4,
    "start_time": "2023-04-20T15:30:37.079Z"
   },
   {
    "duration": 33,
    "start_time": "2023-04-20T15:30:41.577Z"
   },
   {
    "duration": 25,
    "start_time": "2023-04-20T15:30:51.647Z"
   },
   {
    "duration": 28,
    "start_time": "2023-04-20T15:31:02.837Z"
   },
   {
    "duration": 20,
    "start_time": "2023-04-20T15:31:26.227Z"
   },
   {
    "duration": 6,
    "start_time": "2023-04-20T15:31:30.224Z"
   },
   {
    "duration": 3,
    "start_time": "2023-04-20T15:31:36.216Z"
   },
   {
    "duration": 12,
    "start_time": "2023-04-20T15:31:52.311Z"
   },
   {
    "duration": 31,
    "start_time": "2023-04-20T15:31:59.707Z"
   },
   {
    "duration": 30,
    "start_time": "2023-04-20T15:31:59.886Z"
   },
   {
    "duration": 3865,
    "start_time": "2023-04-20T15:32:19.185Z"
   },
   {
    "duration": 16531,
    "start_time": "2023-04-20T15:32:24.512Z"
   },
   {
    "duration": 4,
    "start_time": "2023-04-20T15:32:41.046Z"
   },
   {
    "duration": 17,
    "start_time": "2023-04-20T15:32:41.143Z"
   },
   {
    "duration": 16623,
    "start_time": "2023-04-20T15:33:11.528Z"
   },
   {
    "duration": 6,
    "start_time": "2023-04-20T15:34:10.774Z"
   },
   {
    "duration": 5,
    "start_time": "2023-04-20T15:35:10.886Z"
   },
   {
    "duration": 6,
    "start_time": "2023-04-20T15:35:16.670Z"
   },
   {
    "duration": 26,
    "start_time": "2023-04-20T15:37:48.171Z"
   },
   {
    "duration": 26,
    "start_time": "2023-04-20T15:38:06.029Z"
   },
   {
    "duration": 28,
    "start_time": "2023-04-20T15:38:53.986Z"
   },
   {
    "duration": 22,
    "start_time": "2023-04-20T15:45:01.545Z"
   },
   {
    "duration": 33,
    "start_time": "2023-04-20T15:45:20.423Z"
   },
   {
    "duration": 8,
    "start_time": "2023-04-20T15:49:55.475Z"
   },
   {
    "duration": 7,
    "start_time": "2023-04-20T15:49:55.812Z"
   },
   {
    "duration": 8,
    "start_time": "2023-04-20T15:55:27.116Z"
   },
   {
    "duration": 1275,
    "start_time": "2023-04-20T15:55:45.427Z"
   },
   {
    "duration": 11,
    "start_time": "2023-04-20T15:55:56.056Z"
   },
   {
    "duration": 6,
    "start_time": "2023-04-20T15:56:26.884Z"
   },
   {
    "duration": 11,
    "start_time": "2023-04-20T15:56:35.840Z"
   },
   {
    "duration": 12,
    "start_time": "2023-04-20T15:57:17.802Z"
   },
   {
    "duration": 5,
    "start_time": "2023-04-20T15:57:54.883Z"
   },
   {
    "duration": 8,
    "start_time": "2023-04-20T15:58:00.040Z"
   },
   {
    "duration": 7,
    "start_time": "2023-04-20T15:58:31.385Z"
   },
   {
    "duration": 12,
    "start_time": "2023-04-20T15:59:25.708Z"
   },
   {
    "duration": 2,
    "start_time": "2023-04-20T15:59:32.443Z"
   },
   {
    "duration": 5,
    "start_time": "2023-04-20T15:59:48.811Z"
   },
   {
    "duration": 5,
    "start_time": "2023-04-20T15:59:58.709Z"
   },
   {
    "duration": 1612,
    "start_time": "2023-04-20T16:04:35.884Z"
   },
   {
    "duration": 7,
    "start_time": "2023-04-20T16:04:37.499Z"
   },
   {
    "duration": 827,
    "start_time": "2023-04-20T16:04:37.508Z"
   },
   {
    "duration": 4,
    "start_time": "2023-04-20T16:04:38.337Z"
   },
   {
    "duration": 58,
    "start_time": "2023-04-20T16:04:38.343Z"
   },
   {
    "duration": 23,
    "start_time": "2023-04-20T16:04:38.403Z"
   },
   {
    "duration": 34,
    "start_time": "2023-04-20T16:04:38.428Z"
   },
   {
    "duration": 47,
    "start_time": "2023-04-20T16:04:38.464Z"
   },
   {
    "duration": 15,
    "start_time": "2023-04-20T16:04:38.513Z"
   },
   {
    "duration": 38,
    "start_time": "2023-04-20T16:04:38.530Z"
   },
   {
    "duration": 449,
    "start_time": "2023-04-20T16:04:38.570Z"
   },
   {
    "duration": 155,
    "start_time": "2023-04-20T16:04:39.021Z"
   },
   {
    "duration": 146,
    "start_time": "2023-04-20T16:04:39.178Z"
   },
   {
    "duration": 146,
    "start_time": "2023-04-20T16:04:39.327Z"
   },
   {
    "duration": 201,
    "start_time": "2023-04-20T16:04:39.475Z"
   },
   {
    "duration": 90,
    "start_time": "2023-04-20T16:04:39.678Z"
   },
   {
    "duration": 249,
    "start_time": "2023-04-20T16:04:39.770Z"
   },
   {
    "duration": 8,
    "start_time": "2023-04-20T16:04:40.022Z"
   },
   {
    "duration": 48,
    "start_time": "2023-04-20T16:04:40.040Z"
   },
   {
    "duration": 22,
    "start_time": "2023-04-20T16:04:40.090Z"
   },
   {
    "duration": 174228,
    "start_time": "2023-04-20T16:04:40.114Z"
   },
   {
    "duration": 3,
    "start_time": "2023-04-20T16:07:34.344Z"
   },
   {
    "duration": 1505767,
    "start_time": "2023-04-20T16:07:34.349Z"
   },
   {
    "duration": 23,
    "start_time": "2023-04-20T16:32:40.118Z"
   },
   {
    "duration": 701657,
    "start_time": "2023-04-20T16:32:40.143Z"
   },
   {
    "duration": 9564,
    "start_time": "2023-04-20T16:44:21.802Z"
   },
   {
    "duration": 313,
    "start_time": "2023-04-20T16:44:31.369Z"
   },
   {
    "duration": 118647,
    "start_time": "2023-04-20T16:44:31.684Z"
   },
   {
    "duration": 20419,
    "start_time": "2023-04-20T16:46:30.334Z"
   },
   {
    "duration": 1503385,
    "start_time": "2023-04-20T16:46:50.758Z"
   },
   {
    "duration": 697814,
    "start_time": "2023-04-20T17:11:54.145Z"
   },
   {
    "duration": 180,
    "start_time": "2023-04-20T17:23:31.960Z"
   },
   {
    "duration": 10108,
    "start_time": "2023-04-20T17:23:32.142Z"
   },
   {
    "duration": 18894,
    "start_time": "2023-04-20T17:23:42.253Z"
   },
   {
    "duration": 192,
    "start_time": "2023-04-20T17:24:01.151Z"
   },
   {
    "duration": 199,
    "start_time": "2023-04-20T17:24:01.345Z"
   },
   {
    "duration": 0,
    "start_time": "2023-04-20T17:24:01.554Z"
   },
   {
    "duration": 0,
    "start_time": "2023-04-20T17:24:01.557Z"
   },
   {
    "duration": 0,
    "start_time": "2023-04-20T17:24:01.558Z"
   },
   {
    "duration": 21,
    "start_time": "2023-04-20T17:31:50.665Z"
   },
   {
    "duration": 23,
    "start_time": "2023-04-20T17:36:20.778Z"
   },
   {
    "duration": 32,
    "start_time": "2023-04-20T17:36:51.054Z"
   },
   {
    "duration": 35,
    "start_time": "2023-04-20T17:36:57.334Z"
   },
   {
    "duration": 22,
    "start_time": "2023-04-20T17:37:02.992Z"
   },
   {
    "duration": 15,
    "start_time": "2023-04-20T17:37:22.297Z"
   },
   {
    "duration": 4132,
    "start_time": "2023-04-20T17:37:56.227Z"
   },
   {
    "duration": 67,
    "start_time": "2023-04-20T17:42:26.105Z"
   },
   {
    "duration": 9,
    "start_time": "2023-04-20T17:42:30.456Z"
   },
   {
    "duration": 1627,
    "start_time": "2023-04-20T17:42:37.375Z"
   },
   {
    "duration": 7,
    "start_time": "2023-04-20T17:42:39.004Z"
   },
   {
    "duration": 824,
    "start_time": "2023-04-20T17:42:39.013Z"
   },
   {
    "duration": 9,
    "start_time": "2023-04-20T17:42:39.840Z"
   },
   {
    "duration": 46,
    "start_time": "2023-04-20T17:42:39.856Z"
   },
   {
    "duration": 26,
    "start_time": "2023-04-20T17:42:39.904Z"
   },
   {
    "duration": 33,
    "start_time": "2023-04-20T17:42:39.933Z"
   },
   {
    "duration": 65,
    "start_time": "2023-04-20T17:42:39.968Z"
   },
   {
    "duration": 16,
    "start_time": "2023-04-20T17:42:42.263Z"
   },
   {
    "duration": 21,
    "start_time": "2023-04-20T17:42:42.479Z"
   },
   {
    "duration": 473,
    "start_time": "2023-04-20T17:42:43.468Z"
   },
   {
    "duration": 163,
    "start_time": "2023-04-20T17:42:44.898Z"
   },
   {
    "duration": 131,
    "start_time": "2023-04-20T17:42:45.560Z"
   },
   {
    "duration": 151,
    "start_time": "2023-04-20T17:42:46.190Z"
   },
   {
    "duration": 206,
    "start_time": "2023-04-20T17:42:49.040Z"
   },
   {
    "duration": 83,
    "start_time": "2023-04-20T17:42:51.224Z"
   },
   {
    "duration": 265,
    "start_time": "2023-04-20T17:42:51.911Z"
   },
   {
    "duration": 14,
    "start_time": "2023-04-20T17:42:54.635Z"
   },
   {
    "duration": 19,
    "start_time": "2023-04-20T17:43:00.214Z"
   },
   {
    "duration": 54283,
    "start_time": "2023-04-20T17:44:44.690Z"
   },
   {
    "duration": 3,
    "start_time": "2023-04-20T17:46:10.164Z"
   },
   {
    "duration": 54089,
    "start_time": "2023-04-20T17:46:10.506Z"
   },
   {
    "duration": 8,
    "start_time": "2023-04-20T17:50:47.503Z"
   },
   {
    "duration": 15,
    "start_time": "2023-04-20T17:50:56.312Z"
   },
   {
    "duration": 11547,
    "start_time": "2023-04-20T17:57:13.925Z"
   },
   {
    "duration": 43,
    "start_time": "2023-04-20T18:01:09.264Z"
   },
   {
    "duration": 20,
    "start_time": "2023-04-20T18:01:33.068Z"
   },
   {
    "duration": 18,
    "start_time": "2023-04-20T18:01:58.157Z"
   },
   {
    "duration": 19,
    "start_time": "2023-04-20T18:08:49.602Z"
   },
   {
    "duration": 8,
    "start_time": "2023-04-20T18:09:00.528Z"
   },
   {
    "duration": 532,
    "start_time": "2023-04-20T18:20:43.563Z"
   },
   {
    "duration": 17,
    "start_time": "2023-04-20T18:21:48.290Z"
   },
   {
    "duration": 7,
    "start_time": "2023-04-20T18:22:06.274Z"
   },
   {
    "duration": 25855,
    "start_time": "2023-04-20T18:23:06.701Z"
   },
   {
    "duration": 7,
    "start_time": "2023-04-20T18:29:45.727Z"
   },
   {
    "duration": 20,
    "start_time": "2023-04-20T18:29:53.257Z"
   },
   {
    "duration": 6,
    "start_time": "2023-04-20T18:30:13.972Z"
   },
   {
    "duration": 8,
    "start_time": "2023-04-20T18:30:21.070Z"
   },
   {
    "duration": 7,
    "start_time": "2023-04-20T18:30:51.503Z"
   },
   {
    "duration": 18,
    "start_time": "2023-04-20T18:31:16.260Z"
   },
   {
    "duration": 15,
    "start_time": "2023-04-20T18:31:26.124Z"
   },
   {
    "duration": 14,
    "start_time": "2023-04-20T18:31:59.581Z"
   },
   {
    "duration": 14,
    "start_time": "2023-04-20T18:32:08.968Z"
   },
   {
    "duration": 15,
    "start_time": "2023-04-20T18:32:48.127Z"
   },
   {
    "duration": 15,
    "start_time": "2023-04-20T18:32:54.284Z"
   },
   {
    "duration": 559,
    "start_time": "2023-04-20T18:33:05.369Z"
   },
   {
    "duration": 538,
    "start_time": "2023-04-20T18:33:09.603Z"
   },
   {
    "duration": 7,
    "start_time": "2023-04-20T18:33:12.067Z"
   },
   {
    "duration": 3,
    "start_time": "2023-04-20T18:33:15.967Z"
   },
   {
    "duration": 27124,
    "start_time": "2023-04-20T18:33:16.463Z"
   },
   {
    "duration": 1794,
    "start_time": "2023-04-20T18:39:33.864Z"
   },
   {
    "duration": 8,
    "start_time": "2023-04-20T18:39:35.660Z"
   },
   {
    "duration": 876,
    "start_time": "2023-04-20T18:39:35.670Z"
   },
   {
    "duration": 12,
    "start_time": "2023-04-20T18:39:36.550Z"
   },
   {
    "duration": 42,
    "start_time": "2023-04-20T18:39:36.565Z"
   },
   {
    "duration": 47,
    "start_time": "2023-04-20T18:39:36.610Z"
   },
   {
    "duration": 49,
    "start_time": "2023-04-20T18:39:36.659Z"
   },
   {
    "duration": 11,
    "start_time": "2023-04-20T18:39:36.710Z"
   },
   {
    "duration": 30,
    "start_time": "2023-04-20T18:39:36.723Z"
   },
   {
    "duration": 47,
    "start_time": "2023-04-20T18:39:36.758Z"
   },
   {
    "duration": 511,
    "start_time": "2023-04-20T18:39:36.807Z"
   },
   {
    "duration": 172,
    "start_time": "2023-04-20T18:39:37.321Z"
   },
   {
    "duration": 140,
    "start_time": "2023-04-20T18:39:37.495Z"
   },
   {
    "duration": 133,
    "start_time": "2023-04-20T18:39:37.856Z"
   },
   {
    "duration": 175,
    "start_time": "2023-04-20T18:39:38.558Z"
   },
   {
    "duration": 80,
    "start_time": "2023-04-20T18:39:38.956Z"
   },
   {
    "duration": 234,
    "start_time": "2023-04-20T18:39:39.655Z"
   },
   {
    "duration": 6,
    "start_time": "2023-04-20T18:39:46.199Z"
   },
   {
    "duration": 521,
    "start_time": "2023-04-20T18:39:48.468Z"
   },
   {
    "duration": 10,
    "start_time": "2023-04-20T18:39:50.987Z"
   },
   {
    "duration": 4,
    "start_time": "2023-04-20T18:39:51.392Z"
   },
   {
    "duration": 25931,
    "start_time": "2023-04-20T18:39:52.780Z"
   },
   {
    "duration": 124,
    "start_time": "2023-04-20T18:48:44.884Z"
   },
   {
    "duration": 4330,
    "start_time": "2023-04-20T18:48:50.314Z"
   },
   {
    "duration": 33698,
    "start_time": "2023-04-20T18:48:56.271Z"
   },
   {
    "duration": 7,
    "start_time": "2023-04-20T18:49:41.526Z"
   },
   {
    "duration": 18,
    "start_time": "2023-04-20T18:49:44.929Z"
   },
   {
    "duration": 4,
    "start_time": "2023-04-20T18:49:51.909Z"
   },
   {
    "duration": 12,
    "start_time": "2023-04-20T18:49:55.272Z"
   },
   {
    "duration": 11,
    "start_time": "2023-04-20T18:51:20.108Z"
   },
   {
    "duration": 10,
    "start_time": "2023-04-20T18:51:36.868Z"
   },
   {
    "duration": 6,
    "start_time": "2023-04-20T18:51:42.164Z"
   },
   {
    "duration": 6,
    "start_time": "2023-04-20T18:51:48.868Z"
   },
   {
    "duration": 5,
    "start_time": "2023-04-20T18:51:51.907Z"
   },
   {
    "duration": 11,
    "start_time": "2023-04-20T18:53:51.590Z"
   },
   {
    "duration": 16,
    "start_time": "2023-04-20T18:53:51.899Z"
   },
   {
    "duration": 12,
    "start_time": "2023-04-20T18:54:32.711Z"
   },
   {
    "duration": 17,
    "start_time": "2023-04-20T18:54:33.258Z"
   },
   {
    "duration": 13,
    "start_time": "2023-04-20T18:54:37.931Z"
   },
   {
    "duration": 16,
    "start_time": "2023-04-20T18:54:38.419Z"
   },
   {
    "duration": 21,
    "start_time": "2023-04-20T18:54:56.228Z"
   },
   {
    "duration": 15,
    "start_time": "2023-04-20T18:56:05.588Z"
   },
   {
    "duration": 18,
    "start_time": "2023-04-20T18:56:05.994Z"
   },
   {
    "duration": 14,
    "start_time": "2023-04-20T18:56:23.760Z"
   },
   {
    "duration": 1198,
    "start_time": "2023-04-20T18:56:24.257Z"
   },
   {
    "duration": 1313,
    "start_time": "2023-04-20T18:56:53.234Z"
   },
   {
    "duration": 1385,
    "start_time": "2023-04-20T18:56:59.856Z"
   },
   {
    "duration": 6,
    "start_time": "2023-04-20T18:58:18.014Z"
   },
   {
    "duration": 495,
    "start_time": "2023-04-20T18:58:18.617Z"
   },
   {
    "duration": 24622,
    "start_time": "2023-04-20T18:58:24.874Z"
   },
   {
    "duration": 22,
    "start_time": "2023-04-20T19:01:01.067Z"
   },
   {
    "duration": 9,
    "start_time": "2023-04-20T19:03:13.742Z"
   },
   {
    "duration": 1191,
    "start_time": "2023-04-20T19:03:54.607Z"
   },
   {
    "duration": 11,
    "start_time": "2023-04-20T19:04:06.314Z"
   },
   {
    "duration": 8,
    "start_time": "2023-04-20T19:04:33.995Z"
   },
   {
    "duration": 24691,
    "start_time": "2023-04-20T19:05:33.999Z"
   },
   {
    "duration": 8,
    "start_time": "2023-04-20T19:10:44.335Z"
   },
   {
    "duration": 25605,
    "start_time": "2023-04-20T19:10:54.239Z"
   },
   {
    "duration": 24788,
    "start_time": "2023-04-20T19:11:39.501Z"
   },
   {
    "duration": 3326,
    "start_time": "2023-04-20T19:15:00.019Z"
   },
   {
    "duration": 12,
    "start_time": "2023-04-20T19:15:09.773Z"
   },
   {
    "duration": 11,
    "start_time": "2023-04-20T19:15:26.890Z"
   },
   {
    "duration": 1404,
    "start_time": "2023-04-20T19:15:59.044Z"
   },
   {
    "duration": 1357,
    "start_time": "2023-04-20T19:16:06.188Z"
   },
   {
    "duration": 11,
    "start_time": "2023-04-20T19:17:26.941Z"
   },
   {
    "duration": 4672,
    "start_time": "2023-04-20T19:17:35.978Z"
   },
   {
    "duration": 11,
    "start_time": "2023-04-20T19:17:44.475Z"
   },
   {
    "duration": 12,
    "start_time": "2023-04-20T19:17:59.676Z"
   },
   {
    "duration": 12,
    "start_time": "2023-04-20T19:18:57.096Z"
   },
   {
    "duration": 11,
    "start_time": "2023-04-20T19:19:17.544Z"
   },
   {
    "duration": 8,
    "start_time": "2023-04-20T19:20:58.322Z"
   },
   {
    "duration": 8,
    "start_time": "2023-04-20T19:21:07.340Z"
   },
   {
    "duration": 1350,
    "start_time": "2023-04-20T19:21:12.002Z"
   },
   {
    "duration": 4604,
    "start_time": "2023-04-20T19:21:18.349Z"
   },
   {
    "duration": 15,
    "start_time": "2023-04-20T19:21:24.980Z"
   },
   {
    "duration": 12,
    "start_time": "2023-04-20T19:21:27.455Z"
   },
   {
    "duration": 1370,
    "start_time": "2023-04-20T19:22:09.873Z"
   },
   {
    "duration": 4707,
    "start_time": "2023-04-20T19:22:11.246Z"
   },
   {
    "duration": 11,
    "start_time": "2023-04-20T19:22:17.605Z"
   },
   {
    "duration": 5015,
    "start_time": "2023-04-20T19:23:58.929Z"
   },
   {
    "duration": 17,
    "start_time": "2023-04-20T19:24:05.826Z"
   },
   {
    "duration": 6168,
    "start_time": "2023-04-20T19:24:39.485Z"
   },
   {
    "duration": 21,
    "start_time": "2023-04-20T19:24:48.428Z"
   },
   {
    "duration": 9,
    "start_time": "2023-04-20T19:26:02.782Z"
   },
   {
    "duration": 13,
    "start_time": "2023-04-20T19:26:12.875Z"
   },
   {
    "duration": 4,
    "start_time": "2023-04-20T19:26:18.672Z"
   },
   {
    "duration": 6205,
    "start_time": "2023-04-20T19:26:43.157Z"
   },
   {
    "duration": 86,
    "start_time": "2023-04-20T19:26:49.364Z"
   },
   {
    "duration": 1710,
    "start_time": "2023-04-20T19:27:07.916Z"
   },
   {
    "duration": 24,
    "start_time": "2023-04-20T19:27:09.629Z"
   },
   {
    "duration": 813,
    "start_time": "2023-04-20T19:27:09.655Z"
   },
   {
    "duration": 2,
    "start_time": "2023-04-20T19:27:10.470Z"
   },
   {
    "duration": 50,
    "start_time": "2023-04-20T19:27:10.474Z"
   },
   {
    "duration": 29,
    "start_time": "2023-04-20T19:27:10.525Z"
   },
   {
    "duration": 51,
    "start_time": "2023-04-20T19:27:10.557Z"
   },
   {
    "duration": 18,
    "start_time": "2023-04-20T19:27:10.610Z"
   },
   {
    "duration": 25,
    "start_time": "2023-04-20T19:27:10.630Z"
   },
   {
    "duration": 22,
    "start_time": "2023-04-20T19:27:10.658Z"
   },
   {
    "duration": 495,
    "start_time": "2023-04-20T19:27:10.682Z"
   },
   {
    "duration": 180,
    "start_time": "2023-04-20T19:27:11.180Z"
   },
   {
    "duration": 145,
    "start_time": "2023-04-20T19:27:11.363Z"
   },
   {
    "duration": 152,
    "start_time": "2023-04-20T19:27:11.511Z"
   },
   {
    "duration": 220,
    "start_time": "2023-04-20T19:27:11.665Z"
   },
   {
    "duration": 1792,
    "start_time": "2023-04-20T19:27:53.723Z"
   },
   {
    "duration": 9,
    "start_time": "2023-04-20T19:27:55.517Z"
   },
   {
    "duration": 881,
    "start_time": "2023-04-20T19:27:55.528Z"
   },
   {
    "duration": 2,
    "start_time": "2023-04-20T19:27:56.411Z"
   },
   {
    "duration": 47,
    "start_time": "2023-04-20T19:27:56.415Z"
   },
   {
    "duration": 23,
    "start_time": "2023-04-20T19:27:56.464Z"
   },
   {
    "duration": 28,
    "start_time": "2023-04-20T19:27:56.490Z"
   },
   {
    "duration": 37,
    "start_time": "2023-04-20T19:27:56.521Z"
   },
   {
    "duration": 18,
    "start_time": "2023-04-20T19:27:56.561Z"
   },
   {
    "duration": 22,
    "start_time": "2023-04-20T19:27:56.581Z"
   },
   {
    "duration": 501,
    "start_time": "2023-04-20T19:27:56.604Z"
   },
   {
    "duration": 177,
    "start_time": "2023-04-20T19:27:57.107Z"
   },
   {
    "duration": 141,
    "start_time": "2023-04-20T19:27:57.286Z"
   },
   {
    "duration": 149,
    "start_time": "2023-04-20T19:27:57.431Z"
   },
   {
    "duration": 202,
    "start_time": "2023-04-20T19:27:57.582Z"
   },
   {
    "duration": 90,
    "start_time": "2023-04-20T19:27:57.786Z"
   },
   {
    "duration": 245,
    "start_time": "2023-04-20T19:27:57.878Z"
   },
   {
    "duration": 6,
    "start_time": "2023-04-20T19:27:58.125Z"
   },
   {
    "duration": 21,
    "start_time": "2023-04-20T19:27:58.141Z"
   },
   {
    "duration": 11,
    "start_time": "2023-04-20T19:27:58.164Z"
   },
   {
    "duration": 25124,
    "start_time": "2023-04-20T19:27:58.177Z"
   },
   {
    "duration": 4,
    "start_time": "2023-04-20T19:28:23.303Z"
   },
   {
    "duration": 513994,
    "start_time": "2023-04-20T19:28:23.308Z"
   },
   {
    "duration": 7,
    "start_time": "2023-04-20T19:36:57.341Z"
   },
   {
    "duration": 110500,
    "start_time": "2023-04-20T19:36:57.351Z"
   },
   {
    "duration": 2400,
    "start_time": "2023-04-20T19:38:47.858Z"
   },
   {
    "duration": 325,
    "start_time": "2023-04-20T19:38:50.259Z"
   },
   {
    "duration": 55740,
    "start_time": "2023-04-20T19:38:50.586Z"
   },
   {
    "duration": 9236,
    "start_time": "2023-04-20T19:39:46.328Z"
   },
   {
    "duration": 505403,
    "start_time": "2023-04-20T19:39:55.654Z"
   },
   {
    "duration": 109511,
    "start_time": "2023-04-20T19:48:21.059Z"
   },
   {
    "duration": 161,
    "start_time": "2023-04-20T19:50:10.572Z"
   },
   {
    "duration": 15,
    "start_time": "2023-04-20T19:50:10.735Z"
   },
   {
    "duration": 1298,
    "start_time": "2023-04-20T19:50:10.752Z"
   },
   {
    "duration": 5298,
    "start_time": "2023-04-20T19:50:12.053Z"
   },
   {
    "duration": 94,
    "start_time": "2023-04-20T19:50:17.356Z"
   },
   {
    "duration": 185,
    "start_time": "2023-04-20T19:56:20.894Z"
   },
   {
    "duration": 189,
    "start_time": "2023-04-20T19:56:34.587Z"
   },
   {
    "duration": 209,
    "start_time": "2023-04-20T19:56:46.839Z"
   },
   {
    "duration": 184,
    "start_time": "2023-04-20T19:57:42.824Z"
   },
   {
    "duration": 10871,
    "start_time": "2023-04-20T19:58:51.482Z"
   },
   {
    "duration": 10849,
    "start_time": "2023-04-20T19:59:04.900Z"
   },
   {
    "duration": 5,
    "start_time": "2023-04-20T20:00:40.782Z"
   },
   {
    "duration": 8,
    "start_time": "2023-04-20T20:00:40.975Z"
   },
   {
    "duration": 3,
    "start_time": "2023-04-20T20:00:41.158Z"
   },
   {
    "duration": 19225,
    "start_time": "2023-04-20T20:00:41.627Z"
   },
   {
    "duration": 4,
    "start_time": "2023-04-20T20:01:00.855Z"
   },
   {
    "duration": 1155282,
    "start_time": "2023-04-20T20:01:00.861Z"
   },
   {
    "duration": 3,
    "start_time": "2023-04-20T20:20:16.146Z"
   },
   {
    "duration": 86304,
    "start_time": "2023-04-20T20:20:16.151Z"
   },
   {
    "duration": 1792,
    "start_time": "2023-04-20T20:21:42.457Z"
   },
   {
    "duration": 330,
    "start_time": "2023-04-20T20:21:44.251Z"
   },
   {
    "duration": 42808,
    "start_time": "2023-04-20T20:21:44.583Z"
   },
   {
    "duration": 2849,
    "start_time": "2023-04-20T20:22:27.393Z"
   },
   {
    "duration": 1161314,
    "start_time": "2023-04-20T20:22:30.245Z"
   },
   {
    "duration": 88597,
    "start_time": "2023-04-20T20:41:51.561Z"
   },
   {
    "duration": 182,
    "start_time": "2023-04-20T20:43:20.159Z"
   },
   {
    "duration": 10,
    "start_time": "2023-04-20T20:43:20.343Z"
   },
   {
    "duration": 20,
    "start_time": "2023-04-20T20:43:20.355Z"
   },
   {
    "duration": 76,
    "start_time": "2023-04-20T20:43:20.378Z"
   },
   {
    "duration": 1581,
    "start_time": "2023-04-20T20:55:20.015Z"
   },
   {
    "duration": 8,
    "start_time": "2023-04-20T20:55:21.598Z"
   },
   {
    "duration": 788,
    "start_time": "2023-04-20T20:55:21.608Z"
   },
   {
    "duration": 3,
    "start_time": "2023-04-20T20:55:22.399Z"
   },
   {
    "duration": 58,
    "start_time": "2023-04-20T20:55:22.404Z"
   },
   {
    "duration": 30,
    "start_time": "2023-04-20T20:55:22.464Z"
   },
   {
    "duration": 51,
    "start_time": "2023-04-20T20:55:22.496Z"
   },
   {
    "duration": 25,
    "start_time": "2023-04-20T20:55:22.549Z"
   },
   {
    "duration": 31,
    "start_time": "2023-04-20T20:55:22.576Z"
   },
   {
    "duration": 29,
    "start_time": "2023-04-20T20:55:22.610Z"
   },
   {
    "duration": 474,
    "start_time": "2023-04-20T20:55:22.641Z"
   },
   {
    "duration": 174,
    "start_time": "2023-04-20T20:55:23.117Z"
   },
   {
    "duration": 133,
    "start_time": "2023-04-20T20:55:23.293Z"
   },
   {
    "duration": 144,
    "start_time": "2023-04-20T20:55:23.427Z"
   },
   {
    "duration": 211,
    "start_time": "2023-04-20T20:55:23.573Z"
   },
   {
    "duration": 59,
    "start_time": "2023-04-20T20:55:23.786Z"
   },
   {
    "duration": 250,
    "start_time": "2023-04-20T20:55:23.848Z"
   },
   {
    "duration": 6,
    "start_time": "2023-04-20T20:55:24.101Z"
   },
   {
    "duration": 13,
    "start_time": "2023-04-20T20:55:24.109Z"
   },
   {
    "duration": 34,
    "start_time": "2023-04-20T20:55:24.124Z"
   },
   {
    "duration": 19155,
    "start_time": "2023-04-20T20:55:24.160Z"
   },
   {
    "duration": 1213647,
    "start_time": "2023-04-20T20:55:43.317Z"
   },
   {
    "duration": 1576,
    "start_time": "2023-04-20T21:15:56.966Z"
   },
   {
    "duration": 173,
    "start_time": "2023-04-20T21:15:58.544Z"
   },
   {
    "duration": 313,
    "start_time": "2023-04-20T21:15:58.719Z"
   },
   {
    "duration": 0,
    "start_time": "2023-04-20T21:15:59.034Z"
   },
   {
    "duration": 0,
    "start_time": "2023-04-20T21:15:59.035Z"
   },
   {
    "duration": 0,
    "start_time": "2023-04-20T21:15:59.035Z"
   },
   {
    "duration": 0,
    "start_time": "2023-04-20T21:15:59.036Z"
   },
   {
    "duration": 0,
    "start_time": "2023-04-20T21:15:59.036Z"
   },
   {
    "duration": 0,
    "start_time": "2023-04-20T21:15:59.037Z"
   },
   {
    "duration": 0,
    "start_time": "2023-04-20T21:15:59.041Z"
   },
   {
    "duration": 0,
    "start_time": "2023-04-20T21:15:59.043Z"
   },
   {
    "duration": 0,
    "start_time": "2023-04-20T21:15:59.044Z"
   },
   {
    "duration": 84,
    "start_time": "2023-04-20T21:20:51.539Z"
   },
   {
    "duration": 19,
    "start_time": "2023-04-20T21:20:54.281Z"
   },
   {
    "duration": 163,
    "start_time": "2023-04-20T21:21:11.550Z"
   },
   {
    "duration": 41531,
    "start_time": "2023-04-20T21:21:33.500Z"
   },
   {
    "duration": 2717,
    "start_time": "2023-04-20T21:22:15.033Z"
   },
   {
    "duration": 2432993,
    "start_time": "2023-04-20T21:22:17.752Z"
   },
   {
    "duration": 112,
    "start_time": "2023-04-20T22:02:50.747Z"
   },
   {
    "duration": 18,
    "start_time": "2023-04-20T22:02:50.861Z"
   },
   {
    "duration": 0,
    "start_time": "2023-04-20T22:02:50.881Z"
   },
   {
    "duration": 0,
    "start_time": "2023-04-20T22:02:50.882Z"
   },
   {
    "duration": 0,
    "start_time": "2023-04-20T22:02:50.883Z"
   },
   {
    "duration": 0,
    "start_time": "2023-04-20T22:02:50.884Z"
   },
   {
    "duration": 81,
    "start_time": "2023-04-20T22:05:48.711Z"
   },
   {
    "duration": 169,
    "start_time": "2023-04-20T22:05:56.239Z"
   },
   {
    "duration": 15,
    "start_time": "2023-04-20T22:07:11.674Z"
   },
   {
    "duration": 23,
    "start_time": "2023-04-20T22:07:14.673Z"
   },
   {
    "duration": 1573,
    "start_time": "2023-04-20T22:07:15.368Z"
   },
   {
    "duration": 12,
    "start_time": "2023-04-20T22:08:05.927Z"
   },
   {
    "duration": 133362,
    "start_time": "2023-04-20T22:08:15.002Z"
   },
   {
    "duration": 5,
    "start_time": "2023-04-20T22:10:37.532Z"
   },
   {
    "duration": 128,
    "start_time": "2023-04-20T22:13:44.078Z"
   },
   {
    "duration": 4,
    "start_time": "2023-04-20T22:13:49.075Z"
   },
   {
    "duration": 4,
    "start_time": "2023-04-20T22:13:57.277Z"
   },
   {
    "duration": 4,
    "start_time": "2023-04-20T22:14:00.900Z"
   },
   {
    "duration": 11,
    "start_time": "2023-04-21T06:14:26.006Z"
   },
   {
    "duration": 1561,
    "start_time": "2023-04-21T06:22:42.203Z"
   },
   {
    "duration": 7,
    "start_time": "2023-04-21T06:22:43.766Z"
   },
   {
    "duration": 3393,
    "start_time": "2023-04-21T06:22:43.774Z"
   },
   {
    "duration": 3,
    "start_time": "2023-04-21T06:22:47.169Z"
   },
   {
    "duration": 68,
    "start_time": "2023-04-21T06:22:47.174Z"
   },
   {
    "duration": 39,
    "start_time": "2023-04-21T06:22:47.243Z"
   },
   {
    "duration": 65,
    "start_time": "2023-04-21T06:22:47.286Z"
   },
   {
    "duration": 26,
    "start_time": "2023-04-21T06:22:47.353Z"
   },
   {
    "duration": 41,
    "start_time": "2023-04-21T06:22:47.381Z"
   },
   {
    "duration": 41,
    "start_time": "2023-04-21T06:22:47.423Z"
   },
   {
    "duration": 19,
    "start_time": "2023-04-21T06:22:47.466Z"
   },
   {
    "duration": 508,
    "start_time": "2023-04-21T06:22:47.488Z"
   },
   {
    "duration": 154,
    "start_time": "2023-04-21T06:22:47.999Z"
   },
   {
    "duration": 129,
    "start_time": "2023-04-21T06:22:48.157Z"
   },
   {
    "duration": 132,
    "start_time": "2023-04-21T06:22:48.288Z"
   },
   {
    "duration": 219,
    "start_time": "2023-04-21T06:22:48.421Z"
   },
   {
    "duration": 47,
    "start_time": "2023-04-21T06:22:48.642Z"
   },
   {
    "duration": 219,
    "start_time": "2023-04-21T06:22:48.691Z"
   },
   {
    "duration": 5,
    "start_time": "2023-04-21T06:22:48.912Z"
   },
   {
    "duration": 57,
    "start_time": "2023-04-21T06:22:48.919Z"
   },
   {
    "duration": 32,
    "start_time": "2023-04-21T06:22:48.978Z"
   },
   {
    "duration": 21451,
    "start_time": "2023-04-21T06:22:49.012Z"
   },
   {
    "duration": 10,
    "start_time": "2023-04-21T19:12:29.480Z"
   },
   {
    "duration": 5,
    "start_time": "2023-04-21T19:12:32.696Z"
   },
   {
    "duration": 1531,
    "start_time": "2023-04-21T19:12:36.094Z"
   },
   {
    "duration": 6,
    "start_time": "2023-04-21T19:12:37.627Z"
   },
   {
    "duration": 3363,
    "start_time": "2023-04-21T19:12:37.634Z"
   },
   {
    "duration": 13,
    "start_time": "2023-04-21T19:12:48.276Z"
   },
   {
    "duration": 340,
    "start_time": "2023-04-21T19:13:20.745Z"
   },
   {
    "duration": 351,
    "start_time": "2023-04-21T19:13:32.333Z"
   },
   {
    "duration": 384,
    "start_time": "2023-04-21T19:13:40.927Z"
   },
   {
    "duration": 328,
    "start_time": "2023-04-21T19:13:45.808Z"
   },
   {
    "duration": 333,
    "start_time": "2023-04-21T19:13:51.009Z"
   },
   {
    "duration": 402,
    "start_time": "2023-04-21T19:13:53.793Z"
   },
   {
    "duration": 4,
    "start_time": "2023-04-21T19:33:53.905Z"
   },
   {
    "duration": 1396,
    "start_time": "2023-04-21T19:34:51.309Z"
   },
   {
    "duration": 164,
    "start_time": "2023-04-21T19:35:07.563Z"
   },
   {
    "duration": 148,
    "start_time": "2023-04-21T19:35:26.705Z"
   },
   {
    "duration": 146,
    "start_time": "2023-04-21T19:35:55.601Z"
   },
   {
    "duration": 178,
    "start_time": "2023-04-21T19:36:15.238Z"
   },
   {
    "duration": 167,
    "start_time": "2023-04-21T19:36:20.504Z"
   },
   {
    "duration": 156,
    "start_time": "2023-04-21T19:36:44.300Z"
   },
   {
    "duration": 159,
    "start_time": "2023-04-21T19:36:52.107Z"
   },
   {
    "duration": 197,
    "start_time": "2023-04-21T19:38:16.231Z"
   },
   {
    "duration": 215,
    "start_time": "2023-04-21T19:38:29.503Z"
   },
   {
    "duration": 165,
    "start_time": "2023-04-21T19:38:36.842Z"
   },
   {
    "duration": 306,
    "start_time": "2023-04-21T19:38:44.762Z"
   },
   {
    "duration": 193,
    "start_time": "2023-04-21T19:39:24.702Z"
   },
   {
    "duration": 169,
    "start_time": "2023-04-21T19:39:33.004Z"
   },
   {
    "duration": 222,
    "start_time": "2023-04-21T19:39:52.450Z"
   },
   {
    "duration": 221,
    "start_time": "2023-04-21T19:40:11.618Z"
   },
   {
    "duration": 201,
    "start_time": "2023-04-21T19:40:42.997Z"
   },
   {
    "duration": 210,
    "start_time": "2023-04-21T19:40:49.809Z"
   },
   {
    "duration": 315,
    "start_time": "2023-04-21T19:40:59.320Z"
   },
   {
    "duration": 291,
    "start_time": "2023-04-21T19:42:34.912Z"
   },
   {
    "duration": 305,
    "start_time": "2023-04-21T19:43:37.901Z"
   },
   {
    "duration": 278,
    "start_time": "2023-04-21T19:46:05.751Z"
   },
   {
    "duration": 284,
    "start_time": "2023-04-21T19:46:33.456Z"
   },
   {
    "duration": 229,
    "start_time": "2023-04-21T19:47:03.412Z"
   },
   {
    "duration": 372,
    "start_time": "2023-04-21T19:47:06.214Z"
   },
   {
    "duration": 278,
    "start_time": "2023-04-21T19:47:16.596Z"
   },
   {
    "duration": 312,
    "start_time": "2023-04-21T19:47:49.702Z"
   },
   {
    "duration": 317,
    "start_time": "2023-04-21T19:48:34.062Z"
   },
   {
    "duration": 273,
    "start_time": "2023-04-21T19:48:48.196Z"
   },
   {
    "duration": 409,
    "start_time": "2023-04-21T19:49:00.119Z"
   },
   {
    "duration": 306,
    "start_time": "2023-04-21T19:49:04.125Z"
   },
   {
    "duration": 299,
    "start_time": "2023-04-21T19:49:07.932Z"
   },
   {
    "duration": 300,
    "start_time": "2023-04-21T19:50:20.645Z"
   },
   {
    "duration": 163,
    "start_time": "2023-04-21T19:50:34.309Z"
   },
   {
    "duration": 181,
    "start_time": "2023-04-21T19:50:36.797Z"
   },
   {
    "duration": 343,
    "start_time": "2023-04-21T19:50:39.780Z"
   },
   {
    "duration": 416,
    "start_time": "2023-04-21T19:50:57.902Z"
   },
   {
    "duration": 333,
    "start_time": "2023-04-21T19:51:05.503Z"
   },
   {
    "duration": 327,
    "start_time": "2023-04-21T19:51:25.254Z"
   },
   {
    "duration": 290,
    "start_time": "2023-04-21T19:52:15.657Z"
   },
   {
    "duration": 278,
    "start_time": "2023-04-21T19:52:22.919Z"
   },
   {
    "duration": 7,
    "start_time": "2023-04-21T19:54:15.997Z"
   },
   {
    "duration": 379,
    "start_time": "2023-04-21T19:54:28.326Z"
   },
   {
    "duration": 293,
    "start_time": "2023-04-21T19:54:36.708Z"
   },
   {
    "duration": 7,
    "start_time": "2023-04-21T19:54:56.505Z"
   },
   {
    "duration": 323,
    "start_time": "2023-04-21T19:55:22.057Z"
   },
   {
    "duration": 281,
    "start_time": "2023-04-21T19:55:26.733Z"
   },
   {
    "duration": 338,
    "start_time": "2023-04-21T19:55:49.997Z"
   },
   {
    "duration": 167,
    "start_time": "2023-04-21T19:58:11.048Z"
   },
   {
    "duration": 189,
    "start_time": "2023-04-21T19:58:25.526Z"
   },
   {
    "duration": 262,
    "start_time": "2023-04-21T19:58:33.907Z"
   },
   {
    "duration": 159,
    "start_time": "2023-04-21T19:59:07.210Z"
   },
   {
    "duration": 207,
    "start_time": "2023-04-21T19:59:36.833Z"
   },
   {
    "duration": 77,
    "start_time": "2023-04-21T19:59:47.505Z"
   },
   {
    "duration": 198,
    "start_time": "2023-04-21T19:59:52.815Z"
   },
   {
    "duration": 159,
    "start_time": "2023-04-21T20:00:01.912Z"
   },
   {
    "duration": 161,
    "start_time": "2023-04-21T20:00:09.947Z"
   },
   {
    "duration": 183,
    "start_time": "2023-04-21T20:00:16.440Z"
   },
   {
    "duration": 200,
    "start_time": "2023-04-21T20:00:50.938Z"
   },
   {
    "duration": 275,
    "start_time": "2023-04-21T20:01:56.504Z"
   },
   {
    "duration": 253,
    "start_time": "2023-04-21T20:06:01.603Z"
   },
   {
    "duration": 406,
    "start_time": "2023-04-21T20:06:08.213Z"
   },
   {
    "duration": 285,
    "start_time": "2023-04-21T20:07:24.413Z"
   },
   {
    "duration": 273,
    "start_time": "2023-04-21T20:08:11.841Z"
   },
   {
    "duration": 250,
    "start_time": "2023-04-21T20:10:34.484Z"
   },
   {
    "duration": 1212,
    "start_time": "2023-04-21T20:27:57.714Z"
   },
   {
    "duration": 32,
    "start_time": "2023-04-21T20:28:03.875Z"
   },
   {
    "duration": 259,
    "start_time": "2023-04-21T20:28:05.032Z"
   },
   {
    "duration": 292,
    "start_time": "2023-04-21T20:31:40.355Z"
   },
   {
    "duration": 23,
    "start_time": "2023-04-21T20:56:15.525Z"
   },
   {
    "duration": 12,
    "start_time": "2023-04-21T20:56:25.402Z"
   },
   {
    "duration": 13,
    "start_time": "2023-04-21T20:56:38.847Z"
   },
   {
    "duration": 11,
    "start_time": "2023-04-21T20:56:45.350Z"
   },
   {
    "duration": 7,
    "start_time": "2023-04-21T20:57:33.789Z"
   },
   {
    "duration": 7,
    "start_time": "2023-04-21T20:59:27.925Z"
   },
   {
    "duration": 6,
    "start_time": "2023-04-21T20:59:34.193Z"
   },
   {
    "duration": 7,
    "start_time": "2023-04-21T20:59:39.237Z"
   },
   {
    "duration": 5,
    "start_time": "2023-04-21T20:59:52.397Z"
   },
   {
    "duration": 1741,
    "start_time": "2023-04-21T21:01:15.401Z"
   },
   {
    "duration": 15,
    "start_time": "2023-04-21T21:02:54.225Z"
   },
   {
    "duration": 26,
    "start_time": "2023-04-21T21:02:58.371Z"
   },
   {
    "duration": 14,
    "start_time": "2023-04-21T21:03:02.609Z"
   },
   {
    "duration": 1420,
    "start_time": "2023-04-21T21:03:42.842Z"
   },
   {
    "duration": 8,
    "start_time": "2023-04-21T21:03:44.264Z"
   },
   {
    "duration": 831,
    "start_time": "2023-04-21T21:03:44.273Z"
   },
   {
    "duration": 2,
    "start_time": "2023-04-21T21:03:45.106Z"
   },
   {
    "duration": 27,
    "start_time": "2023-04-21T21:03:45.112Z"
   },
   {
    "duration": 21,
    "start_time": "2023-04-21T21:03:45.141Z"
   },
   {
    "duration": 45,
    "start_time": "2023-04-21T21:03:45.163Z"
   },
   {
    "duration": 14,
    "start_time": "2023-04-21T21:03:45.277Z"
   },
   {
    "duration": 4,
    "start_time": "2023-04-21T21:03:46.039Z"
   },
   {
    "duration": 14,
    "start_time": "2023-04-21T21:03:46.920Z"
   },
   {
    "duration": 17,
    "start_time": "2023-04-21T21:03:46.953Z"
   },
   {
    "duration": 331,
    "start_time": "2023-04-21T21:03:48.109Z"
   },
   {
    "duration": 310,
    "start_time": "2023-04-21T21:03:48.442Z"
   },
   {
    "duration": 325,
    "start_time": "2023-04-21T21:03:48.754Z"
   },
   {
    "duration": 375,
    "start_time": "2023-04-21T21:03:49.099Z"
   },
   {
    "duration": 280,
    "start_time": "2023-04-21T21:03:50.050Z"
   },
   {
    "duration": 279,
    "start_time": "2023-04-21T21:03:50.572Z"
   },
   {
    "duration": 39,
    "start_time": "2023-04-21T21:03:53.109Z"
   },
   {
    "duration": 276,
    "start_time": "2023-04-21T21:03:54.441Z"
   },
   {
    "duration": 28,
    "start_time": "2023-04-21T21:03:57.225Z"
   },
   {
    "duration": 10,
    "start_time": "2023-04-21T21:04:02.446Z"
   },
   {
    "duration": 9,
    "start_time": "2023-04-21T21:04:15.860Z"
   },
   {
    "duration": 21,
    "start_time": "2023-04-21T21:04:43.172Z"
   },
   {
    "duration": 32,
    "start_time": "2023-04-21T21:06:44.015Z"
   },
   {
    "duration": 1807,
    "start_time": "2023-04-21T21:07:37.101Z"
   },
   {
    "duration": 1951,
    "start_time": "2023-04-21T21:07:48.419Z"
   },
   {
    "duration": 1589,
    "start_time": "2023-04-21T21:08:03.672Z"
   },
   {
    "duration": 2066,
    "start_time": "2023-04-21T21:08:11.169Z"
   },
   {
    "duration": 121,
    "start_time": "2023-04-21T21:09:03.735Z"
   },
   {
    "duration": 1376,
    "start_time": "2023-04-21T21:09:50.784Z"
   },
   {
    "duration": 11,
    "start_time": "2023-04-21T21:09:52.162Z"
   },
   {
    "duration": 840,
    "start_time": "2023-04-21T21:09:52.174Z"
   },
   {
    "duration": 3,
    "start_time": "2023-04-21T21:09:53.016Z"
   },
   {
    "duration": 69,
    "start_time": "2023-04-21T21:09:53.020Z"
   },
   {
    "duration": 37,
    "start_time": "2023-04-21T21:09:53.091Z"
   },
   {
    "duration": 36,
    "start_time": "2023-04-21T21:09:53.130Z"
   },
   {
    "duration": 14,
    "start_time": "2023-04-21T21:09:53.167Z"
   },
   {
    "duration": 38,
    "start_time": "2023-04-21T21:09:53.183Z"
   },
   {
    "duration": 39,
    "start_time": "2023-04-21T21:09:53.223Z"
   },
   {
    "duration": 16,
    "start_time": "2023-04-21T21:09:53.265Z"
   },
   {
    "duration": 329,
    "start_time": "2023-04-21T21:09:53.283Z"
   },
   {
    "duration": 309,
    "start_time": "2023-04-21T21:09:53.614Z"
   },
   {
    "duration": 335,
    "start_time": "2023-04-21T21:09:53.925Z"
   },
   {
    "duration": 399,
    "start_time": "2023-04-21T21:09:54.262Z"
   },
   {
    "duration": 298,
    "start_time": "2023-04-21T21:09:54.662Z"
   },
   {
    "duration": 287,
    "start_time": "2023-04-21T21:09:54.962Z"
   },
   {
    "duration": 41,
    "start_time": "2023-04-21T21:10:02.725Z"
   },
   {
    "duration": 282,
    "start_time": "2023-04-21T21:10:04.580Z"
   },
   {
    "duration": 44,
    "start_time": "2023-04-21T21:10:07.249Z"
   },
   {
    "duration": 37,
    "start_time": "2023-04-21T21:10:30.375Z"
   },
   {
    "duration": 31,
    "start_time": "2023-04-21T21:10:38.583Z"
   },
   {
    "duration": 29,
    "start_time": "2023-04-21T21:15:54.135Z"
   },
   {
    "duration": 46,
    "start_time": "2023-04-21T21:17:40.460Z"
   },
   {
    "duration": 39,
    "start_time": "2023-04-21T21:17:51.734Z"
   },
   {
    "duration": 26,
    "start_time": "2023-04-21T21:20:40.954Z"
   },
   {
    "duration": 53,
    "start_time": "2023-04-21T21:20:47.695Z"
   },
   {
    "duration": 28,
    "start_time": "2023-04-21T21:20:55.837Z"
   },
   {
    "duration": 455,
    "start_time": "2023-04-21T21:26:04.129Z"
   },
   {
    "duration": 424,
    "start_time": "2023-04-21T21:26:06.783Z"
   },
   {
    "duration": 339,
    "start_time": "2023-04-21T21:26:11.209Z"
   },
   {
    "duration": 349,
    "start_time": "2023-04-21T21:26:15.941Z"
   },
   {
    "duration": 1262,
    "start_time": "2023-04-21T21:32:57.634Z"
   },
   {
    "duration": 6,
    "start_time": "2023-04-21T21:32:58.898Z"
   },
   {
    "duration": 742,
    "start_time": "2023-04-21T21:32:58.906Z"
   },
   {
    "duration": 2,
    "start_time": "2023-04-21T21:32:59.651Z"
   },
   {
    "duration": 54,
    "start_time": "2023-04-21T21:32:59.655Z"
   },
   {
    "duration": 27,
    "start_time": "2023-04-21T21:32:59.711Z"
   },
   {
    "duration": 21,
    "start_time": "2023-04-21T21:32:59.740Z"
   },
   {
    "duration": 15,
    "start_time": "2023-04-21T21:32:59.783Z"
   },
   {
    "duration": 6,
    "start_time": "2023-04-21T21:32:59.800Z"
   },
   {
    "duration": 25,
    "start_time": "2023-04-21T21:32:59.809Z"
   },
   {
    "duration": 27,
    "start_time": "2023-04-21T21:32:59.840Z"
   },
   {
    "duration": 342,
    "start_time": "2023-04-21T21:32:59.869Z"
   },
   {
    "duration": 326,
    "start_time": "2023-04-21T21:33:00.213Z"
   },
   {
    "duration": 346,
    "start_time": "2023-04-21T21:33:00.541Z"
   },
   {
    "duration": 411,
    "start_time": "2023-04-21T21:33:00.889Z"
   },
   {
    "duration": 288,
    "start_time": "2023-04-21T21:33:01.302Z"
   },
   {
    "duration": 273,
    "start_time": "2023-04-21T21:33:01.593Z"
   },
   {
    "duration": 50,
    "start_time": "2023-04-21T21:33:01.868Z"
   },
   {
    "duration": 273,
    "start_time": "2023-04-21T21:33:01.920Z"
   },
   {
    "duration": 53,
    "start_time": "2023-04-21T21:33:02.195Z"
   },
   {
    "duration": 5,
    "start_time": "2023-04-21T21:33:02.251Z"
   },
   {
    "duration": 36,
    "start_time": "2023-04-21T21:33:02.258Z"
   },
   {
    "duration": 28,
    "start_time": "2023-04-21T21:33:02.296Z"
   },
   {
    "duration": 18285,
    "start_time": "2023-04-21T21:33:02.325Z"
   },
   {
    "duration": 599855,
    "start_time": "2023-04-21T21:33:20.611Z"
   },
   {
    "duration": 1629,
    "start_time": "2023-04-21T21:43:20.468Z"
   },
   {
    "duration": 236,
    "start_time": "2023-04-21T21:43:22.101Z"
   },
   {
    "duration": 163,
    "start_time": "2023-04-21T21:43:22.340Z"
   },
   {
    "duration": 39764,
    "start_time": "2023-04-21T21:43:22.506Z"
   },
   {
    "duration": 2919,
    "start_time": "2023-04-21T21:44:02.273Z"
   },
   {
    "duration": 1388795,
    "start_time": "2023-04-21T21:44:05.194Z"
   },
   {
    "duration": 92,
    "start_time": "2023-04-21T22:07:13.991Z"
   },
   {
    "duration": 116,
    "start_time": "2023-04-21T22:07:14.085Z"
   },
   {
    "duration": 0,
    "start_time": "2023-04-21T22:07:14.202Z"
   },
   {
    "duration": 0,
    "start_time": "2023-04-21T22:07:14.203Z"
   },
   {
    "duration": 0,
    "start_time": "2023-04-21T22:07:14.204Z"
   },
   {
    "duration": 0,
    "start_time": "2023-04-21T22:07:14.205Z"
   },
   {
    "duration": 130,
    "start_time": "2023-04-21T22:08:25.415Z"
   },
   {
    "duration": 9,
    "start_time": "2023-04-21T22:08:32.791Z"
   },
   {
    "duration": 1397,
    "start_time": "2023-04-21T22:08:33.289Z"
   },
   {
    "duration": 65929,
    "start_time": "2023-04-21T22:08:34.689Z"
   },
   {
    "duration": 4963,
    "start_time": "2023-04-21T22:10:55.407Z"
   },
   {
    "duration": 81,
    "start_time": "2023-04-21T22:11:21.159Z"
   },
   {
    "duration": 2520,
    "start_time": "2023-04-21T22:11:24.832Z"
   },
   {
    "duration": 94,
    "start_time": "2023-04-21T22:14:53.798Z"
   },
   {
    "duration": 275,
    "start_time": "2023-04-21T22:15:03.643Z"
   },
   {
    "duration": 2849,
    "start_time": "2023-04-21T22:15:08.109Z"
   },
   {
    "duration": 49,
    "start_time": "2023-04-21T22:15:42.001Z"
   },
   {
    "duration": 79,
    "start_time": "2023-04-21T22:15:54.297Z"
   },
   {
    "duration": 2246,
    "start_time": "2023-04-21T22:16:29.084Z"
   },
   {
    "duration": 46,
    "start_time": "2023-04-21T22:17:27.515Z"
   },
   {
    "duration": 100,
    "start_time": "2023-04-21T22:17:38.979Z"
   },
   {
    "duration": 101,
    "start_time": "2023-04-21T22:18:44.627Z"
   },
   {
    "duration": 2243,
    "start_time": "2023-04-22T17:41:25.519Z"
   },
   {
    "duration": 8,
    "start_time": "2023-04-22T17:41:27.764Z"
   },
   {
    "duration": 1363,
    "start_time": "2023-04-22T17:41:27.773Z"
   },
   {
    "duration": 2,
    "start_time": "2023-04-22T17:41:29.138Z"
   },
   {
    "duration": 34,
    "start_time": "2023-04-22T17:41:29.142Z"
   },
   {
    "duration": 71,
    "start_time": "2023-04-22T17:41:29.177Z"
   },
   {
    "duration": 86,
    "start_time": "2023-04-22T17:41:29.249Z"
   },
   {
    "duration": 9,
    "start_time": "2023-04-22T17:41:29.336Z"
   },
   {
    "duration": 3,
    "start_time": "2023-04-22T17:41:29.347Z"
   },
   {
    "duration": 14,
    "start_time": "2023-04-22T17:41:29.352Z"
   },
   {
    "duration": 71,
    "start_time": "2023-04-22T17:41:29.368Z"
   },
   {
    "duration": 618,
    "start_time": "2023-04-22T17:41:29.441Z"
   },
   {
    "duration": 596,
    "start_time": "2023-04-22T17:41:30.061Z"
   },
   {
    "duration": 677,
    "start_time": "2023-04-22T17:41:30.660Z"
   },
   {
    "duration": 711,
    "start_time": "2023-04-22T17:41:31.338Z"
   },
   {
    "duration": 499,
    "start_time": "2023-04-22T17:41:32.050Z"
   },
   {
    "duration": 495,
    "start_time": "2023-04-22T17:41:32.551Z"
   },
   {
    "duration": 93,
    "start_time": "2023-04-22T17:41:33.047Z"
   },
   {
    "duration": 492,
    "start_time": "2023-04-22T17:41:33.141Z"
   },
   {
    "duration": 104,
    "start_time": "2023-04-22T17:41:33.636Z"
   },
   {
    "duration": 5,
    "start_time": "2023-04-22T17:41:33.741Z"
   },
   {
    "duration": 12,
    "start_time": "2023-04-22T17:41:33.748Z"
   },
   {
    "duration": 7,
    "start_time": "2023-04-22T17:41:33.761Z"
   },
   {
    "duration": 32989,
    "start_time": "2023-04-22T17:41:33.769Z"
   },
   {
    "duration": 4038093,
    "start_time": "2023-04-22T17:42:06.760Z"
   },
   {
    "duration": 2488,
    "start_time": "2023-04-22T18:49:24.855Z"
   },
   {
    "duration": 490,
    "start_time": "2023-04-22T18:49:27.344Z"
   },
   {
    "duration": 706,
    "start_time": "2023-04-22T18:49:27.836Z"
   },
   {
    "duration": 163610,
    "start_time": "2023-04-22T18:49:28.544Z"
   },
   {
    "duration": 4304,
    "start_time": "2023-04-22T18:52:12.235Z"
   },
   {
    "duration": 59,
    "start_time": "2023-04-22T22:49:43.404Z"
   },
   {
    "duration": 1651,
    "start_time": "2023-04-22T22:49:52.202Z"
   },
   {
    "duration": 13,
    "start_time": "2023-04-22T22:49:53.856Z"
   },
   {
    "duration": 3367,
    "start_time": "2023-04-22T22:49:53.871Z"
   },
   {
    "duration": 6,
    "start_time": "2023-04-22T22:49:57.240Z"
   },
   {
    "duration": 57,
    "start_time": "2023-04-22T22:49:57.248Z"
   },
   {
    "duration": 34,
    "start_time": "2023-04-22T22:49:57.307Z"
   },
   {
    "duration": 53,
    "start_time": "2023-04-22T22:49:57.344Z"
   },
   {
    "duration": 27,
    "start_time": "2023-04-22T22:49:57.399Z"
   },
   {
    "duration": 61,
    "start_time": "2023-04-22T22:49:57.428Z"
   },
   {
    "duration": 37,
    "start_time": "2023-04-22T22:49:57.491Z"
   },
   {
    "duration": 43,
    "start_time": "2023-04-22T22:49:57.530Z"
   },
   {
    "duration": 393,
    "start_time": "2023-04-22T22:49:57.576Z"
   },
   {
    "duration": 363,
    "start_time": "2023-04-22T22:49:58.649Z"
   },
   {
    "duration": 426,
    "start_time": "2023-04-22T22:49:59.671Z"
   },
   {
    "duration": 520,
    "start_time": "2023-04-22T22:50:00.100Z"
   },
   {
    "duration": 322,
    "start_time": "2023-04-22T22:50:01.380Z"
   },
   {
    "duration": 325,
    "start_time": "2023-04-22T22:50:08.072Z"
   },
   {
    "duration": 365,
    "start_time": "2023-04-22T22:50:30.318Z"
   },
   {
    "duration": 181,
    "start_time": "2023-04-22T22:54:19.911Z"
   },
   {
    "duration": 46,
    "start_time": "2023-04-22T22:54:28.359Z"
   },
   {
    "duration": 279,
    "start_time": "2023-04-22T22:54:28.618Z"
   },
   {
    "duration": 84,
    "start_time": "2023-04-22T22:54:28.900Z"
   },
   {
    "duration": 6,
    "start_time": "2023-04-22T22:54:30.419Z"
   },
   {
    "duration": 6,
    "start_time": "2023-04-22T22:54:30.660Z"
   },
   {
    "duration": 4,
    "start_time": "2023-04-22T22:54:31.073Z"
   },
   {
    "duration": 1590,
    "start_time": "2023-04-22T22:54:47.661Z"
   },
   {
    "duration": 10,
    "start_time": "2023-04-22T22:54:49.255Z"
   },
   {
    "duration": 736,
    "start_time": "2023-04-22T22:54:49.267Z"
   },
   {
    "duration": 3,
    "start_time": "2023-04-22T22:54:50.005Z"
   },
   {
    "duration": 119,
    "start_time": "2023-04-22T22:54:50.010Z"
   },
   {
    "duration": 88,
    "start_time": "2023-04-22T22:54:50.131Z"
   },
   {
    "duration": 94,
    "start_time": "2023-04-22T22:54:50.221Z"
   },
   {
    "duration": 81,
    "start_time": "2023-04-22T22:54:50.318Z"
   },
   {
    "duration": 5,
    "start_time": "2023-04-22T22:54:50.874Z"
   },
   {
    "duration": 19,
    "start_time": "2023-04-22T22:54:51.649Z"
   },
   {
    "duration": 27,
    "start_time": "2023-04-22T22:54:51.825Z"
   },
   {
    "duration": 372,
    "start_time": "2023-04-22T22:54:52.723Z"
   },
   {
    "duration": 347,
    "start_time": "2023-04-22T22:54:53.484Z"
   },
   {
    "duration": 379,
    "start_time": "2023-04-22T22:54:54.045Z"
   },
   {
    "duration": 482,
    "start_time": "2023-04-22T22:54:54.426Z"
   },
   {
    "duration": 363,
    "start_time": "2023-04-22T22:54:54.910Z"
   },
   {
    "duration": 367,
    "start_time": "2023-04-22T22:54:55.276Z"
   },
   {
    "duration": 49,
    "start_time": "2023-04-22T22:54:57.015Z"
   },
   {
    "duration": 323,
    "start_time": "2023-04-22T22:54:57.212Z"
   },
   {
    "duration": 68,
    "start_time": "2023-04-22T22:54:57.537Z"
   },
   {
    "duration": 6,
    "start_time": "2023-04-22T22:55:00.102Z"
   },
   {
    "duration": 7,
    "start_time": "2023-04-22T22:55:00.795Z"
   },
   {
    "duration": 3,
    "start_time": "2023-04-22T22:55:01.666Z"
   },
   {
    "duration": 18719,
    "start_time": "2023-04-22T22:55:02.877Z"
   },
   {
    "duration": 1926,
    "start_time": "2023-04-22T22:55:56.818Z"
   },
   {
    "duration": 18243,
    "start_time": "2023-04-22T22:56:28.020Z"
   },
   {
    "duration": 1600,
    "start_time": "2023-04-22T22:58:02.460Z"
   },
   {
    "duration": 1396,
    "start_time": "2023-04-22T23:01:19.653Z"
   },
   {
    "duration": 121,
    "start_time": "2023-04-22T23:03:48.604Z"
   },
   {
    "duration": 12,
    "start_time": "2023-04-22T23:04:09.594Z"
   },
   {
    "duration": 12,
    "start_time": "2023-04-22T23:04:12.900Z"
   },
   {
    "duration": 50,
    "start_time": "2023-04-22T23:04:13.909Z"
   },
   {
    "duration": 1502412,
    "start_time": "2023-04-22T23:05:13.789Z"
   },
   {
    "duration": 41,
    "start_time": "2023-04-22T23:30:56.555Z"
   },
   {
    "duration": 4,
    "start_time": "2023-04-22T23:31:00.967Z"
   },
   {
    "duration": 42738,
    "start_time": "2023-04-22T23:36:50.431Z"
   },
   {
    "duration": 48,
    "start_time": "2023-04-22T23:37:53.800Z"
   },
   {
    "duration": 16,
    "start_time": "2023-04-22T23:38:05.324Z"
   },
   {
    "duration": 529,
    "start_time": "2023-04-22T23:38:41.560Z"
   },
   {
    "duration": 354,
    "start_time": "2023-04-22T23:38:58.869Z"
   },
   {
    "duration": 326,
    "start_time": "2023-04-22T23:39:10.271Z"
   },
   {
    "duration": 372,
    "start_time": "2023-04-22T23:39:18.333Z"
   },
   {
    "duration": 389,
    "start_time": "2023-04-22T23:39:41.014Z"
   },
   {
    "duration": 488,
    "start_time": "2023-04-22T23:39:48.701Z"
   },
   {
    "duration": 390,
    "start_time": "2023-04-22T23:40:09.455Z"
   },
   {
    "duration": 392,
    "start_time": "2023-04-22T23:40:15.930Z"
   },
   {
    "duration": 3895,
    "start_time": "2023-04-23T16:52:55.014Z"
   },
   {
    "duration": 76,
    "start_time": "2023-04-23T16:52:58.912Z"
   },
   {
    "duration": 2204,
    "start_time": "2023-04-23T16:52:58.990Z"
   },
   {
    "duration": 3,
    "start_time": "2023-04-23T16:53:01.196Z"
   },
   {
    "duration": 183,
    "start_time": "2023-04-23T16:53:01.202Z"
   },
   {
    "duration": 28,
    "start_time": "2023-04-23T16:53:01.387Z"
   },
   {
    "duration": 22,
    "start_time": "2023-04-23T16:53:01.485Z"
   },
   {
    "duration": 83,
    "start_time": "2023-04-23T16:53:01.509Z"
   },
   {
    "duration": 4,
    "start_time": "2023-04-23T16:53:01.594Z"
   },
   {
    "duration": 94,
    "start_time": "2023-04-23T16:53:01.600Z"
   },
   {
    "duration": 105,
    "start_time": "2023-04-23T16:53:01.696Z"
   },
   {
    "duration": 1101,
    "start_time": "2023-04-23T16:53:01.802Z"
   },
   {
    "duration": 1093,
    "start_time": "2023-04-23T16:53:02.906Z"
   },
   {
    "duration": 1307,
    "start_time": "2023-04-23T16:53:04.003Z"
   },
   {
    "duration": 1290,
    "start_time": "2023-04-23T16:53:05.312Z"
   },
   {
    "duration": 1093,
    "start_time": "2023-04-23T16:53:06.604Z"
   },
   {
    "duration": 1188,
    "start_time": "2023-04-23T16:53:07.699Z"
   },
   {
    "duration": 115,
    "start_time": "2023-04-23T16:53:08.889Z"
   },
   {
    "duration": 1006,
    "start_time": "2023-04-23T16:53:09.006Z"
   },
   {
    "duration": 118,
    "start_time": "2023-04-23T16:53:10.086Z"
   },
   {
    "duration": 5,
    "start_time": "2023-04-23T16:53:10.206Z"
   },
   {
    "duration": 7,
    "start_time": "2023-04-23T16:53:10.286Z"
   },
   {
    "duration": 8,
    "start_time": "2023-04-23T16:53:10.294Z"
   },
   {
    "duration": 53683,
    "start_time": "2023-04-23T16:53:10.304Z"
   },
   {
    "duration": 995372,
    "start_time": "2023-04-23T16:54:03.989Z"
   },
   {
    "duration": 1726,
    "start_time": "2023-04-23T17:10:39.363Z"
   },
   {
    "duration": 244,
    "start_time": "2023-04-23T17:10:41.092Z"
   },
   {
    "duration": 248,
    "start_time": "2023-04-23T17:10:41.337Z"
   },
   {
    "duration": 40361,
    "start_time": "2023-04-23T17:10:41.587Z"
   },
   {
    "duration": 3042,
    "start_time": "2023-04-23T17:11:21.950Z"
   },
   {
    "duration": 1550284,
    "start_time": "2023-04-23T17:11:24.995Z"
   },
   {
    "duration": 79,
    "start_time": "2023-04-23T17:37:15.280Z"
   },
   {
    "duration": 152,
    "start_time": "2023-04-23T17:37:15.361Z"
   },
   {
    "duration": 9,
    "start_time": "2023-04-23T17:37:15.515Z"
   },
   {
    "duration": 68,
    "start_time": "2023-04-23T17:37:15.525Z"
   },
   {
    "duration": 117,
    "start_time": "2023-04-23T17:37:15.595Z"
   },
   {
    "duration": 3,
    "start_time": "2023-04-23T17:37:15.714Z"
   }
  ],
  "kernelspec": {
   "display_name": "Python 3 (ipykernel)",
   "language": "python",
   "name": "python3"
  },
  "language_info": {
   "codemirror_mode": {
    "name": "ipython",
    "version": 3
   },
   "file_extension": ".py",
   "mimetype": "text/x-python",
   "name": "python",
   "nbconvert_exporter": "python",
   "pygments_lexer": "ipython3",
   "version": "3.10.9"
  },
  "toc": {
   "base_numbering": 1,
   "nav_menu": {},
   "number_sections": true,
   "sideBar": true,
   "skip_h1_title": true,
   "title_cell": "Содержание",
   "title_sidebar": "Contents",
   "toc_cell": true,
   "toc_position": {
    "height": "calc(100% - 180px)",
    "left": "10px",
    "top": "150px",
    "width": "371px"
   },
   "toc_section_display": true,
   "toc_window_display": true
  }
 },
 "nbformat": 4,
 "nbformat_minor": 2
}
